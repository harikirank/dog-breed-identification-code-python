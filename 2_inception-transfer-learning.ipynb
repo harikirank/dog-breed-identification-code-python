{
 "cells": [
  {
   "cell_type": "code",
   "execution_count": 3,
   "metadata": {
    "colab": {
     "base_uri": "https://localhost:8080/"
    },
    "id": "7_O-eMW5oX49",
    "outputId": "0f3d642c-56bb-48a7-8d87-a4a376d27718"
   },
   "outputs": [
    {
     "name": "stdout",
     "output_type": "stream",
     "text": [
      "Mounted at /content/drive\n"
     ]
    }
   ],
   "source": [
    "from google.colab import drive\n",
    "drive.mount('/content/drive')"
   ]
  },
  {
   "cell_type": "code",
   "execution_count": 38,
   "metadata": {
    "execution": {
     "iopub.execute_input": "2023-04-29T02:44:39.452721Z",
     "iopub.status.busy": "2023-04-29T02:44:39.451640Z",
     "iopub.status.idle": "2023-04-29T02:44:39.466590Z",
     "shell.execute_reply": "2023-04-29T02:44:39.465297Z",
     "shell.execute_reply.started": "2023-04-29T02:44:39.452670Z"
    },
    "id": "-wv5nNy8n7h-"
   },
   "outputs": [],
   "source": [
    "import random\n",
    "import os\n",
    "import glob\n",
    "import numpy as np\n",
    "import pandas as pd\n",
    "import sys\n",
    "import matplotlib.pyplot as plt\n",
    "import tqdm.notebook as tq\n",
    "%matplotlib inline\n",
    "from mpl_toolkits.axes_grid1 import ImageGrid\n",
    "import warnings\n",
    "warnings.filterwarnings('ignore')\n",
    "\n",
    "import torch\n",
    "from torch.utils.data import DataLoader\n",
    "import torchvision.transforms as transforms\n",
    "import torch.nn.functional as F\n",
    "import torch.nn as nn\n",
    "from torchvision import datasets, transforms, models\n",
    "from torchvision.utils import make_grid\n",
    "\n",
    "from keras.utils import load_img, img_to_array\n",
    "from keras.applications.vgg16 import preprocess_input\n",
    "\n",
    "from PIL import Image\n",
    "from IPython.display import display\n",
    "import cv2\n",
    "from PIL import ImageFile\n",
    "\n",
    "from sklearn.model_selection import train_test_split\n",
    "from sklearn.metrics import log_loss, accuracy_score, classification_report, precision_recall_fscore_support, confusion_matrix, precision_score, recall_score, f1_score\n",
    "\n",
    "ImageFile.LOAD_TRUNCATED_IMAGES = True\n",
    "\n",
    "from torchvision.transforms.functional import InterpolationMode"
   ]
  },
  {
   "cell_type": "code",
   "execution_count": 2,
   "metadata": {
    "execution": {
     "iopub.execute_input": "2023-04-29T02:44:40.025554Z",
     "iopub.status.busy": "2023-04-29T02:44:40.025184Z",
     "iopub.status.idle": "2023-04-29T02:44:40.035901Z",
     "shell.execute_reply": "2023-04-29T02:44:40.034826Z",
     "shell.execute_reply.started": "2023-04-29T02:44:40.025521Z"
    },
    "id": "MYxYPFO5n7iB"
   },
   "outputs": [],
   "source": [
    "def path_given_id(id, test=False):\n",
    "    \"\"\"\n",
    "    Returns the full path to the image given the id of the image.\n",
    "    Parameters:\n",
    "        - id: The id of the image.\n",
    "        - test: If True returns the relative path from the test folder. Otherwise, returns the relative path to the image from the training folder.\n",
    "    Returns:\n",
    "        - The full relative path to the image with the give in id.\n",
    "    \"\"\"\n",
    "    return IMAGES_PATH + ('train/' if not test else 'test/') + str(id) + '.jpg'\n",
    "\n",
    "def get_img_array(id, test=False):\n",
    "    \"\"\"\n",
    "    Loads the image from the given id, convert the image to a numpy array and return the numpy array.\n",
    "    Parameters:\n",
    "        - id: The id of the image.\n",
    "        - test: If True, loads the image from the test folder. If False,loads the image from the train folder.\n",
    "    Returns:\n",
    "        - The image with the give id as a numpy array.\n",
    "    \"\"\"\n",
    "    img = load_img(path_given_id(id, test), target_size=(224, 224))\n",
    "    return img_to_array(img)\n",
    "\n",
    "# preprocess_input(np.expand_dims(get_image_array(id, test), axis=0)) will convert the image into 1,224,224,3 to give to predict.\n",
    "def process_image(id, test=False):\n",
    "    return preprocess_input(np.expand_dims(get_img_array(id, test), axis=0))"
   ]
  },
  {
   "cell_type": "markdown",
   "metadata": {
    "id": "k-EZbUamn7iC"
   },
   "source": [
    "# 1. Load the dataset"
   ]
  },
  {
   "cell_type": "code",
   "execution_count": 4,
   "metadata": {
    "execution": {
     "iopub.execute_input": "2023-04-29T02:44:41.182131Z",
     "iopub.status.busy": "2023-04-29T02:44:41.181394Z",
     "iopub.status.idle": "2023-04-29T02:44:41.786096Z",
     "shell.execute_reply": "2023-04-29T02:44:41.784993Z",
     "shell.execute_reply.started": "2023-04-29T02:44:41.182090Z"
    },
    "id": "kNYjQLiHn7iD"
   },
   "outputs": [],
   "source": [
    "IMAGES_PATH = '/content/drive/MyDrive/dog_breed_identification_files/'\n",
    "\n",
    "labels = pd.read_csv(IMAGES_PATH +'labels.csv')\n",
    "labelnames = pd.read_csv(IMAGES_PATH  + 'sample_submission.csv').keys()[1:]"
   ]
  },
  {
   "cell_type": "code",
   "execution_count": 5,
   "metadata": {
    "execution": {
     "iopub.execute_input": "2023-04-29T02:44:43.489274Z",
     "iopub.status.busy": "2023-04-29T02:44:43.488561Z",
     "iopub.status.idle": "2023-04-29T02:44:43.593165Z",
     "shell.execute_reply": "2023-04-29T02:44:43.592131Z",
     "shell.execute_reply.started": "2023-04-29T02:44:43.489235Z"
    },
    "id": "TIvuuCEjn7iE"
   },
   "outputs": [],
   "source": [
    "codes = range(len(labelnames))\n",
    "breed_to_code = dict(zip(labelnames, codes))\n",
    "code_to_breed = dict(zip(codes, labelnames))\n",
    "\n",
    "labels['target'] =  [breed_to_code[x] for x in labels.breed]\n",
    "labels['rank'] = labels.groupby('breed').rank()['id']\n",
    "labels_pivot = labels.pivot('id', 'breed', 'target').reset_index().fillna(0)\n",
    "\n",
    "training_data = labels_pivot.sample(frac=0.85)\n",
    "validation_data = labels_pivot[~labels_pivot['id'].isin(training_data['id'])]\n",
    "testing_data = training_data.sample(frac=0.25)\n",
    "training_data = training_data[~training_data['id'].isin(testing_data['id'])]"
   ]
  },
  {
   "cell_type": "code",
   "execution_count": 6,
   "metadata": {
    "colab": {
     "base_uri": "https://localhost:8080/"
    },
    "execution": {
     "iopub.execute_input": "2023-04-29T02:44:45.018681Z",
     "iopub.status.busy": "2023-04-29T02:44:45.017504Z",
     "iopub.status.idle": "2023-04-29T02:44:45.027331Z",
     "shell.execute_reply": "2023-04-29T02:44:45.025886Z",
     "shell.execute_reply.started": "2023-04-29T02:44:45.018636Z"
    },
    "id": "JCldyQ0ln7iE",
    "outputId": "76a2e5b9-c298-4182-e39d-19952fee81af"
   },
   "outputs": [
    {
     "data": {
      "text/plain": [
       "((6517, 121), (1533, 121), (2172, 121))"
      ]
     },
     "execution_count": 6,
     "metadata": {},
     "output_type": "execute_result"
    }
   ],
   "source": [
    "training_data.shape, validation_data.shape, testing_data.shape"
   ]
  },
  {
   "cell_type": "markdown",
   "metadata": {
    "execution": {
     "iopub.execute_input": "2023-04-29T00:46:55.312819Z",
     "iopub.status.busy": "2023-04-29T00:46:55.312093Z",
     "iopub.status.idle": "2023-04-29T00:46:55.316947Z",
     "shell.execute_reply": "2023-04-29T00:46:55.315835Z",
     "shell.execute_reply.started": "2023-04-29T00:46:55.312780Z"
    },
    "id": "LI-y4vPyn7iF"
   },
   "source": [
    "# 2a. Define a baseline model and your model\n",
    "## Baseline model: most_frequent"
   ]
  },
  {
   "cell_type": "markdown",
   "metadata": {
    "id": "1q_k3bpzn7iF"
   },
   "source": [
    "## We are using most_frequent as our baseline model. And, we are using Resnet50 as our model.\n",
    "## We will use the all the same weights from the pretrained Resnet model and will change the final softmax layer."
   ]
  },
  {
   "cell_type": "code",
   "execution_count": 7,
   "metadata": {
    "execution": {
     "iopub.execute_input": "2023-04-29T00:47:21.586139Z",
     "iopub.status.busy": "2023-04-29T00:47:21.585436Z",
     "iopub.status.idle": "2023-04-29T00:47:21.593337Z",
     "shell.execute_reply": "2023-04-29T00:47:21.592304Z",
     "shell.execute_reply.started": "2023-04-29T00:47:21.586100Z"
    },
    "id": "_yIZH_djn7iF"
   },
   "outputs": [],
   "source": [
    "class BaselineModel:\n",
    "    \"\"\"\n",
    "    A baseline model. Here, we're using most_frequent as our baseline model.\n",
    "    The baseline model predicts the most frequent label in the dataset regardless of the input image.\n",
    "    \"\"\"\n",
    "    def __init__(self):\n",
    "        \"\"\"\n",
    "        Constructor to initialize the model.\n",
    "        Parameters: None\n",
    "        Returns: None\n",
    "        \"\"\"\n",
    "        self.images = None\n",
    "    \n",
    "    def fit(self, images, labels):\n",
    "        \"\"\"\n",
    "        Fits the Baseline model to the data.\n",
    "        Parameters:\n",
    "            - images: The training X values\n",
    "            - labels: The training y values\n",
    "        Returns:\n",
    "            - None\n",
    "        \"\"\"\n",
    "        self.images = images\n",
    "        self.labels = labels\n",
    "    \n",
    "    def predict(self, X_test):\n",
    "        \"\"\"\n",
    "        Returns the most frequent label for all of the images.\n",
    "        Parameters: \n",
    "            - X_test: The test images\n",
    "        Returns: The most frequent label for each of the input images\n",
    "        \"\"\"\n",
    "        return [self.most_frequent()] * len(X_test)\n",
    "    \n",
    "    def most_frequent(self):\n",
    "        \"\"\"\n",
    "        Finds most frequent label in the dataset.\n",
    "        Parameters: None\n",
    "        Returns: Returns the most frequent label\n",
    "        \"\"\"\n",
    "        return self.labels.value_counts().idxmax()"
   ]
  },
  {
   "cell_type": "markdown",
   "metadata": {
    "id": "wPhhLRKbn7iF"
   },
   "source": [
    "## 3a. Run a training loop on a training set with both models"
   ]
  },
  {
   "cell_type": "code",
   "execution_count": 8,
   "metadata": {
    "execution": {
     "iopub.execute_input": "2023-04-29T00:47:40.453226Z",
     "iopub.status.busy": "2023-04-29T00:47:40.452859Z",
     "iopub.status.idle": "2023-04-29T00:47:40.472289Z",
     "shell.execute_reply": "2023-04-29T00:47:40.471315Z",
     "shell.execute_reply.started": "2023-04-29T00:47:40.453192Z"
    },
    "id": "hIkFpJWFn7iG"
   },
   "outputs": [],
   "source": [
    "temp = pd.read_csv(IMAGES_PATH + 'labels.csv')\n",
    "\n",
    "X_train, X_test, y_train, y_test = train_test_split(temp['id'], temp['breed'], train_size=0.15, random_state=42)"
   ]
  },
  {
   "cell_type": "code",
   "execution_count": 9,
   "metadata": {
    "execution": {
     "iopub.execute_input": "2023-04-29T00:47:47.716737Z",
     "iopub.status.busy": "2023-04-29T00:47:47.716333Z",
     "iopub.status.idle": "2023-04-29T00:47:47.733345Z",
     "shell.execute_reply": "2023-04-29T00:47:47.732407Z",
     "shell.execute_reply.started": "2023-04-29T00:47:47.716700Z"
    },
    "id": "zjcSIvgmn7iG"
   },
   "outputs": [],
   "source": [
    "temp = pd.read_csv(IMAGES_PATH + 'labels.csv')\n",
    "\n",
    "baseline_model = BaselineModel()\n",
    "baseline_model.fit(X_train, y_train)"
   ]
  },
  {
   "cell_type": "markdown",
   "metadata": {
    "execution": {
     "iopub.execute_input": "2023-04-29T00:47:56.985293Z",
     "iopub.status.busy": "2023-04-29T00:47:56.984905Z",
     "iopub.status.idle": "2023-04-29T00:47:56.989968Z",
     "shell.execute_reply": "2023-04-29T00:47:56.988677Z",
     "shell.execute_reply.started": "2023-04-29T00:47:56.985257Z"
    },
    "id": "vYj16PUGn7iG"
   },
   "source": [
    "## 4a. Evaluate both models on a withheld test set"
   ]
  },
  {
   "cell_type": "code",
   "execution_count": 10,
   "metadata": {
    "colab": {
     "base_uri": "https://localhost:8080/"
    },
    "execution": {
     "iopub.execute_input": "2023-04-29T00:48:07.512156Z",
     "iopub.status.busy": "2023-04-29T00:48:07.511435Z",
     "iopub.status.idle": "2023-04-29T00:48:07.521799Z",
     "shell.execute_reply": "2023-04-29T00:48:07.520632Z",
     "shell.execute_reply.started": "2023-04-29T00:48:07.512118Z"
    },
    "id": "HMrl9uLWn7iG",
    "outputId": "ad01a024-23a3-4f0a-c05b-323a4185a8fc"
   },
   "outputs": [
    {
     "data": {
      "text/plain": [
       "['maltese_dog', 'maltese_dog', 'maltese_dog', 'maltese_dog', 'maltese_dog']"
      ]
     },
     "execution_count": 10,
     "metadata": {},
     "output_type": "execute_result"
    }
   ],
   "source": [
    "baseline_predictions = baseline_model.predict(X_test)\n",
    "baseline_predictions[:5]"
   ]
  },
  {
   "cell_type": "code",
   "execution_count": 11,
   "metadata": {
    "execution": {
     "iopub.execute_input": "2023-04-29T00:48:16.378229Z",
     "iopub.status.busy": "2023-04-29T00:48:16.377868Z",
     "iopub.status.idle": "2023-04-29T00:48:16.394846Z",
     "shell.execute_reply": "2023-04-29T00:48:16.393849Z",
     "shell.execute_reply.started": "2023-04-29T00:48:16.378195Z"
    },
    "id": "dDsXulyRn7iH"
   },
   "outputs": [],
   "source": [
    "acc_score = accuracy_score(y_test, baseline_predictions) * 100"
   ]
  },
  {
   "cell_type": "markdown",
   "metadata": {
    "id": "IporWbYOn7iH"
   },
   "source": [
    "## 5a. Display results on the test set for both models"
   ]
  },
  {
   "cell_type": "code",
   "execution_count": 12,
   "metadata": {
    "colab": {
     "base_uri": "https://localhost:8080/",
     "height": 35
    },
    "execution": {
     "iopub.execute_input": "2023-04-29T00:48:32.678963Z",
     "iopub.status.busy": "2023-04-29T00:48:32.678189Z",
     "iopub.status.idle": "2023-04-29T00:48:32.685328Z",
     "shell.execute_reply": "2023-04-29T00:48:32.684301Z",
     "shell.execute_reply.started": "2023-04-29T00:48:32.678923Z"
    },
    "id": "DxTU-DJon7iH",
    "outputId": "54e4a71a-55e7-4eb9-d0d9-2358562d5617"
   },
   "outputs": [
    {
     "data": {
      "application/vnd.google.colaboratory.intrinsic+json": {
       "type": "string"
      },
      "text/plain": [
       "'Accuracy for the baseline model:  1.09%'"
      ]
     },
     "execution_count": 12,
     "metadata": {},
     "output_type": "execute_result"
    }
   ],
   "source": [
    "f\"Accuracy for the baseline model: {acc_score : .2f}%\""
   ]
  },
  {
   "cell_type": "code",
   "execution_count": 13,
   "metadata": {
    "colab": {
     "base_uri": "https://localhost:8080/"
    },
    "execution": {
     "iopub.execute_input": "2023-04-29T00:48:38.223173Z",
     "iopub.status.busy": "2023-04-29T00:48:38.222798Z",
     "iopub.status.idle": "2023-04-29T00:48:38.272449Z",
     "shell.execute_reply": "2023-04-29T00:48:38.271391Z",
     "shell.execute_reply.started": "2023-04-29T00:48:38.223140Z"
    },
    "id": "leLS6Cnyn7iH",
    "outputId": "72a2a771-4d99-4e78-abff-337ee88b84e1"
   },
   "outputs": [
    {
     "data": {
      "text/plain": [
       "(9.111136686231634e-05, 0.008333333333333333, 0.0001802519732847602, None)"
      ]
     },
     "execution_count": 13,
     "metadata": {},
     "output_type": "execute_result"
    }
   ],
   "source": [
    "precision_recall_fscore_support(y_test, baseline_predictions, average='macro')"
   ]
  },
  {
   "cell_type": "code",
   "execution_count": 14,
   "metadata": {
    "colab": {
     "base_uri": "https://localhost:8080/"
    },
    "execution": {
     "iopub.execute_input": "2023-04-29T00:48:44.753590Z",
     "iopub.status.busy": "2023-04-29T00:48:44.750869Z",
     "iopub.status.idle": "2023-04-29T00:48:44.785620Z",
     "shell.execute_reply": "2023-04-29T00:48:44.784520Z",
     "shell.execute_reply.started": "2023-04-29T00:48:44.753554Z"
    },
    "id": "ry013CMzn7iH",
    "outputId": "d6bebf2c-ef3b-4354-f996-b4bb2dfa9d46"
   },
   "outputs": [
    {
     "data": {
      "text/plain": [
       "array([[0, 0, 0, ..., 0, 0, 0],\n",
       "       [0, 0, 0, ..., 0, 0, 0],\n",
       "       [0, 0, 0, ..., 0, 0, 0],\n",
       "       ...,\n",
       "       [0, 0, 0, ..., 0, 0, 0],\n",
       "       [0, 0, 0, ..., 0, 0, 0],\n",
       "       [0, 0, 0, ..., 0, 0, 0]])"
      ]
     },
     "execution_count": 14,
     "metadata": {},
     "output_type": "execute_result"
    }
   ],
   "source": [
    "confusion_matrix(y_test, baseline_predictions)"
   ]
  },
  {
   "cell_type": "markdown",
   "metadata": {
    "execution": {
     "iopub.execute_input": "2023-04-29T00:49:00.694403Z",
     "iopub.status.busy": "2023-04-29T00:49:00.693267Z",
     "iopub.status.idle": "2023-04-29T00:49:00.699222Z",
     "shell.execute_reply": "2023-04-29T00:49:00.698096Z",
     "shell.execute_reply.started": "2023-04-29T00:49:00.694352Z"
    },
    "id": "vzzxepzSn7iI"
   },
   "source": [
    "# 2b. Define a baseline model and your model\n",
    "## Proposed Model: InceptionV3 model"
   ]
  },
  {
   "cell_type": "markdown",
   "metadata": {
    "id": "RJj7Ysn9n7iI"
   },
   "source": [
    "# Dataset Augmentation\n",
    "## This will increase the size of the dataset. \n",
    "## In general these operations will not change what the image represents. For a deep learning model, the more the data the better the model will be able to find the optimal weights and thereby lowering the loss.\n",
    "## For example: A dog image horizontally flipped is still a dog; A dog rotated by an angle is still a dog; A dog image cropped with a reasonable crop rate is still a dog. "
   ]
  },
  {
   "cell_type": "code",
   "execution_count": 15,
   "metadata": {
    "execution": {
     "iopub.execute_input": "2023-04-29T02:44:51.756877Z",
     "iopub.status.busy": "2023-04-29T02:44:51.756240Z",
     "iopub.status.idle": "2023-04-29T02:44:51.765859Z",
     "shell.execute_reply": "2023-04-29T02:44:51.764768Z",
     "shell.execute_reply.started": "2023-04-29T02:44:51.756835Z"
    },
    "id": "ahlv_rpEn7iI"
   },
   "outputs": [],
   "source": [
    "img_transform = {\n",
    "    'valid':transforms.Compose([\n",
    "        transforms.Resize(size = 299, interpolation=InterpolationMode.BILINEAR),\n",
    "        transforms.CenterCrop(size = 299),\n",
    "        transforms.ToTensor(),\n",
    "        transforms.Normalize([0.485, 0.456, 0.406],\n",
    "                             [0.229, 0.224, 0.225])\n",
    "    ]),\n",
    "    'train':transforms.Compose([\n",
    "        transforms.RandomResizedCrop(size = 299),\n",
    "        transforms.RandomRotation(degrees = 30),\n",
    "        transforms.ColorJitter(),\n",
    "        transforms.RandomHorizontalFlip(),\n",
    "        transforms.CenterCrop(size=299),  \n",
    "        transforms.ToTensor(),\n",
    "        transforms.Normalize([0.485, 0.456, 0.406],\n",
    "                             [0.229, 0.224, 0.225])  \n",
    "    ]),\n",
    "    'test':transforms.Compose([\n",
    "        transforms.Resize(size = 299, interpolation=InterpolationMode.BILINEAR),\n",
    "        transforms.CenterCrop(size = 299),\n",
    "        transforms.ToTensor(),\n",
    "        transforms.Normalize([0.485, 0.456, 0.406],\n",
    "                             [0.229, 0.224, 0.225])\n",
    "    ]),\n",
    "}"
   ]
  },
  {
   "cell_type": "code",
   "execution_count": 16,
   "metadata": {
    "execution": {
     "iopub.execute_input": "2023-04-29T02:44:52.086587Z",
     "iopub.status.busy": "2023-04-29T02:44:52.086246Z",
     "iopub.status.idle": "2023-04-29T02:44:52.095136Z",
     "shell.execute_reply": "2023-04-29T02:44:52.093781Z",
     "shell.execute_reply.started": "2023-04-29T02:44:52.086556Z"
    },
    "id": "qKAHEh_Jn7iI"
   },
   "outputs": [],
   "source": [
    "class DogDataset(torch.utils.data.Dataset):\n",
    "    \"\"\"\n",
    "    Create a dataset for pytorch batch loading. This is to load few images into memory at a time instead of all the images at once.\n",
    "    Extends from torch.utils.data.Dataset\n",
    "    \"\"\"\n",
    "    def __init__(self, images_directory, labels, transform):\n",
    "        \"\"\"\n",
    "        Constructor initialization.\n",
    "        Params:\n",
    "            - images_directory: The directory where the images are stored.\n",
    "            - labels: The image labels\n",
    "            - transform: The transformations to perform on the data.\n",
    "        \"\"\"\n",
    "        self.images_directory = images_directory\n",
    "        self.labels = labels\n",
    "        self.transform = transform\n",
    "\n",
    "\n",
    "    def __len__(self):\n",
    "        \"\"\"\n",
    "        Returns the total number of samples.\n",
    "        \"\"\"\n",
    "        return len(self.labels)\n",
    "\n",
    "    \n",
    "    def __getitem__(self, index):\n",
    "        if self.labels is not None:\n",
    "            image_name = f'{self.labels[\"id\"].iloc[index]}.jpg'\n",
    "            full_image_name = self.images_directory + image_name\n",
    "            \n",
    "            final_image = Image.open(full_image_name)\n",
    "            label = self.labels.iloc[index, 1:].astype('float').to_numpy()\n",
    "            label = np.argmax(label)\n",
    "            \n",
    "            if self.transform:\n",
    "                final_image = self.transform(final_image)\n",
    "            \n",
    "            return [final_image, label]\n",
    "            "
   ]
  },
  {
   "cell_type": "code",
   "execution_count": 17,
   "metadata": {
    "execution": {
     "iopub.execute_input": "2023-04-29T02:44:52.718403Z",
     "iopub.status.busy": "2023-04-29T02:44:52.718036Z",
     "iopub.status.idle": "2023-04-29T02:44:52.820624Z",
     "shell.execute_reply": "2023-04-29T02:44:52.819245Z",
     "shell.execute_reply.started": "2023-04-29T02:44:52.718371Z"
    },
    "id": "RHbanABrn7iI"
   },
   "outputs": [],
   "source": [
    "num_workers = 4\n",
    "batch_size = 70\n",
    "use_cuda = torch.cuda.is_available()\n",
    "\n",
    "train_img = DogDataset(IMAGES_PATH + 'train/', training_data, transform = img_transform['train'])\n",
    "valid_img = DogDataset(IMAGES_PATH + 'train/', validation_data, transform = img_transform['valid'])\n",
    "test_img = DogDataset(IMAGES_PATH + 'train/', testing_data, transform = img_transform['test'])\n",
    "\n",
    "\n",
    "dataloaders={\n",
    "    'train':torch.utils.data.DataLoader(train_img, batch_size, num_workers = num_workers, shuffle=True),\n",
    "    'valid':torch.utils.data.DataLoader(valid_img, batch_size, num_workers = num_workers, shuffle=False),\n",
    "    'test':torch.utils.data.DataLoader(test_img, batch_size, num_workers = num_workers, shuffle=True)\n",
    "}"
   ]
  },
  {
   "cell_type": "markdown",
   "metadata": {
    "id": "j9g1K6MTn7iI"
   },
   "source": [
    "# 3.b. Run a training loop on a training set with both models"
   ]
  },
  {
   "cell_type": "code",
   "execution_count": 22,
   "metadata": {
    "colab": {
     "base_uri": "https://localhost:8080/"
    },
    "execution": {
     "iopub.execute_input": "2023-04-29T01:30:53.141078Z",
     "iopub.status.busy": "2023-04-29T01:30:53.139975Z",
     "iopub.status.idle": "2023-04-29T01:30:53.634312Z",
     "shell.execute_reply": "2023-04-29T01:30:53.632692Z",
     "shell.execute_reply.started": "2023-04-29T01:30:53.141040Z"
    },
    "id": "jAxIsg1On7iJ",
    "outputId": "eead28f2-d3d1-4112-a1c2-bd575861b1a7"
   },
   "outputs": [
    {
     "name": "stderr",
     "output_type": "stream",
     "text": [
      "Using cache found in /root/.cache/torch/hub/pytorch_vision_v0.10.0\n"
     ]
    }
   ],
   "source": [
    "inceptionv3_model =  torch.hub.load('pytorch/vision:v0.10.0', 'inception_v3', pretrained=True)\n",
    "\n",
    "# donot calcualte any of te weights. Use pretrained weights.\n",
    "for param in inceptionv3_model.parameters():\n",
    "    param.requires_grad = False\n",
    "    \n",
    "# replace the last fully connected layer to suit for our dog breed identification.\n",
    "# Here we have a linear model with 2048 in_features and 120(Our dog breed # of classes) out_features.\n",
    "inceptionv3_model.fc = nn.Sequential(nn.Linear(inceptionv3_model.fc.in_features, 120))\n",
    "# check if gpu is available\n",
    "if use_cuda:\n",
    "    inceptionv3_model = inceptionv3_model.cuda()\n",
    "    \n",
    "inceptionv3_model.aux_logits = False"
   ]
  },
  {
   "cell_type": "code",
   "execution_count": 23,
   "metadata": {
    "execution": {
     "iopub.execute_input": "2023-04-29T01:30:53.643165Z",
     "iopub.status.busy": "2023-04-29T01:30:53.640390Z",
     "iopub.status.idle": "2023-04-29T01:30:53.656340Z",
     "shell.execute_reply": "2023-04-29T01:30:53.655546Z",
     "shell.execute_reply.started": "2023-04-29T01:30:53.643119Z"
    },
    "id": "JaaJxtrfn7iJ"
   },
   "outputs": [],
   "source": [
    "loss_function = nn.CrossEntropyLoss()\n",
    "\n",
    "# filter for weights that need to be computed.\n",
    "# We don't compute already computed weights because we don't have the neccessary computational power.\n",
    "# If we have computational power then we will build the model from the architecture, randomly initialize the weights and train our model.\n",
    "grad_weights = filter(lambda w: w.requires_grad, inceptionv3_model.parameters())\n",
    "\n",
    "# use Stochastic Gradient Descent to minimize the loss.\n",
    "optimizer = torch.optim.SGD(grad_weights, lr=0.01, momentum=0.8)"
   ]
  },
  {
   "cell_type": "code",
   "execution_count": 27,
   "metadata": {
    "execution": {
     "iopub.execute_input": "2023-04-29T01:30:53.782695Z",
     "iopub.status.busy": "2023-04-29T01:30:53.781554Z",
     "iopub.status.idle": "2023-04-29T01:30:53.793379Z",
     "shell.execute_reply": "2023-04-29T01:30:53.792149Z",
     "shell.execute_reply.started": "2023-04-29T01:30:53.782645Z"
    },
    "id": "-gjLHjgbn7iJ"
   },
   "outputs": [],
   "source": [
    "training_losses = []\n",
    "validation_losses = []\n",
    "\n",
    "def train(n_epochs, img_transforms, model, optimizer, criterion, use_cuda):\n",
    "    \"\"\"returns trained model\"\"\"\n",
    "    for epoch in range(1, n_epochs+1):\n",
    "        loss_during_train = 0.0\n",
    "        loss_during_validation = 0.0\n",
    "        \n",
    "        model.train()\n",
    "        \n",
    "        for index_batch, (image, label) in enumerate(img_transforms['train']):\n",
    "            if use_cuda:\n",
    "                image, label = image.cuda(), label.cuda()\n",
    "            \n",
    "            optimizer.zero_grad()\n",
    "            output = model(image)\n",
    "            \n",
    "            loss = criterion(output, label)\n",
    "            loss.backward()\n",
    "            optimizer.step()\n",
    "            \n",
    "            loss_during_train = loss_during_train + ((1 / (index_batch + 1)) * (loss.data - loss_during_train))\n",
    "            training_losses.append(loss_during_train)\n",
    "\n",
    "            if index_batch % 10 == 0:\n",
    "                print(f'Epoch: {epoch} \\tBatch: {index_batch + 1} \\tTraining Loss: {loss_during_train:.2f}')\n",
    "        \n",
    "        \n",
    "        with torch.no_grad():\n",
    "            correct = 0\n",
    "            total = 0\n",
    "            for images, labels in img_transforms['valid']:\n",
    "                if use_cuda:\n",
    "                    images = images.cuda()\n",
    "                    labels = labels.cuda()\n",
    "\n",
    "                outputs = model(images)\n",
    "\n",
    "                _, predicted = torch.max(outputs.data, 1)\n",
    "                total += labels.size(0)\n",
    "                correct += (predicted == labels).sum().item()\n",
    "    \n",
    "        print(f'Accuracy of the network on the {total} validation images: {100 * correct / total} %') \n",
    "        \n",
    "        \n",
    "        model.eval()\n",
    "        for index_batch, (image, label) in enumerate(img_transforms['valid']):\n",
    "            if use_cuda:\n",
    "                image, label = image.cuda(), label.cuda()\n",
    "\n",
    "            output = model(image)\n",
    "            \n",
    "            loss = criterion(output, label)\n",
    "            loss_during_validation = loss_during_validation + ((1 / (index_batch + 1)) * (loss.data - loss_during_validation))\n",
    "            validation_losses.append(loss_during_validation)\n",
    "\n",
    "        print(f'Epoch: {epoch} \\tTraining Loss: {loss_during_train:.2f} \\tValidation Loss: {loss_during_validation:.2f}')\n",
    "        \n",
    "    return model"
   ]
  },
  {
   "cell_type": "code",
   "execution_count": 28,
   "metadata": {
    "colab": {
     "base_uri": "https://localhost:8080/"
    },
    "execution": {
     "iopub.execute_input": "2023-04-29T01:30:53.981581Z",
     "iopub.status.busy": "2023-04-29T01:30:53.980642Z",
     "iopub.status.idle": "2023-04-29T01:50:32.734514Z",
     "shell.execute_reply": "2023-04-29T01:50:32.732390Z",
     "shell.execute_reply.started": "2023-04-29T01:30:53.981520Z"
    },
    "id": "zppD3Yghn7iJ",
    "outputId": "3893d6df-9b84-4f93-eff2-a1a386f0630b"
   },
   "outputs": [
    {
     "name": "stdout",
     "output_type": "stream",
     "text": [
      "Epoch: 1 \tBatch: 1 \tTraining Loss: 4.69\n",
      "Epoch: 1 \tBatch: 11 \tTraining Loss: 4.73\n",
      "Epoch: 1 \tBatch: 21 \tTraining Loss: 4.67\n"
     ]
    },
    {
     "name": "stderr",
     "output_type": "stream",
     "text": [
      "Exception ignored in: <function _MultiProcessingDataLoaderIter.__del__ at 0x7f14e81bd000>\n",
      "Traceback (most recent call last):\n",
      "  File \"/usr/local/lib/python3.10/dist-packages/torch/utils/data/dataloader.py\", line 1479, in __del__\n",
      "    self._shutdown_workers()\n",
      "  File \"/usr/local/lib/python3.10/dist-packages/torch/utils/data/dataloader.py\", line 1462, in _shutdown_workers\n",
      "    if w.is_alive():\n",
      "  File \"/usr/lib/python3.10/multiprocessing/process.py\", line 160, in is_alive\n",
      "    assert self._parent_pid == os.getpid(), 'can only test a child process'\n",
      "AssertionError: can only test a child process\n",
      "Exception ignored in: <function _MultiProcessingDataLoaderIter.__del__ at 0x7f14e81bd000>\n",
      "Traceback (most recent call last):\n",
      "  File \"/usr/local/lib/python3.10/dist-packages/torch/utils/data/dataloader.py\", line 1479, in __del__\n",
      "    self._shutdown_workers()\n",
      "  File \"/usr/local/lib/python3.10/dist-packages/torch/utils/data/dataloader.py\", line 1462, in _shutdown_workers\n",
      "    if w.is_alive():\n",
      "  File \"/usr/lib/python3.10/multiprocessing/process.py\", line 160, in is_alive\n",
      "    assert self._parent_pid == os.getpid(), 'can only test a child process'\n",
      "AssertionError: can only test a child process\n",
      "Exception ignored in: <function _MultiProcessingDataLoaderIter.__del__ at 0x7f14e81bd000>\n",
      "Traceback (most recent call last):\n",
      "  File \"/usr/local/lib/python3.10/dist-packages/torch/utils/data/dataloader.py\", line 1479, in __del__\n",
      "    self._shutdown_workers()\n",
      "  File \"/usr/local/lib/python3.10/dist-packages/torch/utils/data/dataloader.py\", line 1462, in _shutdown_workers\n",
      "    if w.is_alive():\n",
      "  File \"/usr/lib/python3.10/multiprocessing/process.py\", line 160, in is_alive\n",
      "    assert self._parent_pid == os.getpid(), 'can only test a child process'\n",
      "AssertionError: can only test a child process\n",
      "Exception ignored in: <function _MultiProcessingDataLoaderIter.__del__ at 0x7f14e81bd000>\n",
      "Traceback (most recent call last):\n",
      "  File \"/usr/local/lib/python3.10/dist-packages/torch/utils/data/dataloader.py\", line 1479, in __del__\n",
      "    self._shutdown_workers()\n",
      "  File \"/usr/local/lib/python3.10/dist-packages/torch/utils/data/dataloader.py\", line 1462, in _shutdown_workers\n",
      "    if w.is_alive():\n",
      "  File \"/usr/lib/python3.10/multiprocessing/process.py\", line 160, in is_alive\n",
      "    assert self._parent_pid == os.getpid(), 'can only test a child process'\n",
      "AssertionError: can only test a child process\n"
     ]
    },
    {
     "name": "stdout",
     "output_type": "stream",
     "text": [
      "Epoch: 1 \tBatch: 31 \tTraining Loss: 4.63\n",
      "Epoch: 1 \tBatch: 41 \tTraining Loss: 4.58\n",
      "Epoch: 1 \tBatch: 51 \tTraining Loss: 4.52\n",
      "Epoch: 1 \tBatch: 61 \tTraining Loss: 4.47\n",
      "Epoch: 1 \tBatch: 71 \tTraining Loss: 4.41\n",
      "Epoch: 1 \tBatch: 81 \tTraining Loss: 4.37\n",
      "Epoch: 1 \tBatch: 91 \tTraining Loss: 4.31\n",
      "Accuracy of the network on the 1533 validation images: 49.967384213959555 %\n",
      "Epoch: 1 \tTraining Loss: 4.29 \tValidation Loss: 3.38\n",
      "Epoch: 2 \tBatch: 1 \tTraining Loss: 3.85\n",
      "Epoch: 2 \tBatch: 11 \tTraining Loss: 3.68\n"
     ]
    },
    {
     "name": "stderr",
     "output_type": "stream",
     "text": [
      "Exception ignored in: <function _MultiProcessingDataLoaderIter.__del__ at 0x7f14e81bd000>\n",
      "Traceback (most recent call last):\n",
      "  File \"/usr/local/lib/python3.10/dist-packages/torch/utils/data/dataloader.py\", line 1479, in __del__\n",
      "    self._shutdown_workers()\n",
      "  File \"/usr/local/lib/python3.10/dist-packages/torch/utils/data/dataloader.py\", line 1462, in _shutdown_workers\n",
      "    if w.is_alive():\n",
      "  File \"/usr/lib/python3.10/multiprocessing/process.py\", line 160, in is_alive\n",
      "Exception ignored in: <function _MultiProcessingDataLoaderIter.__del__ at 0x7f14e81bd000>    assert self._parent_pid == os.getpid(), 'can only test a child process'\n",
      "\n",
      "Traceback (most recent call last):\n",
      "AssertionError:   File \"/usr/local/lib/python3.10/dist-packages/torch/utils/data/dataloader.py\", line 1479, in __del__\n",
      "    can only test a child processself._shutdown_workers()\n",
      "\n",
      "  File \"/usr/local/lib/python3.10/dist-packages/torch/utils/data/dataloader.py\", line 1462, in _shutdown_workers\n",
      "    if w.is_alive():\n",
      "  File \"/usr/lib/python3.10/multiprocessing/process.py\", line 160, in is_alive\n",
      "    assert self._parent_pid == os.getpid(), 'can only test a child process'\n",
      "AssertionError: can only test a child process\n",
      "Exception ignored in: <function _MultiProcessingDataLoaderIter.__del__ at 0x7f14e81bd000>\n",
      "Traceback (most recent call last):\n",
      "Exception ignored in:   File \"/usr/local/lib/python3.10/dist-packages/torch/utils/data/dataloader.py\", line 1479, in __del__\n",
      "<function _MultiProcessingDataLoaderIter.__del__ at 0x7f14e81bd000>\n",
      "    Traceback (most recent call last):\n",
      "self._shutdown_workers()  File \"/usr/local/lib/python3.10/dist-packages/torch/utils/data/dataloader.py\", line 1479, in __del__\n",
      "    self._shutdown_workers()\n",
      "\n",
      "  File \"/usr/local/lib/python3.10/dist-packages/torch/utils/data/dataloader.py\", line 1462, in _shutdown_workers\n",
      "  File \"/usr/local/lib/python3.10/dist-packages/torch/utils/data/dataloader.py\", line 1462, in _shutdown_workers\n",
      "        if w.is_alive():if w.is_alive():\n",
      "  File \"/usr/lib/python3.10/multiprocessing/process.py\", line 160, in is_alive\n",
      "\n",
      "  File \"/usr/lib/python3.10/multiprocessing/process.py\", line 160, in is_alive\n",
      "        assert self._parent_pid == os.getpid(), 'can only test a child process'assert self._parent_pid == os.getpid(), 'can only test a child process'\n",
      "\n",
      "AssertionErrorAssertionError: can only test a child process: can only test a child process\n",
      "\n"
     ]
    },
    {
     "name": "stdout",
     "output_type": "stream",
     "text": [
      "Epoch: 2 \tBatch: 21 \tTraining Loss: 3.65\n",
      "Epoch: 2 \tBatch: 31 \tTraining Loss: 3.59\n",
      "Epoch: 2 \tBatch: 41 \tTraining Loss: 3.56\n",
      "Epoch: 2 \tBatch: 51 \tTraining Loss: 3.52\n",
      "Epoch: 2 \tBatch: 61 \tTraining Loss: 3.48\n",
      "Epoch: 2 \tBatch: 71 \tTraining Loss: 3.44\n",
      "Epoch: 2 \tBatch: 81 \tTraining Loss: 3.39\n",
      "Epoch: 2 \tBatch: 91 \tTraining Loss: 3.36\n"
     ]
    },
    {
     "name": "stderr",
     "output_type": "stream",
     "text": [
      "Exception ignored in: <function _MultiProcessingDataLoaderIter.__del__ at 0x7f14e81bd000>\n",
      "Traceback (most recent call last):\n",
      "  File \"/usr/local/lib/python3.10/dist-packages/torch/utils/data/dataloader.py\", line 1479, in __del__\n",
      "    self._shutdown_workers()\n",
      "  File \"/usr/local/lib/python3.10/dist-packages/torch/utils/data/dataloader.py\", line 1462, in _shutdown_workers\n",
      "    if w.is_alive():\n",
      "  File \"/usr/lib/python3.10/multiprocessing/process.py\", line 160, in is_alive\n",
      "    assert self._parent_pid == os.getpid(), 'can only test a child process'\n",
      "AssertionError: can only test a child process\n"
     ]
    },
    {
     "name": "stdout",
     "output_type": "stream",
     "text": [
      "Accuracy of the network on the 1533 validation images: 65.88388780169602 %\n"
     ]
    },
    {
     "name": "stderr",
     "output_type": "stream",
     "text": [
      "Exception ignored in: <function _MultiProcessingDataLoaderIter.__del__ at 0x7f14e81bd000>\n",
      "Traceback (most recent call last):\n",
      "  File \"/usr/local/lib/python3.10/dist-packages/torch/utils/data/dataloader.py\", line 1479, in __del__\n",
      "    self._shutdown_workers()\n",
      "  File \"/usr/local/lib/python3.10/dist-packages/torch/utils/data/dataloader.py\", line 1462, in _shutdown_workers\n",
      "    if w.is_alive():\n",
      "  File \"/usr/lib/python3.10/multiprocessing/process.py\", line 160, in is_alive\n",
      "    assert self._parent_pid == os.getpid(), 'can only test a child process'\n",
      "AssertionError: can only test a child process\n"
     ]
    },
    {
     "name": "stdout",
     "output_type": "stream",
     "text": [
      "Epoch: 2 \tTraining Loss: 3.36 \tValidation Loss: 2.32\n",
      "Epoch: 3 \tBatch: 1 \tTraining Loss: 3.12\n",
      "Epoch: 3 \tBatch: 11 \tTraining Loss: 3.01\n"
     ]
    },
    {
     "name": "stderr",
     "output_type": "stream",
     "text": [
      "Exception ignored in: <function _MultiProcessingDataLoaderIter.__del__ at 0x7f14e81bd000>\n",
      "Traceback (most recent call last):\n",
      "  File \"/usr/local/lib/python3.10/dist-packages/torch/utils/data/dataloader.py\", line 1479, in __del__\n",
      "    self._shutdown_workers()\n",
      "  File \"/usr/local/lib/python3.10/dist-packages/torch/utils/data/dataloader.py\", line 1462, in _shutdown_workers\n",
      "    if w.is_alive():Exception ignored in: \n",
      "  File \"/usr/lib/python3.10/multiprocessing/process.py\", line 160, in is_alive\n",
      "    <function _MultiProcessingDataLoaderIter.__del__ at 0x7f14e81bd000>\n",
      "assert self._parent_pid == os.getpid(), 'can only test a child process'\n",
      "AssertionErrorTraceback (most recent call last):\n",
      "  File \"/usr/local/lib/python3.10/dist-packages/torch/utils/data/dataloader.py\", line 1479, in __del__\n",
      "    : self._shutdown_workers()can only test a child process\n",
      "  File \"/usr/local/lib/python3.10/dist-packages/torch/utils/data/dataloader.py\", line 1462, in _shutdown_workers\n",
      "\n",
      "    if w.is_alive():\n",
      "  File \"/usr/lib/python3.10/multiprocessing/process.py\", line 160, in is_alive\n",
      "    assert self._parent_pid == os.getpid(), 'can only test a child process'\n",
      "AssertionError: can only test a child process\n",
      "Exception ignored in: <function _MultiProcessingDataLoaderIter.__del__ at 0x7f14e81bd000>\n",
      "Traceback (most recent call last):\n",
      "  File \"/usr/local/lib/python3.10/dist-packages/torch/utils/data/dataloader.py\", line 1479, in __del__\n",
      "    self._shutdown_workers()\n",
      "  File \"/usr/local/lib/python3.10/dist-packages/torch/utils/data/dataloader.py\", line 1462, in _shutdown_workers\n",
      "    if w.is_alive():\n",
      "  File \"/usr/lib/python3.10/multiprocessing/process.py\", line 160, in is_alive\n",
      "    assert self._parent_pid == os.getpid(), 'can only test a child process'\n",
      "AssertionError: can only test a child process\n",
      "Exception ignored in: <function _MultiProcessingDataLoaderIter.__del__ at 0x7f14e81bd000>\n",
      "Traceback (most recent call last):\n",
      "  File \"/usr/local/lib/python3.10/dist-packages/torch/utils/data/dataloader.py\", line 1479, in __del__\n",
      "    self._shutdown_workers()\n",
      "  File \"/usr/local/lib/python3.10/dist-packages/torch/utils/data/dataloader.py\", line 1462, in _shutdown_workers\n",
      "    if w.is_alive():\n",
      "  File \"/usr/lib/python3.10/multiprocessing/process.py\", line 160, in is_alive\n",
      "    assert self._parent_pid == os.getpid(), 'can only test a child process'\n",
      "AssertionError: can only test a child process\n"
     ]
    },
    {
     "name": "stdout",
     "output_type": "stream",
     "text": [
      "Epoch: 3 \tBatch: 21 \tTraining Loss: 2.95\n",
      "Epoch: 3 \tBatch: 31 \tTraining Loss: 2.92\n",
      "Epoch: 3 \tBatch: 41 \tTraining Loss: 2.88\n",
      "Epoch: 3 \tBatch: 51 \tTraining Loss: 2.85\n",
      "Epoch: 3 \tBatch: 61 \tTraining Loss: 2.83\n",
      "Epoch: 3 \tBatch: 71 \tTraining Loss: 2.80\n",
      "Epoch: 3 \tBatch: 81 \tTraining Loss: 2.77\n",
      "Epoch: 3 \tBatch: 91 \tTraining Loss: 2.76\n"
     ]
    },
    {
     "name": "stderr",
     "output_type": "stream",
     "text": [
      "Exception ignored in: <function _MultiProcessingDataLoaderIter.__del__ at 0x7f14e81bd000>\n",
      "Traceback (most recent call last):\n",
      "  File \"/usr/local/lib/python3.10/dist-packages/torch/utils/data/dataloader.py\", line 1479, in __del__\n",
      "    self._shutdown_workers()\n",
      "  File \"/usr/local/lib/python3.10/dist-packages/torch/utils/data/dataloader.py\", line 1462, in _shutdown_workers\n",
      "    if w.is_alive():\n",
      "  File \"/usr/lib/python3.10/multiprocessing/process.py\", line 160, in is_alive\n",
      "    assert self._parent_pid == os.getpid(), 'can only test a child process'\n",
      "AssertionError: can only test a child process\n",
      "Exception ignored in: <function _MultiProcessingDataLoaderIter.__del__ at 0x7f14e81bd000>\n",
      "Traceback (most recent call last):\n",
      "  File \"/usr/local/lib/python3.10/dist-packages/torch/utils/data/dataloader.py\", line 1479, in __del__\n",
      "    self._shutdown_workers()\n",
      "  File \"/usr/local/lib/python3.10/dist-packages/torch/utils/data/dataloader.py\", line 1462, in _shutdown_workers\n",
      "    if w.is_alive():\n",
      "  File \"/usr/lib/python3.10/multiprocessing/process.py\", line 160, in is_alive\n",
      "    assert self._parent_pid == os.getpid(), 'can only test a child process'Exception ignored in: \n",
      "<function _MultiProcessingDataLoaderIter.__del__ at 0x7f14e81bd000>\n",
      "AssertionErrorTraceback (most recent call last):\n",
      ":   File \"/usr/local/lib/python3.10/dist-packages/torch/utils/data/dataloader.py\", line 1479, in __del__\n",
      "can only test a child process\n",
      "    self._shutdown_workers()\n",
      "  File \"/usr/local/lib/python3.10/dist-packages/torch/utils/data/dataloader.py\", line 1462, in _shutdown_workers\n",
      "    if w.is_alive():\n",
      "  File \"/usr/lib/python3.10/multiprocessing/process.py\", line 160, in is_alive\n",
      "    assert self._parent_pid == os.getpid(), 'can only test a child process'\n",
      "AssertionError: can only test a child process\n",
      "Exception ignored in: <function _MultiProcessingDataLoaderIter.__del__ at 0x7f14e81bd000>\n",
      "Traceback (most recent call last):\n",
      "  File \"/usr/local/lib/python3.10/dist-packages/torch/utils/data/dataloader.py\", line 1479, in __del__\n",
      "    self._shutdown_workers()\n",
      "  File \"/usr/local/lib/python3.10/dist-packages/torch/utils/data/dataloader.py\", line 1462, in _shutdown_workers\n",
      "    if w.is_alive():\n",
      "  File \"/usr/lib/python3.10/multiprocessing/process.py\", line 160, in is_alive\n",
      "    assert self._parent_pid == os.getpid(), 'can only test a child process'\n",
      "AssertionError: can only test a child process\n"
     ]
    },
    {
     "name": "stdout",
     "output_type": "stream",
     "text": [
      "Accuracy of the network on the 1533 validation images: 70.38486627527723 %\n"
     ]
    },
    {
     "name": "stderr",
     "output_type": "stream",
     "text": [
      "Exception ignored in: <function _MultiProcessingDataLoaderIter.__del__ at 0x7f14e81bd000>\n",
      "Traceback (most recent call last):\n",
      "  File \"/usr/local/lib/python3.10/dist-packages/torch/utils/data/dataloader.py\", line 1479, in __del__\n",
      "    self._shutdown_workers()\n",
      "  File \"/usr/local/lib/python3.10/dist-packages/torch/utils/data/dataloader.py\", line 1462, in _shutdown_workers\n",
      "    if w.is_alive():\n",
      "  File \"/usr/lib/python3.10/multiprocessing/process.py\", line 160, in is_alive\n",
      "    assert self._parent_pid == os.getpid(), 'can only test a child process'\n",
      "AssertionError: can only test a child process\n",
      "Exception ignored in: Exception ignored in: <function _MultiProcessingDataLoaderIter.__del__ at 0x7f14e81bd000>\n",
      "<function _MultiProcessingDataLoaderIter.__del__ at 0x7f14e81bd000>\n",
      "Traceback (most recent call last):\n",
      "Traceback (most recent call last):\n",
      "  File \"/usr/local/lib/python3.10/dist-packages/torch/utils/data/dataloader.py\", line 1479, in __del__\n",
      "  File \"/usr/local/lib/python3.10/dist-packages/torch/utils/data/dataloader.py\", line 1479, in __del__\n",
      "    self._shutdown_workers()    \n",
      "  File \"/usr/local/lib/python3.10/dist-packages/torch/utils/data/dataloader.py\", line 1462, in _shutdown_workers\n",
      "    self._shutdown_workers()if w.is_alive():\n",
      "\n",
      "  File \"/usr/lib/python3.10/multiprocessing/process.py\", line 160, in is_alive\n",
      "  File \"/usr/local/lib/python3.10/dist-packages/torch/utils/data/dataloader.py\", line 1462, in _shutdown_workers\n",
      "        if w.is_alive():\n",
      "assert self._parent_pid == os.getpid(), 'can only test a child process'  File \"/usr/lib/python3.10/multiprocessing/process.py\", line 160, in is_alive\n",
      "\n",
      "AssertionError    assert self._parent_pid == os.getpid(), 'can only test a child process': \n",
      "can only test a child processAssertionError\n",
      ": can only test a child process\n",
      "Exception ignored in: <function _MultiProcessingDataLoaderIter.__del__ at 0x7f14e81bd000>\n",
      "Traceback (most recent call last):\n",
      "  File \"/usr/local/lib/python3.10/dist-packages/torch/utils/data/dataloader.py\", line 1479, in __del__\n",
      "    self._shutdown_workers()\n",
      "  File \"/usr/local/lib/python3.10/dist-packages/torch/utils/data/dataloader.py\", line 1462, in _shutdown_workers\n",
      "    if w.is_alive():\n",
      "  File \"/usr/lib/python3.10/multiprocessing/process.py\", line 160, in is_alive\n",
      "    assert self._parent_pid == os.getpid(), 'can only test a child process'\n",
      "AssertionError: can only test a child process\n"
     ]
    },
    {
     "name": "stdout",
     "output_type": "stream",
     "text": [
      "Epoch: 3 \tTraining Loss: 2.75 \tValidation Loss: 1.67\n",
      "Epoch: 4 \tBatch: 1 \tTraining Loss: 2.33\n"
     ]
    },
    {
     "name": "stderr",
     "output_type": "stream",
     "text": [
      "Exception ignored in: <function _MultiProcessingDataLoaderIter.__del__ at 0x7f14e81bd000>\n",
      "Traceback (most recent call last):\n",
      "  File \"/usr/local/lib/python3.10/dist-packages/torch/utils/data/dataloader.py\", line 1479, in __del__\n",
      "    self._shutdown_workers()\n",
      "  File \"/usr/local/lib/python3.10/dist-packages/torch/utils/data/dataloader.py\", line 1462, in _shutdown_workers\n",
      "    if w.is_alive():\n",
      "  File \"/usr/lib/python3.10/multiprocessing/process.py\", line 160, in is_alive\n",
      "    assert self._parent_pid == os.getpid(), 'can only test a child process'\n",
      "AssertionError: can only test a child process\n",
      "Exception ignored in: <function _MultiProcessingDataLoaderIter.__del__ at 0x7f14e81bd000>\n",
      "Traceback (most recent call last):\n",
      "  File \"/usr/local/lib/python3.10/dist-packages/torch/utils/data/dataloader.py\", line 1479, in __del__\n",
      "    self._shutdown_workers()\n",
      "  File \"/usr/local/lib/python3.10/dist-packages/torch/utils/data/dataloader.py\", line 1462, in _shutdown_workers\n",
      "    if w.is_alive():\n",
      "  File \"/usr/lib/python3.10/multiprocessing/process.py\", line 160, in is_alive\n"
     ]
    },
    {
     "name": "stdout",
     "output_type": "stream",
     "text": [
      "Epoch: 4 \tBatch: 11 \tTraining Loss: 2.45\n"
     ]
    },
    {
     "name": "stderr",
     "output_type": "stream",
     "text": [
      "    assert self._parent_pid == os.getpid(), 'can only test a child process'\n",
      "AssertionError: can only test a child process\n",
      "Exception ignored in: <function _MultiProcessingDataLoaderIter.__del__ at 0x7f14e81bd000>\n",
      "Traceback (most recent call last):\n",
      "  File \"/usr/local/lib/python3.10/dist-packages/torch/utils/data/dataloader.py\", line 1479, in __del__\n",
      "    self._shutdown_workers()\n",
      "  File \"/usr/local/lib/python3.10/dist-packages/torch/utils/data/dataloader.py\", line 1462, in _shutdown_workers\n",
      "    if w.is_alive():\n",
      "  File \"/usr/lib/python3.10/multiprocessing/process.py\", line 160, in is_alive\n",
      "    assert self._parent_pid == os.getpid(), 'can only test a child process'\n",
      "AssertionError: can only test a child process\n",
      "Exception ignored in: <function _MultiProcessingDataLoaderIter.__del__ at 0x7f14e81bd000>\n",
      "Traceback (most recent call last):\n",
      "  File \"/usr/local/lib/python3.10/dist-packages/torch/utils/data/dataloader.py\", line 1479, in __del__\n",
      "    self._shutdown_workers()\n",
      "  File \"/usr/local/lib/python3.10/dist-packages/torch/utils/data/dataloader.py\", line 1462, in _shutdown_workers\n",
      "    \n",
      "if w.is_alive():  File \"/usr/lib/python3.10/multiprocessing/process.py\", line 160, in is_alive\n",
      "    assert self._parent_pid == os.getpid(), 'can only test a child process'\n",
      "AssertionError: can only test a child process\n"
     ]
    },
    {
     "name": "stdout",
     "output_type": "stream",
     "text": [
      "Epoch: 4 \tBatch: 21 \tTraining Loss: 2.42\n",
      "Epoch: 4 \tBatch: 31 \tTraining Loss: 2.40\n",
      "Epoch: 4 \tBatch: 41 \tTraining Loss: 2.40\n",
      "Epoch: 4 \tBatch: 51 \tTraining Loss: 2.39\n",
      "Epoch: 4 \tBatch: 61 \tTraining Loss: 2.38\n",
      "Epoch: 4 \tBatch: 71 \tTraining Loss: 2.36\n",
      "Epoch: 4 \tBatch: 81 \tTraining Loss: 2.34\n",
      "Epoch: 4 \tBatch: 91 \tTraining Loss: 2.32\n"
     ]
    },
    {
     "name": "stderr",
     "output_type": "stream",
     "text": [
      "Exception ignored in: <function _MultiProcessingDataLoaderIter.__del__ at 0x7f14e81bd000>\n",
      "Traceback (most recent call last):\n",
      "  File \"/usr/local/lib/python3.10/dist-packages/torch/utils/data/dataloader.py\", line 1479, in __del__\n",
      "    self._shutdown_workers()\n",
      "  File \"/usr/local/lib/python3.10/dist-packages/torch/utils/data/dataloader.py\", line 1462, in _shutdown_workers\n",
      "    if w.is_alive():\n",
      "  File \"/usr/lib/python3.10/multiprocessing/process.py\", line 160, in is_alive\n",
      "    assert self._parent_pid == os.getpid(), 'can only test a child process'\n",
      "AssertionError: can only test a child process\n",
      "Exception ignored in: <function _MultiProcessingDataLoaderIter.__del__ at 0x7f14e81bd000>\n",
      "Traceback (most recent call last):\n",
      "  File \"/usr/local/lib/python3.10/dist-packages/torch/utils/data/dataloader.py\", line 1479, in __del__\n",
      "    self._shutdown_workers()\n",
      "  File \"/usr/local/lib/python3.10/dist-packages/torch/utils/data/dataloader.py\", line 1462, in _shutdown_workers\n",
      "    if w.is_alive():\n",
      "  File \"/usr/lib/python3.10/multiprocessing/process.py\", line 160, in is_alive\n",
      "    assert self._parent_pid == os.getpid(), 'can only test a child process'\n",
      "AssertionError: can only test a child process\n",
      "Exception ignored in: Exception ignored in: <function _MultiProcessingDataLoaderIter.__del__ at 0x7f14e81bd000><function _MultiProcessingDataLoaderIter.__del__ at 0x7f14e81bd000>\n",
      "\n",
      "Traceback (most recent call last):\n",
      "Traceback (most recent call last):\n",
      "  File \"/usr/local/lib/python3.10/dist-packages/torch/utils/data/dataloader.py\", line 1479, in __del__\n",
      "      File \"/usr/local/lib/python3.10/dist-packages/torch/utils/data/dataloader.py\", line 1479, in __del__\n",
      "self._shutdown_workers()\n",
      "  File \"/usr/local/lib/python3.10/dist-packages/torch/utils/data/dataloader.py\", line 1462, in _shutdown_workers\n",
      "        if w.is_alive():self._shutdown_workers()\n",
      "  File \"/usr/lib/python3.10/multiprocessing/process.py\", line 160, in is_alive\n",
      "\n",
      "    assert self._parent_pid == os.getpid(), 'can only test a child process'\n",
      "AssertionError: \n",
      "can only test a child process  File \"/usr/local/lib/python3.10/dist-packages/torch/utils/data/dataloader.py\", line 1462, in _shutdown_workers\n",
      "    if w.is_alive():\n",
      "  File \"/usr/lib/python3.10/multiprocessing/process.py\", line 160, in is_alive\n",
      "    assert self._parent_pid == os.getpid(), 'can only test a child process'\n",
      "AssertionError: can only test a child process\n"
     ]
    },
    {
     "name": "stdout",
     "output_type": "stream",
     "text": [
      "Accuracy of the network on the 1533 validation images: 74.95107632093934 %\n"
     ]
    },
    {
     "name": "stderr",
     "output_type": "stream",
     "text": [
      "Exception ignored in: <function _MultiProcessingDataLoaderIter.__del__ at 0x7f14e81bd000>\n",
      "Traceback (most recent call last):\n",
      "  File \"/usr/local/lib/python3.10/dist-packages/torch/utils/data/dataloader.py\", line 1479, in __del__\n",
      "    self._shutdown_workers()\n",
      "  File \"/usr/local/lib/python3.10/dist-packages/torch/utils/data/dataloader.py\", line 1462, in _shutdown_workers\n",
      "    if w.is_alive():\n",
      "  File \"/usr/lib/python3.10/multiprocessing/process.py\", line 160, in is_alive\n",
      "    assert self._parent_pid == os.getpid(), 'can only test a child process'\n",
      "AssertionError: can only test a child process\n",
      "Exception ignored in: <function _MultiProcessingDataLoaderIter.__del__ at 0x7f14e81bd000>\n",
      "Traceback (most recent call last):\n",
      "  File \"/usr/local/lib/python3.10/dist-packages/torch/utils/data/dataloader.py\", line 1479, in __del__\n",
      "    self._shutdown_workers()\n",
      "  File \"/usr/local/lib/python3.10/dist-packages/torch/utils/data/dataloader.py\", line 1462, in _shutdown_workers\n",
      "    if w.is_alive():\n",
      "Exception ignored in:   File \"/usr/lib/python3.10/multiprocessing/process.py\", line 160, in is_alive\n",
      "<function _MultiProcessingDataLoaderIter.__del__ at 0x7f14e81bd000>    assert self._parent_pid == os.getpid(), 'can only test a child process'\n",
      "\n",
      "Traceback (most recent call last):\n",
      "AssertionError  File \"/usr/local/lib/python3.10/dist-packages/torch/utils/data/dataloader.py\", line 1479, in __del__\n",
      ": can only test a child process\n",
      "    self._shutdown_workers()\n",
      "  File \"/usr/local/lib/python3.10/dist-packages/torch/utils/data/dataloader.py\", line 1462, in _shutdown_workers\n",
      "    if w.is_alive():\n",
      "  File \"/usr/lib/python3.10/multiprocessing/process.py\", line 160, in is_alive\n",
      "    assert self._parent_pid == os.getpid(), 'can only test a child process'\n",
      "AssertionError: can only test a child process\n",
      "Exception ignored in: <function _MultiProcessingDataLoaderIter.__del__ at 0x7f14e81bd000>\n",
      "Traceback (most recent call last):\n",
      "  File \"/usr/local/lib/python3.10/dist-packages/torch/utils/data/dataloader.py\", line 1479, in __del__\n",
      "    self._shutdown_workers()\n",
      "  File \"/usr/local/lib/python3.10/dist-packages/torch/utils/data/dataloader.py\", line 1462, in _shutdown_workers\n",
      "    if w.is_alive():\n",
      "  File \"/usr/lib/python3.10/multiprocessing/process.py\", line 160, in is_alive\n",
      "    assert self._parent_pid == os.getpid(), 'can only test a child process'\n",
      "AssertionError: can only test a child process\n"
     ]
    },
    {
     "name": "stdout",
     "output_type": "stream",
     "text": [
      "Epoch: 4 \tTraining Loss: 2.31 \tValidation Loss: 1.29\n",
      "Epoch: 5 \tBatch: 1 \tTraining Loss: 2.17\n"
     ]
    },
    {
     "name": "stderr",
     "output_type": "stream",
     "text": [
      "Exception ignored in: <function _MultiProcessingDataLoaderIter.__del__ at 0x7f14e81bd000>\n",
      "Traceback (most recent call last):\n",
      "  File \"/usr/local/lib/python3.10/dist-packages/torch/utils/data/dataloader.py\", line 1479, in __del__\n",
      "    self._shutdown_workers()\n",
      "  File \"/usr/local/lib/python3.10/dist-packages/torch/utils/data/dataloader.py\", line 1462, in _shutdown_workers\n",
      "    if w.is_alive():\n",
      "  File \"/usr/lib/python3.10/multiprocessing/process.py\", line 160, in is_alive\n",
      "    assert self._parent_pid == os.getpid(), 'can only test a child process'Exception ignored in: \n",
      "<function _MultiProcessingDataLoaderIter.__del__ at 0x7f14e81bd000>AssertionError\n",
      ": Traceback (most recent call last):\n",
      "can only test a child process  File \"/usr/local/lib/python3.10/dist-packages/torch/utils/data/dataloader.py\", line 1479, in __del__\n",
      "\n",
      "    self._shutdown_workers()\n",
      "  File \"/usr/local/lib/python3.10/dist-packages/torch/utils/data/dataloader.py\", line 1462, in _shutdown_workers\n",
      "    if w.is_alive():\n",
      "  File \"/usr/lib/python3.10/multiprocessing/process.py\", line 160, in is_alive\n",
      "    assert self._parent_pid == os.getpid(), 'can only test a child process'\n",
      "Exception ignored in: AssertionError: <function _MultiProcessingDataLoaderIter.__del__ at 0x7f14e81bd000>can only test a child process\n",
      "\n",
      "Traceback (most recent call last):\n",
      "  File \"/usr/local/lib/python3.10/dist-packages/torch/utils/data/dataloader.py\", line 1479, in __del__\n",
      "    self._shutdown_workers()\n",
      "  File \"/usr/local/lib/python3.10/dist-packages/torch/utils/data/dataloader.py\", line 1462, in _shutdown_workers\n",
      "    if w.is_alive():\n",
      "  File \"/usr/lib/python3.10/multiprocessing/process.py\", line 160, in is_alive\n",
      "    assert self._parent_pid == os.getpid(), 'can only test a child process'\n",
      "AssertionError: can only test a child process\n",
      "Exception ignored in: <function _MultiProcessingDataLoaderIter.__del__ at 0x7f14e81bd000>\n",
      "Traceback (most recent call last):\n",
      "  File \"/usr/local/lib/python3.10/dist-packages/torch/utils/data/dataloader.py\", line 1479, in __del__\n",
      "    self._shutdown_workers()\n",
      "  File \"/usr/local/lib/python3.10/dist-packages/torch/utils/data/dataloader.py\", line 1462, in _shutdown_workers\n",
      "    if w.is_alive():\n",
      "  File \"/usr/lib/python3.10/multiprocessing/process.py\", line 160, in is_alive\n",
      "    assert self._parent_pid == os.getpid(), 'can only test a child process'\n",
      "AssertionError: can only test a child process\n"
     ]
    },
    {
     "name": "stdout",
     "output_type": "stream",
     "text": [
      "Epoch: 5 \tBatch: 11 \tTraining Loss: 2.16\n",
      "Epoch: 5 \tBatch: 21 \tTraining Loss: 2.11\n",
      "Epoch: 5 \tBatch: 31 \tTraining Loss: 2.10\n",
      "Epoch: 5 \tBatch: 41 \tTraining Loss: 2.09\n",
      "Epoch: 5 \tBatch: 51 \tTraining Loss: 2.11\n",
      "Epoch: 5 \tBatch: 61 \tTraining Loss: 2.10\n",
      "Epoch: 5 \tBatch: 71 \tTraining Loss: 2.09\n",
      "Epoch: 5 \tBatch: 81 \tTraining Loss: 2.10\n",
      "Epoch: 5 \tBatch: 91 \tTraining Loss: 2.08\n"
     ]
    },
    {
     "name": "stderr",
     "output_type": "stream",
     "text": [
      "Exception ignored in: <function _MultiProcessingDataLoaderIter.__del__ at 0x7f14e81bd000>\n",
      "Traceback (most recent call last):\n",
      "  File \"/usr/local/lib/python3.10/dist-packages/torch/utils/data/dataloader.py\", line 1479, in __del__\n",
      "    self._shutdown_workers()\n",
      "  File \"/usr/local/lib/python3.10/dist-packages/torch/utils/data/dataloader.py\", line 1462, in _shutdown_workers\n",
      "    if w.is_alive():\n",
      "  File \"/usr/lib/python3.10/multiprocessing/process.py\", line 160, in is_alive\n",
      "    assert self._parent_pid == os.getpid(), 'can only test a child process'\n",
      "Exception ignored in: <function _MultiProcessingDataLoaderIter.__del__ at 0x7f14e81bd000>AssertionError\n",
      ": Traceback (most recent call last):\n",
      "can only test a child process\n",
      "  File \"/usr/local/lib/python3.10/dist-packages/torch/utils/data/dataloader.py\", line 1479, in __del__\n",
      "    self._shutdown_workers()\n",
      "  File \"/usr/local/lib/python3.10/dist-packages/torch/utils/data/dataloader.py\", line 1462, in _shutdown_workers\n",
      "    if w.is_alive():\n",
      "  File \"/usr/lib/python3.10/multiprocessing/process.py\", line 160, in is_alive\n",
      "    assert self._parent_pid == os.getpid(), 'can only test a child process'\n",
      "AssertionError: can only test a child process\n",
      "Exception ignored in: Exception ignored in: <function _MultiProcessingDataLoaderIter.__del__ at 0x7f14e81bd000><function _MultiProcessingDataLoaderIter.__del__ at 0x7f14e81bd000>\n",
      "\n",
      "Traceback (most recent call last):\n",
      "Traceback (most recent call last):\n",
      "  File \"/usr/local/lib/python3.10/dist-packages/torch/utils/data/dataloader.py\", line 1479, in __del__\n",
      "    self._shutdown_workers()\n",
      "  File \"/usr/local/lib/python3.10/dist-packages/torch/utils/data/dataloader.py\", line 1462, in _shutdown_workers\n",
      "      File \"/usr/local/lib/python3.10/dist-packages/torch/utils/data/dataloader.py\", line 1479, in __del__\n",
      "    self._shutdown_workers()if w.is_alive():\n",
      "\n",
      "  File \"/usr/local/lib/python3.10/dist-packages/torch/utils/data/dataloader.py\", line 1462, in _shutdown_workers\n",
      "  File \"/usr/lib/python3.10/multiprocessing/process.py\", line 160, in is_alive\n",
      "        if w.is_alive():assert self._parent_pid == os.getpid(), 'can only test a child process'\n",
      "\n",
      "  File \"/usr/lib/python3.10/multiprocessing/process.py\", line 160, in is_alive\n",
      "AssertionError    : assert self._parent_pid == os.getpid(), 'can only test a child process'can only test a child process\n",
      "\n",
      "AssertionError: can only test a child process\n"
     ]
    },
    {
     "name": "stdout",
     "output_type": "stream",
     "text": [
      "Accuracy of the network on the 1533 validation images: 76.38617090671885 %\n"
     ]
    },
    {
     "name": "stderr",
     "output_type": "stream",
     "text": [
      "Exception ignored in: <function _MultiProcessingDataLoaderIter.__del__ at 0x7f14e81bd000>Exception ignored in: \n",
      "<function _MultiProcessingDataLoaderIter.__del__ at 0x7f14e81bd000>Traceback (most recent call last):\n",
      "\n",
      "  File \"/usr/local/lib/python3.10/dist-packages/torch/utils/data/dataloader.py\", line 1479, in __del__\n",
      "Traceback (most recent call last):\n",
      "      File \"/usr/local/lib/python3.10/dist-packages/torch/utils/data/dataloader.py\", line 1479, in __del__\n",
      "self._shutdown_workers()    \n",
      "self._shutdown_workers()  File \"/usr/local/lib/python3.10/dist-packages/torch/utils/data/dataloader.py\", line 1462, in _shutdown_workers\n",
      "\n",
      "      File \"/usr/local/lib/python3.10/dist-packages/torch/utils/data/dataloader.py\", line 1462, in _shutdown_workers\n",
      "if w.is_alive():    \n",
      "if w.is_alive():  File \"/usr/lib/python3.10/multiprocessing/process.py\", line 160, in is_alive\n",
      "\n",
      "      File \"/usr/lib/python3.10/multiprocessing/process.py\", line 160, in is_alive\n",
      "assert self._parent_pid == os.getpid(), 'can only test a child process'    \n",
      "assert self._parent_pid == os.getpid(), 'can only test a child process'\n",
      "AssertionError: AssertionErrorcan only test a child process: can only test a child process\n",
      "\n",
      "Exception ignored in: <function _MultiProcessingDataLoaderIter.__del__ at 0x7f14e81bd000>Exception ignored in: \n",
      "<function _MultiProcessingDataLoaderIter.__del__ at 0x7f14e81bd000>\n",
      "Traceback (most recent call last):\n",
      "Traceback (most recent call last):\n",
      "  File \"/usr/local/lib/python3.10/dist-packages/torch/utils/data/dataloader.py\", line 1479, in __del__\n",
      "      File \"/usr/local/lib/python3.10/dist-packages/torch/utils/data/dataloader.py\", line 1479, in __del__\n",
      "self._shutdown_workers()    \n",
      "self._shutdown_workers()  File \"/usr/local/lib/python3.10/dist-packages/torch/utils/data/dataloader.py\", line 1462, in _shutdown_workers\n",
      "\n",
      "  File \"/usr/local/lib/python3.10/dist-packages/torch/utils/data/dataloader.py\", line 1462, in _shutdown_workers\n",
      "    if w.is_alive():\n",
      "      File \"/usr/lib/python3.10/multiprocessing/process.py\", line 160, in is_alive\n",
      "    assert self._parent_pid == os.getpid(), 'can only test a child process'if w.is_alive():\n",
      "AssertionError: \n",
      "can only test a child process  File \"/usr/lib/python3.10/multiprocessing/process.py\", line 160, in is_alive\n",
      "\n",
      "    assert self._parent_pid == os.getpid(), 'can only test a child process'\n",
      "AssertionError: can only test a child process\n"
     ]
    },
    {
     "name": "stdout",
     "output_type": "stream",
     "text": [
      "Epoch: 5 \tTraining Loss: 2.08 \tValidation Loss: 1.06\n"
     ]
    },
    {
     "name": "stderr",
     "output_type": "stream",
     "text": [
      "Exception ignored in: Exception ignored in: <function _MultiProcessingDataLoaderIter.__del__ at 0x7f14e81bd000><function _MultiProcessingDataLoaderIter.__del__ at 0x7f14e81bd000>\n",
      "Traceback (most recent call last):\n",
      "\n",
      "  File \"/usr/local/lib/python3.10/dist-packages/torch/utils/data/dataloader.py\", line 1479, in __del__\n",
      "    self._shutdown_workers()\n",
      "  File \"/usr/local/lib/python3.10/dist-packages/torch/utils/data/dataloader.py\", line 1462, in _shutdown_workers\n",
      "    assert self._parent_pid == os.getpid(), 'can only test a child process'Traceback (most recent call last):\n",
      "if w.is_alive():  File \"/usr/local/lib/python3.10/dist-packages/torch/utils/data/dataloader.py\", line 1479, in __del__\n",
      "\n",
      "  File \"/usr/lib/python3.10/multiprocessing/process.py\", line 160, in is_alive\n",
      "        \n",
      "AssertionError: can only test a child process\n",
      "self._shutdown_workers()\n",
      "  File \"/usr/local/lib/python3.10/dist-packages/torch/utils/data/dataloader.py\", line 1462, in _shutdown_workers\n",
      "    if w.is_alive():\n",
      "  File \"/usr/lib/python3.10/multiprocessing/process.py\", line 160, in is_alive\n",
      "    assert self._parent_pid == os.getpid(), 'can only test a child process'\n",
      "AssertionError: can only test a child process\n",
      "Exception ignored in: <function _MultiProcessingDataLoaderIter.__del__ at 0x7f14e81bd000>\n",
      "Traceback (most recent call last):\n",
      "  File \"/usr/local/lib/python3.10/dist-packages/torch/utils/data/dataloader.py\", line 1479, in __del__\n",
      "    self._shutdown_workers()\n",
      "  File \"/usr/local/lib/python3.10/dist-packages/torch/utils/data/dataloader.py\", line 1462, in _shutdown_workers\n",
      "    if w.is_alive():\n",
      "  File \"/usr/lib/python3.10/multiprocessing/process.py\", line 160, in is_alive\n",
      "    assert self._parent_pid == os.getpid(), 'can only test a child process'\n",
      "AssertionError: can only test a child process\n",
      "Exception ignored in: <function _MultiProcessingDataLoaderIter.__del__ at 0x7f14e81bd000>\n",
      "Traceback (most recent call last):\n",
      "  File \"/usr/local/lib/python3.10/dist-packages/torch/utils/data/dataloader.py\", line 1479, in __del__\n",
      "    self._shutdown_workers()\n",
      "  File \"/usr/local/lib/python3.10/dist-packages/torch/utils/data/dataloader.py\", line 1462, in _shutdown_workers\n",
      "    if w.is_alive():\n",
      "  File \"/usr/lib/python3.10/multiprocessing/process.py\", line 160, in is_alive\n",
      "    assert self._parent_pid == os.getpid(), 'can only test a child process'\n",
      "AssertionError: can only test a child process\n"
     ]
    },
    {
     "name": "stdout",
     "output_type": "stream",
     "text": [
      "Epoch: 6 \tBatch: 1 \tTraining Loss: 2.03\n",
      "Epoch: 6 \tBatch: 11 \tTraining Loss: 1.98\n",
      "Epoch: 6 \tBatch: 21 \tTraining Loss: 1.94\n",
      "Epoch: 6 \tBatch: 31 \tTraining Loss: 1.93\n",
      "Epoch: 6 \tBatch: 41 \tTraining Loss: 1.95\n",
      "Epoch: 6 \tBatch: 51 \tTraining Loss: 1.93\n",
      "Epoch: 6 \tBatch: 61 \tTraining Loss: 1.94\n",
      "Epoch: 6 \tBatch: 71 \tTraining Loss: 1.93\n",
      "Epoch: 6 \tBatch: 81 \tTraining Loss: 1.92\n",
      "Epoch: 6 \tBatch: 91 \tTraining Loss: 1.92\n"
     ]
    },
    {
     "name": "stderr",
     "output_type": "stream",
     "text": [
      "Exception ignored in: Exception ignored in: <function _MultiProcessingDataLoaderIter.__del__ at 0x7f14e81bd000>Exception ignored in: <function _MultiProcessingDataLoaderIter.__del__ at 0x7f14e81bd000>Exception ignored in: <function _MultiProcessingDataLoaderIter.__del__ at 0x7f14e81bd000>\n",
      "\n",
      "Traceback (most recent call last):\n",
      "\n",
      "Traceback (most recent call last):\n",
      "<function _MultiProcessingDataLoaderIter.__del__ at 0x7f14e81bd000>  File \"/usr/local/lib/python3.10/dist-packages/torch/utils/data/dataloader.py\", line 1479, in __del__\n",
      "\n",
      "Traceback (most recent call last):\n",
      "Traceback (most recent call last):\n",
      "      File \"/usr/local/lib/python3.10/dist-packages/torch/utils/data/dataloader.py\", line 1479, in __del__\n",
      "  File \"/usr/local/lib/python3.10/dist-packages/torch/utils/data/dataloader.py\", line 1479, in __del__\n",
      "self._shutdown_workers()          File \"/usr/local/lib/python3.10/dist-packages/torch/utils/data/dataloader.py\", line 1479, in __del__\n",
      "self._shutdown_workers()\n",
      "self._shutdown_workers()\n",
      "    self._shutdown_workers()\n",
      "  File \"/usr/local/lib/python3.10/dist-packages/torch/utils/data/dataloader.py\", line 1462, in _shutdown_workers\n",
      "    \n",
      "  File \"/usr/local/lib/python3.10/dist-packages/torch/utils/data/dataloader.py\", line 1462, in _shutdown_workers\n",
      "  File \"/usr/local/lib/python3.10/dist-packages/torch/utils/data/dataloader.py\", line 1462, in _shutdown_workers\n",
      "  File \"/usr/local/lib/python3.10/dist-packages/torch/utils/data/dataloader.py\", line 1462, in _shutdown_workers\n",
      "if w.is_alive():            \n",
      "if w.is_alive():if w.is_alive():if w.is_alive():  File \"/usr/lib/python3.10/multiprocessing/process.py\", line 160, in is_alive\n",
      "\n",
      "  File \"/usr/lib/python3.10/multiprocessing/process.py\", line 160, in is_alive\n",
      "\n",
      "    \n",
      "      File \"/usr/lib/python3.10/multiprocessing/process.py\", line 160, in is_alive\n",
      "assert self._parent_pid == os.getpid(), 'can only test a child process'  File \"/usr/lib/python3.10/multiprocessing/process.py\", line 160, in is_alive\n",
      "assert self._parent_pid == os.getpid(), 'can only test a child process'    \n",
      "    \n",
      "assert self._parent_pid == os.getpid(), 'can only test a child process'AssertionErrorAssertionErrorassert self._parent_pid == os.getpid(), 'can only test a child process'\n",
      ": : AssertionErrorcan only test a child process\n",
      "can only test a child process: \n",
      "AssertionError\n",
      "can only test a child process: \n",
      "can only test a child process\n"
     ]
    },
    {
     "name": "stdout",
     "output_type": "stream",
     "text": [
      "Accuracy of the network on the 1533 validation images: 77.82126549249837 %\n"
     ]
    },
    {
     "name": "stderr",
     "output_type": "stream",
     "text": [
      "Exception ignored in: Exception ignored in: <function _MultiProcessingDataLoaderIter.__del__ at 0x7f14e81bd000>\n",
      "Traceback (most recent call last):\n",
      "<function _MultiProcessingDataLoaderIter.__del__ at 0x7f14e81bd000>\n",
      "Exception ignored in:   File \"/usr/local/lib/python3.10/dist-packages/torch/utils/data/dataloader.py\", line 1479, in __del__\n",
      "Traceback (most recent call last):\n",
      "<function _MultiProcessingDataLoaderIter.__del__ at 0x7f14e81bd000>  File \"/usr/local/lib/python3.10/dist-packages/torch/utils/data/dataloader.py\", line 1479, in __del__\n",
      "Exception ignored in:     \n",
      "<function _MultiProcessingDataLoaderIter.__del__ at 0x7f14e81bd000>self._shutdown_workers()    \n",
      "\n",
      "Traceback (most recent call last):\n",
      "Traceback (most recent call last):\n",
      "self._shutdown_workers()  File \"/usr/local/lib/python3.10/dist-packages/torch/utils/data/dataloader.py\", line 1462, in _shutdown_workers\n",
      "  File \"/usr/local/lib/python3.10/dist-packages/torch/utils/data/dataloader.py\", line 1479, in __del__\n",
      "    \n",
      "if w.is_alive():  File \"/usr/local/lib/python3.10/dist-packages/torch/utils/data/dataloader.py\", line 1479, in __del__\n",
      "    \n",
      "  File \"/usr/local/lib/python3.10/dist-packages/torch/utils/data/dataloader.py\", line 1462, in _shutdown_workers\n",
      "    self._shutdown_workers()self._shutdown_workers()\n",
      "      File \"/usr/lib/python3.10/multiprocessing/process.py\", line 160, in is_alive\n",
      "\n",
      "  File \"/usr/local/lib/python3.10/dist-packages/torch/utils/data/dataloader.py\", line 1462, in _shutdown_workers\n",
      "    if w.is_alive():      File \"/usr/local/lib/python3.10/dist-packages/torch/utils/data/dataloader.py\", line 1462, in _shutdown_workers\n",
      "\n",
      "assert self._parent_pid == os.getpid(), 'can only test a child process'if w.is_alive():      File \"/usr/lib/python3.10/multiprocessing/process.py\", line 160, in is_alive\n",
      "\n",
      "\n",
      "if w.is_alive():    AssertionError  File \"/usr/lib/python3.10/multiprocessing/process.py\", line 160, in is_alive\n",
      "\n",
      "assert self._parent_pid == os.getpid(), 'can only test a child process':       File \"/usr/lib/python3.10/multiprocessing/process.py\", line 160, in is_alive\n",
      "can only test a child process\n",
      "assert self._parent_pid == os.getpid(), 'can only test a child process'    \n",
      "\n",
      "AssertionErrorassert self._parent_pid == os.getpid(), 'can only test a child process': \n",
      "AssertionErrorcan only test a child processAssertionError: \n",
      ": can only test a child processcan only test a child process\n",
      "\n"
     ]
    },
    {
     "name": "stdout",
     "output_type": "stream",
     "text": [
      "Epoch: 6 \tTraining Loss: 1.93 \tValidation Loss: 0.92\n"
     ]
    },
    {
     "name": "stderr",
     "output_type": "stream",
     "text": [
      "Exception ignored in: <function _MultiProcessingDataLoaderIter.__del__ at 0x7f14e81bd000>\n",
      "Exception ignored in: Traceback (most recent call last):\n",
      "Exception ignored in: <function _MultiProcessingDataLoaderIter.__del__ at 0x7f14e81bd000>Exception ignored in:   File \"/usr/local/lib/python3.10/dist-packages/torch/utils/data/dataloader.py\", line 1479, in __del__\n",
      "<function _MultiProcessingDataLoaderIter.__del__ at 0x7f14e81bd000><function _MultiProcessingDataLoaderIter.__del__ at 0x7f14e81bd000>    \n",
      "\n",
      "\n",
      "Traceback (most recent call last):\n",
      "Traceback (most recent call last):\n",
      "Traceback (most recent call last):\n",
      "self._shutdown_workers()  File \"/usr/local/lib/python3.10/dist-packages/torch/utils/data/dataloader.py\", line 1479, in __del__\n",
      "  File \"/usr/local/lib/python3.10/dist-packages/torch/utils/data/dataloader.py\", line 1479, in __del__\n",
      "  File \"/usr/local/lib/python3.10/dist-packages/torch/utils/data/dataloader.py\", line 1479, in __del__\n",
      "\n",
      "            self._shutdown_workers()  File \"/usr/local/lib/python3.10/dist-packages/torch/utils/data/dataloader.py\", line 1462, in _shutdown_workers\n",
      "\n",
      "  File \"/usr/local/lib/python3.10/dist-packages/torch/utils/data/dataloader.py\", line 1462, in _shutdown_workers\n",
      "self._shutdown_workers()self._shutdown_workers()    if w.is_alive():\n",
      "    \n",
      "  File \"/usr/lib/python3.10/multiprocessing/process.py\", line 160, in is_alive\n",
      "\n",
      "  File \"/usr/local/lib/python3.10/dist-packages/torch/utils/data/dataloader.py\", line 1462, in _shutdown_workers\n",
      "    assert self._parent_pid == os.getpid(), 'can only test a child process'if w.is_alive():  File \"/usr/local/lib/python3.10/dist-packages/torch/utils/data/dataloader.py\", line 1462, in _shutdown_workers\n",
      "        \n",
      "\n",
      "AssertionError: if w.is_alive():if w.is_alive():\n",
      "  File \"/usr/lib/python3.10/multiprocessing/process.py\", line 160, in is_alive\n",
      "can only test a child process  File \"/usr/lib/python3.10/multiprocessing/process.py\", line 160, in is_alive\n",
      "    assert self._parent_pid == os.getpid(), 'can only test a child process'    \n",
      "\n",
      "\n",
      "AssertionError  File \"/usr/lib/python3.10/multiprocessing/process.py\", line 160, in is_alive\n",
      ":     assert self._parent_pid == os.getpid(), 'can only test a child process'\n",
      "assert self._parent_pid == os.getpid(), 'can only test a child process'AssertionError: can only test a child process\n",
      "can only test a child process\n",
      "AssertionError\n",
      ": can only test a child process\n"
     ]
    },
    {
     "name": "stdout",
     "output_type": "stream",
     "text": [
      "Epoch: 7 \tBatch: 1 \tTraining Loss: 1.55\n",
      "Epoch: 7 \tBatch: 11 \tTraining Loss: 1.94\n",
      "Epoch: 7 \tBatch: 21 \tTraining Loss: 1.87\n",
      "Epoch: 7 \tBatch: 31 \tTraining Loss: 1.85\n",
      "Epoch: 7 \tBatch: 41 \tTraining Loss: 1.85\n",
      "Epoch: 7 \tBatch: 51 \tTraining Loss: 1.84\n",
      "Epoch: 7 \tBatch: 61 \tTraining Loss: 1.82\n",
      "Epoch: 7 \tBatch: 71 \tTraining Loss: 1.81\n",
      "Epoch: 7 \tBatch: 81 \tTraining Loss: 1.81\n",
      "Epoch: 7 \tBatch: 91 \tTraining Loss: 1.81\n",
      "Accuracy of the network on the 1533 validation images: 78.86497064579257 %\n",
      "Epoch: 7 \tTraining Loss: 1.81 \tValidation Loss: 0.81\n",
      "Epoch: 8 \tBatch: 1 \tTraining Loss: 1.73\n",
      "Epoch: 8 \tBatch: 11 \tTraining Loss: 1.67\n",
      "Epoch: 8 \tBatch: 21 \tTraining Loss: 1.71\n",
      "Epoch: 8 \tBatch: 31 \tTraining Loss: 1.68\n",
      "Epoch: 8 \tBatch: 41 \tTraining Loss: 1.69\n",
      "Epoch: 8 \tBatch: 51 \tTraining Loss: 1.69\n",
      "Epoch: 8 \tBatch: 61 \tTraining Loss: 1.70\n",
      "Epoch: 8 \tBatch: 71 \tTraining Loss: 1.69\n",
      "Epoch: 8 \tBatch: 81 \tTraining Loss: 1.69\n",
      "Epoch: 8 \tBatch: 91 \tTraining Loss: 1.69\n",
      "Accuracy of the network on the 1533 validation images: 78.1474233529028 %\n",
      "Epoch: 8 \tTraining Loss: 1.70 \tValidation Loss: 0.75\n",
      "Epoch: 9 \tBatch: 1 \tTraining Loss: 1.75\n",
      "Epoch: 9 \tBatch: 11 \tTraining Loss: 1.70\n",
      "Epoch: 9 \tBatch: 21 \tTraining Loss: 1.71\n",
      "Epoch: 9 \tBatch: 31 \tTraining Loss: 1.69\n",
      "Epoch: 9 \tBatch: 41 \tTraining Loss: 1.67\n",
      "Epoch: 9 \tBatch: 51 \tTraining Loss: 1.67\n",
      "Epoch: 9 \tBatch: 61 \tTraining Loss: 1.67\n",
      "Epoch: 9 \tBatch: 71 \tTraining Loss: 1.67\n",
      "Epoch: 9 \tBatch: 81 \tTraining Loss: 1.66\n",
      "Epoch: 9 \tBatch: 91 \tTraining Loss: 1.67\n",
      "Accuracy of the network on the 1533 validation images: 80.03913894324853 %\n",
      "Epoch: 9 \tTraining Loss: 1.67 \tValidation Loss: 0.71\n",
      "Epoch: 10 \tBatch: 1 \tTraining Loss: 1.76\n",
      "Epoch: 10 \tBatch: 11 \tTraining Loss: 1.73\n",
      "Epoch: 10 \tBatch: 21 \tTraining Loss: 1.69\n",
      "Epoch: 10 \tBatch: 31 \tTraining Loss: 1.68\n",
      "Epoch: 10 \tBatch: 41 \tTraining Loss: 1.67\n",
      "Epoch: 10 \tBatch: 51 \tTraining Loss: 1.66\n",
      "Epoch: 10 \tBatch: 61 \tTraining Loss: 1.64\n",
      "Epoch: 10 \tBatch: 71 \tTraining Loss: 1.64\n",
      "Epoch: 10 \tBatch: 81 \tTraining Loss: 1.63\n",
      "Epoch: 10 \tBatch: 91 \tTraining Loss: 1.63\n",
      "Accuracy of the network on the 1533 validation images: 79.06066536203522 %\n",
      "Epoch: 10 \tTraining Loss: 1.64 \tValidation Loss: 0.67\n",
      "Epoch: 11 \tBatch: 1 \tTraining Loss: 1.56\n",
      "Epoch: 11 \tBatch: 11 \tTraining Loss: 1.65\n",
      "Epoch: 11 \tBatch: 21 \tTraining Loss: 1.63\n",
      "Epoch: 11 \tBatch: 31 \tTraining Loss: 1.60\n",
      "Epoch: 11 \tBatch: 41 \tTraining Loss: 1.59\n",
      "Epoch: 11 \tBatch: 51 \tTraining Loss: 1.58\n",
      "Epoch: 11 \tBatch: 61 \tTraining Loss: 1.57\n",
      "Epoch: 11 \tBatch: 71 \tTraining Loss: 1.57\n",
      "Epoch: 11 \tBatch: 81 \tTraining Loss: 1.55\n",
      "Epoch: 11 \tBatch: 91 \tTraining Loss: 1.55\n",
      "Accuracy of the network on the 1533 validation images: 80.56099151989562 %\n",
      "Epoch: 11 \tTraining Loss: 1.56 \tValidation Loss: 0.64\n",
      "Epoch: 12 \tBatch: 1 \tTraining Loss: 1.69\n",
      "Epoch: 12 \tBatch: 11 \tTraining Loss: 1.55\n",
      "Epoch: 12 \tBatch: 21 \tTraining Loss: 1.56\n",
      "Epoch: 12 \tBatch: 31 \tTraining Loss: 1.55\n",
      "Epoch: 12 \tBatch: 41 \tTraining Loss: 1.54\n",
      "Epoch: 12 \tBatch: 51 \tTraining Loss: 1.53\n",
      "Epoch: 12 \tBatch: 61 \tTraining Loss: 1.52\n",
      "Epoch: 12 \tBatch: 71 \tTraining Loss: 1.53\n",
      "Epoch: 12 \tBatch: 81 \tTraining Loss: 1.53\n",
      "Epoch: 12 \tBatch: 91 \tTraining Loss: 1.54\n",
      "Accuracy of the network on the 1533 validation images: 80.30006523157208 %\n",
      "Epoch: 12 \tTraining Loss: 1.54 \tValidation Loss: 0.61\n",
      "Epoch: 13 \tBatch: 1 \tTraining Loss: 1.20\n",
      "Epoch: 13 \tBatch: 11 \tTraining Loss: 1.44\n",
      "Epoch: 13 \tBatch: 21 \tTraining Loss: 1.47\n",
      "Epoch: 13 \tBatch: 31 \tTraining Loss: 1.47\n",
      "Epoch: 13 \tBatch: 41 \tTraining Loss: 1.48\n",
      "Epoch: 13 \tBatch: 51 \tTraining Loss: 1.47\n",
      "Epoch: 13 \tBatch: 61 \tTraining Loss: 1.48\n",
      "Epoch: 13 \tBatch: 71 \tTraining Loss: 1.49\n",
      "Epoch: 13 \tBatch: 81 \tTraining Loss: 1.50\n",
      "Epoch: 13 \tBatch: 91 \tTraining Loss: 1.50\n",
      "Accuracy of the network on the 1533 validation images: 79.7129810828441 %\n",
      "Epoch: 13 \tTraining Loss: 1.49 \tValidation Loss: 0.61\n",
      "Epoch: 14 \tBatch: 1 \tTraining Loss: 1.34\n",
      "Epoch: 14 \tBatch: 11 \tTraining Loss: 1.44\n",
      "Epoch: 14 \tBatch: 21 \tTraining Loss: 1.47\n",
      "Epoch: 14 \tBatch: 31 \tTraining Loss: 1.49\n",
      "Epoch: 14 \tBatch: 41 \tTraining Loss: 1.48\n",
      "Epoch: 14 \tBatch: 51 \tTraining Loss: 1.48\n",
      "Epoch: 14 \tBatch: 61 \tTraining Loss: 1.49\n",
      "Epoch: 14 \tBatch: 71 \tTraining Loss: 1.49\n",
      "Epoch: 14 \tBatch: 81 \tTraining Loss: 1.50\n",
      "Epoch: 14 \tBatch: 91 \tTraining Loss: 1.49\n",
      "Accuracy of the network on the 1533 validation images: 80.10437051532942 %\n",
      "Epoch: 14 \tTraining Loss: 1.49 \tValidation Loss: 0.58\n",
      "Epoch: 15 \tBatch: 1 \tTraining Loss: 1.43\n",
      "Epoch: 15 \tBatch: 11 \tTraining Loss: 1.42\n",
      "Epoch: 15 \tBatch: 21 \tTraining Loss: 1.46\n",
      "Epoch: 15 \tBatch: 31 \tTraining Loss: 1.47\n",
      "Epoch: 15 \tBatch: 41 \tTraining Loss: 1.44\n",
      "Epoch: 15 \tBatch: 51 \tTraining Loss: 1.42\n",
      "Epoch: 15 \tBatch: 61 \tTraining Loss: 1.44\n",
      "Epoch: 15 \tBatch: 71 \tTraining Loss: 1.45\n",
      "Epoch: 15 \tBatch: 81 \tTraining Loss: 1.47\n",
      "Epoch: 15 \tBatch: 91 \tTraining Loss: 1.45\n",
      "Accuracy of the network on the 1533 validation images: 79.84344422700588 %\n",
      "Epoch: 15 \tTraining Loss: 1.46 \tValidation Loss: 0.57\n",
      "Epoch: 16 \tBatch: 1 \tTraining Loss: 1.63\n",
      "Epoch: 16 \tBatch: 11 \tTraining Loss: 1.43\n",
      "Epoch: 16 \tBatch: 21 \tTraining Loss: 1.43\n",
      "Epoch: 16 \tBatch: 31 \tTraining Loss: 1.46\n",
      "Epoch: 16 \tBatch: 41 \tTraining Loss: 1.47\n",
      "Epoch: 16 \tBatch: 51 \tTraining Loss: 1.47\n",
      "Epoch: 16 \tBatch: 61 \tTraining Loss: 1.46\n",
      "Epoch: 16 \tBatch: 71 \tTraining Loss: 1.46\n",
      "Epoch: 16 \tBatch: 81 \tTraining Loss: 1.45\n",
      "Epoch: 16 \tBatch: 91 \tTraining Loss: 1.45\n",
      "Accuracy of the network on the 1533 validation images: 80.03913894324853 %\n",
      "Epoch: 16 \tTraining Loss: 1.45 \tValidation Loss: 0.57\n",
      "Epoch: 17 \tBatch: 1 \tTraining Loss: 1.92\n",
      "Epoch: 17 \tBatch: 11 \tTraining Loss: 1.59\n",
      "Epoch: 17 \tBatch: 21 \tTraining Loss: 1.52\n",
      "Epoch: 17 \tBatch: 31 \tTraining Loss: 1.50\n",
      "Epoch: 17 \tBatch: 41 \tTraining Loss: 1.47\n",
      "Epoch: 17 \tBatch: 51 \tTraining Loss: 1.45\n",
      "Epoch: 17 \tBatch: 61 \tTraining Loss: 1.46\n",
      "Epoch: 17 \tBatch: 71 \tTraining Loss: 1.45\n",
      "Epoch: 17 \tBatch: 81 \tTraining Loss: 1.43\n",
      "Epoch: 17 \tBatch: 91 \tTraining Loss: 1.43\n",
      "Accuracy of the network on the 1533 validation images: 81.14807566862362 %\n",
      "Epoch: 17 \tTraining Loss: 1.44 \tValidation Loss: 0.55\n",
      "Epoch: 18 \tBatch: 1 \tTraining Loss: 1.51\n",
      "Epoch: 18 \tBatch: 11 \tTraining Loss: 1.46\n",
      "Epoch: 18 \tBatch: 21 \tTraining Loss: 1.43\n",
      "Epoch: 18 \tBatch: 31 \tTraining Loss: 1.43\n",
      "Epoch: 18 \tBatch: 41 \tTraining Loss: 1.44\n",
      "Epoch: 18 \tBatch: 51 \tTraining Loss: 1.43\n",
      "Epoch: 18 \tBatch: 61 \tTraining Loss: 1.43\n",
      "Epoch: 18 \tBatch: 71 \tTraining Loss: 1.42\n",
      "Epoch: 18 \tBatch: 81 \tTraining Loss: 1.41\n",
      "Epoch: 18 \tBatch: 91 \tTraining Loss: 1.41\n",
      "Accuracy of the network on the 1533 validation images: 80.49575994781475 %\n",
      "Epoch: 18 \tTraining Loss: 1.43 \tValidation Loss: 0.54\n",
      "Epoch: 19 \tBatch: 1 \tTraining Loss: 1.28\n",
      "Epoch: 19 \tBatch: 11 \tTraining Loss: 1.42\n",
      "Epoch: 19 \tBatch: 21 \tTraining Loss: 1.39\n",
      "Epoch: 19 \tBatch: 31 \tTraining Loss: 1.38\n",
      "Epoch: 19 \tBatch: 41 \tTraining Loss: 1.39\n",
      "Epoch: 19 \tBatch: 51 \tTraining Loss: 1.40\n",
      "Epoch: 19 \tBatch: 61 \tTraining Loss: 1.39\n",
      "Epoch: 19 \tBatch: 71 \tTraining Loss: 1.40\n",
      "Epoch: 19 \tBatch: 81 \tTraining Loss: 1.40\n",
      "Epoch: 19 \tBatch: 91 \tTraining Loss: 1.39\n",
      "Accuracy of the network on the 1533 validation images: 81.66992824527071 %\n",
      "Epoch: 19 \tTraining Loss: 1.41 \tValidation Loss: 0.53\n",
      "Epoch: 20 \tBatch: 1 \tTraining Loss: 1.62\n",
      "Epoch: 20 \tBatch: 11 \tTraining Loss: 1.47\n",
      "Epoch: 20 \tBatch: 21 \tTraining Loss: 1.50\n",
      "Epoch: 20 \tBatch: 31 \tTraining Loss: 1.46\n",
      "Epoch: 20 \tBatch: 41 \tTraining Loss: 1.44\n",
      "Epoch: 20 \tBatch: 51 \tTraining Loss: 1.43\n",
      "Epoch: 20 \tBatch: 61 \tTraining Loss: 1.42\n",
      "Epoch: 20 \tBatch: 71 \tTraining Loss: 1.42\n",
      "Epoch: 20 \tBatch: 81 \tTraining Loss: 1.42\n",
      "Epoch: 20 \tBatch: 91 \tTraining Loss: 1.42\n",
      "Accuracy of the network on the 1533 validation images: 80.82191780821918 %\n",
      "Epoch: 20 \tTraining Loss: 1.42 \tValidation Loss: 0.53\n"
     ]
    }
   ],
   "source": [
    "n_epochs = 20\n",
    "\n",
    "output_model =  train(n_epochs, dataloaders, inceptionv3_model, optimizer, loss_function, use_cuda)"
   ]
  },
  {
   "cell_type": "code",
   "execution_count": 29,
   "metadata": {
    "id": "LkTJ909l6TXl"
   },
   "outputs": [],
   "source": [
    "def redirect_error():\n",
    "    sys.stderr = open('/dev/null', 'w')"
   ]
  },
  {
   "cell_type": "code",
   "execution_count": 30,
   "metadata": {
    "colab": {
     "base_uri": "https://localhost:8080/"
    },
    "id": "6_OSYmhg6WuT",
    "outputId": "9b06b1c3-76d8-4d5c-eeef-c3e31d127817"
   },
   "outputs": [
    {
     "name": "stdout",
     "output_type": "stream",
     "text": [
      "Accuracy of the network on the 2172 testing images:  84.53 %\n"
     ]
    }
   ],
   "source": [
    "redirect_error()\n",
    "correct = 0\n",
    "total = 0\n",
    "for images, labels in dataloaders['test']:\n",
    "    if use_cuda:\n",
    "        images = images.cuda()\n",
    "        labels = labels.cuda()\n",
    "\n",
    "    outputs = inceptionv3_model(images)\n",
    "\n",
    "    _, predicted = torch.max(outputs.data, 1)\n",
    "    total += labels.size(0)\n",
    "    correct += (predicted == labels).sum().item()\n",
    "\n",
    "print(f'Accuracy of the network on the {total} testing images: {100 * correct / total: .2f} %')"
   ]
  },
  {
   "cell_type": "markdown",
   "metadata": {
    "id": "cuQNRL7en7iJ"
   },
   "source": [
    "# lets run for 30 more epochs"
   ]
  },
  {
   "cell_type": "code",
   "execution_count": 31,
   "metadata": {
    "colab": {
     "base_uri": "https://localhost:8080/"
    },
    "execution": {
     "iopub.execute_input": "2023-04-29T01:50:32.739367Z",
     "iopub.status.busy": "2023-04-29T01:50:32.738595Z",
     "iopub.status.idle": "2023-04-29T02:19:54.086443Z",
     "shell.execute_reply": "2023-04-29T02:19:54.085263Z",
     "shell.execute_reply.started": "2023-04-29T01:50:32.739332Z"
    },
    "id": "rGOwo-F0n7iK",
    "outputId": "0a14d30f-d1b4-4311-ca6e-43946895f54c"
   },
   "outputs": [
    {
     "name": "stdout",
     "output_type": "stream",
     "text": [
      "Epoch: 1 \tBatch: 1 \tTraining Loss: 1.29\n",
      "Epoch: 1 \tBatch: 11 \tTraining Loss: 1.37\n",
      "Epoch: 1 \tBatch: 21 \tTraining Loss: 1.37\n",
      "Epoch: 1 \tBatch: 31 \tTraining Loss: 1.38\n",
      "Epoch: 1 \tBatch: 41 \tTraining Loss: 1.39\n",
      "Epoch: 1 \tBatch: 51 \tTraining Loss: 1.39\n",
      "Epoch: 1 \tBatch: 61 \tTraining Loss: 1.38\n",
      "Epoch: 1 \tBatch: 71 \tTraining Loss: 1.39\n",
      "Epoch: 1 \tBatch: 81 \tTraining Loss: 1.39\n",
      "Epoch: 1 \tBatch: 91 \tTraining Loss: 1.38\n",
      "Accuracy of the network on the 1533 validation images: 80.82191780821918 %\n",
      "Epoch: 1 \tTraining Loss: 1.39 \tValidation Loss: 0.52\n",
      "Epoch: 2 \tBatch: 1 \tTraining Loss: 1.18\n",
      "Epoch: 2 \tBatch: 11 \tTraining Loss: 1.34\n",
      "Epoch: 2 \tBatch: 21 \tTraining Loss: 1.32\n",
      "Epoch: 2 \tBatch: 31 \tTraining Loss: 1.33\n",
      "Epoch: 2 \tBatch: 41 \tTraining Loss: 1.36\n",
      "Epoch: 2 \tBatch: 51 \tTraining Loss: 1.37\n",
      "Epoch: 2 \tBatch: 61 \tTraining Loss: 1.35\n",
      "Epoch: 2 \tBatch: 71 \tTraining Loss: 1.37\n",
      "Epoch: 2 \tBatch: 81 \tTraining Loss: 1.36\n",
      "Epoch: 2 \tBatch: 91 \tTraining Loss: 1.35\n",
      "Accuracy of the network on the 1533 validation images: 81.93085453359426 %\n",
      "Epoch: 2 \tTraining Loss: 1.35 \tValidation Loss: 0.51\n",
      "Epoch: 3 \tBatch: 1 \tTraining Loss: 1.41\n",
      "Epoch: 3 \tBatch: 11 \tTraining Loss: 1.34\n",
      "Epoch: 3 \tBatch: 21 \tTraining Loss: 1.35\n",
      "Epoch: 3 \tBatch: 31 \tTraining Loss: 1.38\n",
      "Epoch: 3 \tBatch: 41 \tTraining Loss: 1.38\n",
      "Epoch: 3 \tBatch: 51 \tTraining Loss: 1.38\n",
      "Epoch: 3 \tBatch: 61 \tTraining Loss: 1.37\n",
      "Epoch: 3 \tBatch: 71 \tTraining Loss: 1.37\n",
      "Epoch: 3 \tBatch: 81 \tTraining Loss: 1.37\n",
      "Epoch: 3 \tBatch: 91 \tTraining Loss: 1.37\n",
      "Accuracy of the network on the 1533 validation images: 81.60469667318982 %\n",
      "Epoch: 3 \tTraining Loss: 1.36 \tValidation Loss: 0.51\n",
      "Epoch: 4 \tBatch: 1 \tTraining Loss: 1.54\n",
      "Epoch: 4 \tBatch: 11 \tTraining Loss: 1.39\n",
      "Epoch: 4 \tBatch: 21 \tTraining Loss: 1.35\n",
      "Epoch: 4 \tBatch: 31 \tTraining Loss: 1.35\n",
      "Epoch: 4 \tBatch: 41 \tTraining Loss: 1.37\n",
      "Epoch: 4 \tBatch: 51 \tTraining Loss: 1.37\n",
      "Epoch: 4 \tBatch: 61 \tTraining Loss: 1.36\n",
      "Epoch: 4 \tBatch: 71 \tTraining Loss: 1.36\n",
      "Epoch: 4 \tBatch: 81 \tTraining Loss: 1.36\n",
      "Epoch: 4 \tBatch: 91 \tTraining Loss: 1.37\n",
      "Accuracy of the network on the 1533 validation images: 82.45270711024136 %\n",
      "Epoch: 4 \tTraining Loss: 1.37 \tValidation Loss: 0.51\n",
      "Epoch: 5 \tBatch: 1 \tTraining Loss: 1.63\n",
      "Epoch: 5 \tBatch: 11 \tTraining Loss: 1.41\n",
      "Epoch: 5 \tBatch: 21 \tTraining Loss: 1.35\n",
      "Epoch: 5 \tBatch: 31 \tTraining Loss: 1.30\n",
      "Epoch: 5 \tBatch: 41 \tTraining Loss: 1.33\n",
      "Epoch: 5 \tBatch: 51 \tTraining Loss: 1.33\n",
      "Epoch: 5 \tBatch: 61 \tTraining Loss: 1.33\n",
      "Epoch: 5 \tBatch: 71 \tTraining Loss: 1.31\n",
      "Epoch: 5 \tBatch: 81 \tTraining Loss: 1.32\n",
      "Epoch: 5 \tBatch: 91 \tTraining Loss: 1.33\n",
      "Accuracy of the network on the 1533 validation images: 81.27853881278538 %\n",
      "Epoch: 5 \tTraining Loss: 1.33 \tValidation Loss: 0.50\n",
      "Epoch: 6 \tBatch: 1 \tTraining Loss: 1.33\n",
      "Epoch: 6 \tBatch: 11 \tTraining Loss: 1.45\n",
      "Epoch: 6 \tBatch: 21 \tTraining Loss: 1.38\n",
      "Epoch: 6 \tBatch: 31 \tTraining Loss: 1.37\n",
      "Epoch: 6 \tBatch: 41 \tTraining Loss: 1.37\n",
      "Epoch: 6 \tBatch: 51 \tTraining Loss: 1.37\n",
      "Epoch: 6 \tBatch: 61 \tTraining Loss: 1.37\n",
      "Epoch: 6 \tBatch: 71 \tTraining Loss: 1.35\n",
      "Epoch: 6 \tBatch: 81 \tTraining Loss: 1.36\n",
      "Epoch: 6 \tBatch: 91 \tTraining Loss: 1.35\n",
      "Accuracy of the network on the 1533 validation images: 81.34377038486627 %\n",
      "Epoch: 6 \tTraining Loss: 1.35 \tValidation Loss: 0.50\n",
      "Epoch: 7 \tBatch: 1 \tTraining Loss: 1.32\n",
      "Epoch: 7 \tBatch: 11 \tTraining Loss: 1.31\n",
      "Epoch: 7 \tBatch: 21 \tTraining Loss: 1.36\n",
      "Epoch: 7 \tBatch: 31 \tTraining Loss: 1.34\n",
      "Epoch: 7 \tBatch: 41 \tTraining Loss: 1.34\n",
      "Epoch: 7 \tBatch: 51 \tTraining Loss: 1.36\n",
      "Epoch: 7 \tBatch: 61 \tTraining Loss: 1.36\n",
      "Epoch: 7 \tBatch: 71 \tTraining Loss: 1.37\n",
      "Epoch: 7 \tBatch: 81 \tTraining Loss: 1.37\n",
      "Epoch: 7 \tBatch: 91 \tTraining Loss: 1.36\n",
      "Accuracy of the network on the 1533 validation images: 80.49575994781475 %\n",
      "Epoch: 7 \tTraining Loss: 1.36 \tValidation Loss: 0.50\n",
      "Epoch: 8 \tBatch: 1 \tTraining Loss: 1.54\n",
      "Epoch: 8 \tBatch: 11 \tTraining Loss: 1.37\n",
      "Epoch: 8 \tBatch: 21 \tTraining Loss: 1.35\n",
      "Epoch: 8 \tBatch: 31 \tTraining Loss: 1.35\n",
      "Epoch: 8 \tBatch: 41 \tTraining Loss: 1.36\n",
      "Epoch: 8 \tBatch: 51 \tTraining Loss: 1.36\n",
      "Epoch: 8 \tBatch: 61 \tTraining Loss: 1.37\n",
      "Epoch: 8 \tBatch: 71 \tTraining Loss: 1.36\n",
      "Epoch: 8 \tBatch: 81 \tTraining Loss: 1.36\n",
      "Epoch: 8 \tBatch: 91 \tTraining Loss: 1.35\n",
      "Accuracy of the network on the 1533 validation images: 80.23483365949119 %\n",
      "Epoch: 8 \tTraining Loss: 1.35 \tValidation Loss: 0.49\n",
      "Epoch: 9 \tBatch: 1 \tTraining Loss: 1.35\n",
      "Epoch: 9 \tBatch: 11 \tTraining Loss: 1.28\n",
      "Epoch: 9 \tBatch: 21 \tTraining Loss: 1.27\n",
      "Epoch: 9 \tBatch: 31 \tTraining Loss: 1.29\n",
      "Epoch: 9 \tBatch: 41 \tTraining Loss: 1.29\n",
      "Epoch: 9 \tBatch: 51 \tTraining Loss: 1.31\n",
      "Epoch: 9 \tBatch: 61 \tTraining Loss: 1.32\n",
      "Epoch: 9 \tBatch: 71 \tTraining Loss: 1.31\n",
      "Epoch: 9 \tBatch: 81 \tTraining Loss: 1.31\n",
      "Epoch: 9 \tBatch: 91 \tTraining Loss: 1.31\n",
      "Accuracy of the network on the 1533 validation images: 81.53946510110893 %\n",
      "Epoch: 9 \tTraining Loss: 1.32 \tValidation Loss: 0.49\n",
      "Epoch: 10 \tBatch: 1 \tTraining Loss: 1.35\n",
      "Epoch: 10 \tBatch: 11 \tTraining Loss: 1.32\n",
      "Epoch: 10 \tBatch: 21 \tTraining Loss: 1.29\n",
      "Epoch: 10 \tBatch: 31 \tTraining Loss: 1.33\n",
      "Epoch: 10 \tBatch: 41 \tTraining Loss: 1.31\n",
      "Epoch: 10 \tBatch: 51 \tTraining Loss: 1.31\n",
      "Epoch: 10 \tBatch: 61 \tTraining Loss: 1.31\n",
      "Epoch: 10 \tBatch: 71 \tTraining Loss: 1.32\n",
      "Epoch: 10 \tBatch: 81 \tTraining Loss: 1.31\n",
      "Epoch: 10 \tBatch: 91 \tTraining Loss: 1.33\n",
      "Accuracy of the network on the 1533 validation images: 81.7351598173516 %\n",
      "Epoch: 10 \tTraining Loss: 1.33 \tValidation Loss: 0.48\n",
      "Epoch: 11 \tBatch: 1 \tTraining Loss: 1.33\n",
      "Epoch: 11 \tBatch: 11 \tTraining Loss: 1.38\n",
      "Epoch: 11 \tBatch: 21 \tTraining Loss: 1.33\n",
      "Epoch: 11 \tBatch: 31 \tTraining Loss: 1.32\n",
      "Epoch: 11 \tBatch: 41 \tTraining Loss: 1.31\n",
      "Epoch: 11 \tBatch: 51 \tTraining Loss: 1.32\n",
      "Epoch: 11 \tBatch: 61 \tTraining Loss: 1.32\n",
      "Epoch: 11 \tBatch: 71 \tTraining Loss: 1.32\n",
      "Epoch: 11 \tBatch: 81 \tTraining Loss: 1.33\n",
      "Epoch: 11 \tBatch: 91 \tTraining Loss: 1.33\n",
      "Accuracy of the network on the 1533 validation images: 81.7351598173516 %\n",
      "Epoch: 11 \tTraining Loss: 1.33 \tValidation Loss: 0.49\n",
      "Epoch: 12 \tBatch: 1 \tTraining Loss: 1.05\n",
      "Epoch: 12 \tBatch: 11 \tTraining Loss: 1.26\n",
      "Epoch: 12 \tBatch: 21 \tTraining Loss: 1.29\n",
      "Epoch: 12 \tBatch: 31 \tTraining Loss: 1.32\n",
      "Epoch: 12 \tBatch: 41 \tTraining Loss: 1.33\n",
      "Epoch: 12 \tBatch: 51 \tTraining Loss: 1.33\n",
      "Epoch: 12 \tBatch: 61 \tTraining Loss: 1.33\n",
      "Epoch: 12 \tBatch: 71 \tTraining Loss: 1.33\n",
      "Epoch: 12 \tBatch: 81 \tTraining Loss: 1.32\n",
      "Epoch: 12 \tBatch: 91 \tTraining Loss: 1.32\n",
      "Accuracy of the network on the 1533 validation images: 81.99608610567515 %\n",
      "Epoch: 12 \tTraining Loss: 1.33 \tValidation Loss: 0.48\n",
      "Epoch: 13 \tBatch: 1 \tTraining Loss: 1.37\n",
      "Epoch: 13 \tBatch: 11 \tTraining Loss: 1.27\n",
      "Epoch: 13 \tBatch: 21 \tTraining Loss: 1.30\n",
      "Epoch: 13 \tBatch: 31 \tTraining Loss: 1.27\n",
      "Epoch: 13 \tBatch: 41 \tTraining Loss: 1.28\n",
      "Epoch: 13 \tBatch: 51 \tTraining Loss: 1.28\n",
      "Epoch: 13 \tBatch: 61 \tTraining Loss: 1.30\n",
      "Epoch: 13 \tBatch: 71 \tTraining Loss: 1.30\n",
      "Epoch: 13 \tBatch: 81 \tTraining Loss: 1.30\n",
      "Epoch: 13 \tBatch: 91 \tTraining Loss: 1.31\n",
      "Accuracy of the network on the 1533 validation images: 82.45270711024136 %\n",
      "Epoch: 13 \tTraining Loss: 1.32 \tValidation Loss: 0.48\n",
      "Epoch: 14 \tBatch: 1 \tTraining Loss: 1.36\n",
      "Epoch: 14 \tBatch: 11 \tTraining Loss: 1.29\n",
      "Epoch: 14 \tBatch: 21 \tTraining Loss: 1.28\n",
      "Epoch: 14 \tBatch: 31 \tTraining Loss: 1.31\n",
      "Epoch: 14 \tBatch: 41 \tTraining Loss: 1.30\n",
      "Epoch: 14 \tBatch: 51 \tTraining Loss: 1.30\n",
      "Epoch: 14 \tBatch: 61 \tTraining Loss: 1.30\n",
      "Epoch: 14 \tBatch: 71 \tTraining Loss: 1.30\n",
      "Epoch: 14 \tBatch: 81 \tTraining Loss: 1.30\n",
      "Epoch: 14 \tBatch: 91 \tTraining Loss: 1.29\n",
      "Accuracy of the network on the 1533 validation images: 81.93085453359426 %\n",
      "Epoch: 14 \tTraining Loss: 1.31 \tValidation Loss: 0.48\n",
      "Epoch: 15 \tBatch: 1 \tTraining Loss: 1.22\n",
      "Epoch: 15 \tBatch: 11 \tTraining Loss: 1.26\n",
      "Epoch: 15 \tBatch: 21 \tTraining Loss: 1.33\n",
      "Epoch: 15 \tBatch: 31 \tTraining Loss: 1.30\n",
      "Epoch: 15 \tBatch: 41 \tTraining Loss: 1.29\n",
      "Epoch: 15 \tBatch: 51 \tTraining Loss: 1.28\n",
      "Epoch: 15 \tBatch: 61 \tTraining Loss: 1.28\n",
      "Epoch: 15 \tBatch: 71 \tTraining Loss: 1.27\n",
      "Epoch: 15 \tBatch: 81 \tTraining Loss: 1.28\n",
      "Epoch: 15 \tBatch: 91 \tTraining Loss: 1.29\n",
      "Accuracy of the network on the 1533 validation images: 81.7351598173516 %\n",
      "Epoch: 15 \tTraining Loss: 1.29 \tValidation Loss: 0.48\n",
      "Epoch: 16 \tBatch: 1 \tTraining Loss: 1.36\n",
      "Epoch: 16 \tBatch: 11 \tTraining Loss: 1.36\n",
      "Epoch: 16 \tBatch: 21 \tTraining Loss: 1.36\n",
      "Epoch: 16 \tBatch: 31 \tTraining Loss: 1.34\n",
      "Epoch: 16 \tBatch: 41 \tTraining Loss: 1.32\n",
      "Epoch: 16 \tBatch: 51 \tTraining Loss: 1.30\n",
      "Epoch: 16 \tBatch: 61 \tTraining Loss: 1.29\n",
      "Epoch: 16 \tBatch: 71 \tTraining Loss: 1.27\n",
      "Epoch: 16 \tBatch: 81 \tTraining Loss: 1.27\n",
      "Epoch: 16 \tBatch: 91 \tTraining Loss: 1.26\n",
      "Accuracy of the network on the 1533 validation images: 82.12654924983693 %\n",
      "Epoch: 16 \tTraining Loss: 1.27 \tValidation Loss: 0.48\n",
      "Epoch: 17 \tBatch: 1 \tTraining Loss: 1.42\n",
      "Epoch: 17 \tBatch: 11 \tTraining Loss: 1.34\n",
      "Epoch: 17 \tBatch: 21 \tTraining Loss: 1.34\n",
      "Epoch: 17 \tBatch: 31 \tTraining Loss: 1.35\n",
      "Epoch: 17 \tBatch: 41 \tTraining Loss: 1.35\n",
      "Epoch: 17 \tBatch: 51 \tTraining Loss: 1.33\n",
      "Epoch: 17 \tBatch: 61 \tTraining Loss: 1.31\n",
      "Epoch: 17 \tBatch: 71 \tTraining Loss: 1.31\n",
      "Epoch: 17 \tBatch: 81 \tTraining Loss: 1.31\n",
      "Epoch: 17 \tBatch: 91 \tTraining Loss: 1.30\n",
      "Accuracy of the network on the 1533 validation images: 81.80039138943249 %\n",
      "Epoch: 17 \tTraining Loss: 1.30 \tValidation Loss: 0.48\n",
      "Epoch: 18 \tBatch: 1 \tTraining Loss: 1.43\n",
      "Epoch: 18 \tBatch: 11 \tTraining Loss: 1.26\n",
      "Epoch: 18 \tBatch: 21 \tTraining Loss: 1.30\n",
      "Epoch: 18 \tBatch: 31 \tTraining Loss: 1.32\n",
      "Epoch: 18 \tBatch: 41 \tTraining Loss: 1.27\n",
      "Epoch: 18 \tBatch: 51 \tTraining Loss: 1.29\n",
      "Epoch: 18 \tBatch: 61 \tTraining Loss: 1.28\n",
      "Epoch: 18 \tBatch: 71 \tTraining Loss: 1.28\n",
      "Epoch: 18 \tBatch: 81 \tTraining Loss: 1.28\n",
      "Epoch: 18 \tBatch: 91 \tTraining Loss: 1.28\n",
      "Accuracy of the network on the 1533 validation images: 82.45270711024136 %\n",
      "Epoch: 18 \tTraining Loss: 1.29 \tValidation Loss: 0.47\n",
      "Epoch: 19 \tBatch: 1 \tTraining Loss: 0.86\n",
      "Epoch: 19 \tBatch: 11 \tTraining Loss: 1.29\n",
      "Epoch: 19 \tBatch: 21 \tTraining Loss: 1.28\n",
      "Epoch: 19 \tBatch: 31 \tTraining Loss: 1.25\n",
      "Epoch: 19 \tBatch: 41 \tTraining Loss: 1.25\n",
      "Epoch: 19 \tBatch: 51 \tTraining Loss: 1.26\n",
      "Epoch: 19 \tBatch: 61 \tTraining Loss: 1.26\n",
      "Epoch: 19 \tBatch: 71 \tTraining Loss: 1.26\n",
      "Epoch: 19 \tBatch: 81 \tTraining Loss: 1.26\n",
      "Epoch: 19 \tBatch: 91 \tTraining Loss: 1.28\n",
      "Accuracy of the network on the 1533 validation images: 82.64840182648402 %\n",
      "Epoch: 19 \tTraining Loss: 1.29 \tValidation Loss: 0.47\n",
      "Epoch: 20 \tBatch: 1 \tTraining Loss: 1.35\n",
      "Epoch: 20 \tBatch: 11 \tTraining Loss: 1.27\n",
      "Epoch: 20 \tBatch: 21 \tTraining Loss: 1.32\n",
      "Epoch: 20 \tBatch: 31 \tTraining Loss: 1.32\n",
      "Epoch: 20 \tBatch: 41 \tTraining Loss: 1.29\n",
      "Epoch: 20 \tBatch: 51 \tTraining Loss: 1.28\n",
      "Epoch: 20 \tBatch: 61 \tTraining Loss: 1.27\n",
      "Epoch: 20 \tBatch: 71 \tTraining Loss: 1.30\n",
      "Epoch: 20 \tBatch: 81 \tTraining Loss: 1.29\n",
      "Epoch: 20 \tBatch: 91 \tTraining Loss: 1.29\n",
      "Accuracy of the network on the 1533 validation images: 82.32224396607958 %\n",
      "Epoch: 20 \tTraining Loss: 1.29 \tValidation Loss: 0.48\n",
      "Epoch: 21 \tBatch: 1 \tTraining Loss: 1.16\n",
      "Epoch: 21 \tBatch: 11 \tTraining Loss: 1.24\n",
      "Epoch: 21 \tBatch: 21 \tTraining Loss: 1.29\n",
      "Epoch: 21 \tBatch: 31 \tTraining Loss: 1.29\n",
      "Epoch: 21 \tBatch: 41 \tTraining Loss: 1.29\n",
      "Epoch: 21 \tBatch: 51 \tTraining Loss: 1.27\n",
      "Epoch: 21 \tBatch: 61 \tTraining Loss: 1.27\n",
      "Epoch: 21 \tBatch: 71 \tTraining Loss: 1.27\n",
      "Epoch: 21 \tBatch: 81 \tTraining Loss: 1.27\n",
      "Epoch: 21 \tBatch: 91 \tTraining Loss: 1.27\n",
      "Accuracy of the network on the 1533 validation images: 82.32224396607958 %\n",
      "Epoch: 21 \tTraining Loss: 1.27 \tValidation Loss: 0.47\n",
      "Epoch: 22 \tBatch: 1 \tTraining Loss: 1.57\n",
      "Epoch: 22 \tBatch: 11 \tTraining Loss: 1.26\n",
      "Epoch: 22 \tBatch: 21 \tTraining Loss: 1.26\n",
      "Epoch: 22 \tBatch: 31 \tTraining Loss: 1.29\n",
      "Epoch: 22 \tBatch: 41 \tTraining Loss: 1.30\n",
      "Epoch: 22 \tBatch: 51 \tTraining Loss: 1.29\n",
      "Epoch: 22 \tBatch: 61 \tTraining Loss: 1.28\n",
      "Epoch: 22 \tBatch: 71 \tTraining Loss: 1.28\n",
      "Epoch: 22 \tBatch: 81 \tTraining Loss: 1.28\n",
      "Epoch: 22 \tBatch: 91 \tTraining Loss: 1.27\n",
      "Accuracy of the network on the 1533 validation images: 81.60469667318982 %\n",
      "Epoch: 22 \tTraining Loss: 1.26 \tValidation Loss: 0.47\n",
      "Epoch: 23 \tBatch: 1 \tTraining Loss: 1.23\n",
      "Epoch: 23 \tBatch: 11 \tTraining Loss: 1.31\n",
      "Epoch: 23 \tBatch: 21 \tTraining Loss: 1.32\n",
      "Epoch: 23 \tBatch: 31 \tTraining Loss: 1.33\n",
      "Epoch: 23 \tBatch: 41 \tTraining Loss: 1.32\n",
      "Epoch: 23 \tBatch: 51 \tTraining Loss: 1.31\n",
      "Epoch: 23 \tBatch: 61 \tTraining Loss: 1.33\n",
      "Epoch: 23 \tBatch: 71 \tTraining Loss: 1.33\n",
      "Epoch: 23 \tBatch: 81 \tTraining Loss: 1.32\n",
      "Epoch: 23 \tBatch: 91 \tTraining Loss: 1.31\n",
      "Accuracy of the network on the 1533 validation images: 81.47423352902806 %\n",
      "Epoch: 23 \tTraining Loss: 1.33 \tValidation Loss: 0.47\n",
      "Epoch: 24 \tBatch: 1 \tTraining Loss: 1.24\n",
      "Epoch: 24 \tBatch: 11 \tTraining Loss: 1.24\n",
      "Epoch: 24 \tBatch: 21 \tTraining Loss: 1.28\n",
      "Epoch: 24 \tBatch: 31 \tTraining Loss: 1.27\n",
      "Epoch: 24 \tBatch: 41 \tTraining Loss: 1.29\n",
      "Epoch: 24 \tBatch: 51 \tTraining Loss: 1.30\n",
      "Epoch: 24 \tBatch: 61 \tTraining Loss: 1.30\n",
      "Epoch: 24 \tBatch: 71 \tTraining Loss: 1.29\n",
      "Epoch: 24 \tBatch: 81 \tTraining Loss: 1.28\n",
      "Epoch: 24 \tBatch: 91 \tTraining Loss: 1.27\n",
      "Accuracy of the network on the 1533 validation images: 81.2133072407045 %\n",
      "Epoch: 24 \tTraining Loss: 1.30 \tValidation Loss: 0.48\n",
      "Epoch: 25 \tBatch: 1 \tTraining Loss: 1.33\n",
      "Epoch: 25 \tBatch: 11 \tTraining Loss: 1.16\n",
      "Epoch: 25 \tBatch: 21 \tTraining Loss: 1.21\n",
      "Epoch: 25 \tBatch: 31 \tTraining Loss: 1.21\n",
      "Epoch: 25 \tBatch: 41 \tTraining Loss: 1.21\n",
      "Epoch: 25 \tBatch: 51 \tTraining Loss: 1.21\n",
      "Epoch: 25 \tBatch: 61 \tTraining Loss: 1.21\n",
      "Epoch: 25 \tBatch: 71 \tTraining Loss: 1.21\n",
      "Epoch: 25 \tBatch: 81 \tTraining Loss: 1.20\n",
      "Epoch: 25 \tBatch: 91 \tTraining Loss: 1.21\n",
      "Accuracy of the network on the 1533 validation images: 81.93085453359426 %\n",
      "Epoch: 25 \tTraining Loss: 1.22 \tValidation Loss: 0.47\n",
      "Epoch: 26 \tBatch: 1 \tTraining Loss: 1.40\n",
      "Epoch: 26 \tBatch: 11 \tTraining Loss: 1.27\n",
      "Epoch: 26 \tBatch: 21 \tTraining Loss: 1.30\n",
      "Epoch: 26 \tBatch: 31 \tTraining Loss: 1.27\n",
      "Epoch: 26 \tBatch: 41 \tTraining Loss: 1.30\n",
      "Epoch: 26 \tBatch: 51 \tTraining Loss: 1.27\n",
      "Epoch: 26 \tBatch: 61 \tTraining Loss: 1.25\n",
      "Epoch: 26 \tBatch: 71 \tTraining Loss: 1.24\n",
      "Epoch: 26 \tBatch: 81 \tTraining Loss: 1.25\n",
      "Epoch: 26 \tBatch: 91 \tTraining Loss: 1.24\n",
      "Accuracy of the network on the 1533 validation images: 81.47423352902806 %\n",
      "Epoch: 26 \tTraining Loss: 1.25 \tValidation Loss: 0.47\n",
      "Epoch: 27 \tBatch: 1 \tTraining Loss: 1.40\n",
      "Epoch: 27 \tBatch: 11 \tTraining Loss: 1.22\n",
      "Epoch: 27 \tBatch: 21 \tTraining Loss: 1.22\n",
      "Epoch: 27 \tBatch: 31 \tTraining Loss: 1.25\n",
      "Epoch: 27 \tBatch: 41 \tTraining Loss: 1.25\n",
      "Epoch: 27 \tBatch: 51 \tTraining Loss: 1.25\n",
      "Epoch: 27 \tBatch: 61 \tTraining Loss: 1.26\n",
      "Epoch: 27 \tBatch: 71 \tTraining Loss: 1.27\n",
      "Epoch: 27 \tBatch: 81 \tTraining Loss: 1.26\n",
      "Epoch: 27 \tBatch: 91 \tTraining Loss: 1.25\n",
      "Accuracy of the network on the 1533 validation images: 81.93085453359426 %\n",
      "Epoch: 27 \tTraining Loss: 1.25 \tValidation Loss: 0.47\n",
      "Epoch: 28 \tBatch: 1 \tTraining Loss: 1.48\n",
      "Epoch: 28 \tBatch: 11 \tTraining Loss: 1.24\n",
      "Epoch: 28 \tBatch: 21 \tTraining Loss: 1.30\n",
      "Epoch: 28 \tBatch: 31 \tTraining Loss: 1.24\n",
      "Epoch: 28 \tBatch: 41 \tTraining Loss: 1.24\n",
      "Epoch: 28 \tBatch: 51 \tTraining Loss: 1.24\n",
      "Epoch: 28 \tBatch: 61 \tTraining Loss: 1.25\n",
      "Epoch: 28 \tBatch: 71 \tTraining Loss: 1.24\n",
      "Epoch: 28 \tBatch: 81 \tTraining Loss: 1.24\n",
      "Epoch: 28 \tBatch: 91 \tTraining Loss: 1.25\n",
      "Accuracy of the network on the 1533 validation images: 82.71363339856491 %\n",
      "Epoch: 28 \tTraining Loss: 1.26 \tValidation Loss: 0.47\n",
      "Epoch: 29 \tBatch: 1 \tTraining Loss: 1.09\n",
      "Epoch: 29 \tBatch: 11 \tTraining Loss: 1.27\n",
      "Epoch: 29 \tBatch: 21 \tTraining Loss: 1.28\n",
      "Epoch: 29 \tBatch: 31 \tTraining Loss: 1.27\n",
      "Epoch: 29 \tBatch: 41 \tTraining Loss: 1.27\n",
      "Epoch: 29 \tBatch: 51 \tTraining Loss: 1.26\n",
      "Epoch: 29 \tBatch: 61 \tTraining Loss: 1.26\n",
      "Epoch: 29 \tBatch: 71 \tTraining Loss: 1.25\n",
      "Epoch: 29 \tBatch: 81 \tTraining Loss: 1.25\n",
      "Epoch: 29 \tBatch: 91 \tTraining Loss: 1.25\n",
      "Accuracy of the network on the 1533 validation images: 81.80039138943249 %\n",
      "Epoch: 29 \tTraining Loss: 1.26 \tValidation Loss: 0.47\n",
      "Epoch: 30 \tBatch: 1 \tTraining Loss: 1.26\n",
      "Epoch: 30 \tBatch: 11 \tTraining Loss: 1.20\n",
      "Epoch: 30 \tBatch: 21 \tTraining Loss: 1.21\n",
      "Epoch: 30 \tBatch: 31 \tTraining Loss: 1.19\n",
      "Epoch: 30 \tBatch: 41 \tTraining Loss: 1.20\n",
      "Epoch: 30 \tBatch: 51 \tTraining Loss: 1.21\n",
      "Epoch: 30 \tBatch: 61 \tTraining Loss: 1.21\n",
      "Epoch: 30 \tBatch: 71 \tTraining Loss: 1.22\n",
      "Epoch: 30 \tBatch: 81 \tTraining Loss: 1.23\n",
      "Epoch: 30 \tBatch: 91 \tTraining Loss: 1.23\n",
      "Accuracy of the network on the 1533 validation images: 82.1917808219178 %\n",
      "Epoch: 30 \tTraining Loss: 1.23 \tValidation Loss: 0.46\n"
     ]
    }
   ],
   "source": [
    "n_epochs = 30\n",
    "\n",
    "output_model =  train(n_epochs, dataloaders, inceptionv3_model, optimizer, loss_function, use_cuda)"
   ]
  },
  {
   "cell_type": "markdown",
   "metadata": {
    "id": "W_vnEg-vn7iK"
   },
   "source": [
    "# The loss value seems to be not improving now. So, let's stop here!"
   ]
  },
  {
   "cell_type": "code",
   "execution_count": 36,
   "metadata": {
    "colab": {
     "base_uri": "https://localhost:8080/"
    },
    "id": "KQ5pkgE4JjDU",
    "outputId": "a15a9fac-e808-4464-a987-3cf12f12b1d1"
   },
   "outputs": [
    {
     "name": "stdout",
     "output_type": "stream",
     "text": [
      "Accuracy of the network on the 2172 testing images:  85.59 %\n"
     ]
    }
   ],
   "source": [
    "redirect_error()\n",
    "\n",
    "correct = 0\n",
    "total = 0\n",
    "\n",
    "final_predictions = []\n",
    "final_labels = []\n",
    "\n",
    "f = []\n",
    "for images, labels in dataloaders['test']:\n",
    "    if use_cuda:\n",
    "        images = images.cuda()\n",
    "        labels = labels.cuda()\n",
    "\n",
    "    outputs = inceptionv3_model(images)\n",
    "\n",
    "    _, predicted = torch.max(outputs.data, 1)\n",
    "    total += labels.size(0)\n",
    "    \n",
    "    final_predictions.extend(predicted.tolist())\n",
    "    final_labels.extend(labels.tolist())\n",
    "    \n",
    "    correct += (predicted == labels).sum().item()\n",
    "\n",
    "\n",
    "print(f'Accuracy of the network on the {total} testing images: {100 * correct / total: .2f} %')"
   ]
  },
  {
   "cell_type": "code",
   "execution_count": 39,
   "metadata": {
    "id": "UWqYdO0wJ0pE"
   },
   "outputs": [],
   "source": [
    "acc_score = accuracy_score(final_labels, final_predictions)\n",
    "precision = precision_score(final_labels, final_predictions, average='macro')\n",
    "recall = recall_score(final_labels, final_predictions, average='macro')\n",
    "f1 = f1_score(final_labels, final_predictions, average='macro')"
   ]
  },
  {
   "cell_type": "code",
   "execution_count": 40,
   "metadata": {
    "colab": {
     "base_uri": "https://localhost:8080/"
    },
    "id": "ki_pbXvQKVab",
    "outputId": "67673cb0-dada-4b9b-8f13-c270486452b7"
   },
   "outputs": [
    {
     "data": {
      "text/plain": [
       "array([[14,  0,  0, ...,  0,  0,  0],\n",
       "       [ 0, 20,  0, ...,  0,  0,  0],\n",
       "       [ 0,  0, 16, ...,  0,  0,  0],\n",
       "       ...,\n",
       "       [ 0,  0,  0, ..., 12,  0,  0],\n",
       "       [ 0,  0,  0, ...,  0, 11,  0],\n",
       "       [ 1,  1,  0, ...,  0,  0, 12]])"
      ]
     },
     "execution_count": 40,
     "metadata": {},
     "output_type": "execute_result"
    }
   ],
   "source": [
    "cm = confusion_matrix(final_labels, final_predictions)\n",
    "cm"
   ]
  },
  {
   "cell_type": "code",
   "execution_count": 41,
   "metadata": {
    "colab": {
     "base_uri": "https://localhost:8080/"
    },
    "id": "kC3NjidhKY6r",
    "outputId": "476d0b92-e71b-43b4-e8db-51337384a553"
   },
   "outputs": [
    {
     "name": "stdout",
     "output_type": "stream",
     "text": [
      "('              precision    recall  f1-score   support\\n'\n",
      " '\\n'\n",
      " '           0       0.93      0.88      0.90        16\\n'\n",
      " '           1       0.80      1.00      0.89        20\\n'\n",
      " '           2       0.94      1.00      0.97        16\\n'\n",
      " '           3       0.91      0.91      0.91        22\\n'\n",
      " '           4       0.54      0.41      0.47        17\\n'\n",
      " '           5       0.89      0.73      0.80        22\\n'\n",
      " '           6       0.68      0.68      0.68        19\\n'\n",
      " '           7       0.81      0.95      0.88        22\\n'\n",
      " '           8       0.77      0.91      0.83        11\\n'\n",
      " '           9       0.83      0.90      0.86        21\\n'\n",
      " '          10       0.94      1.00      0.97        17\\n'\n",
      " '          11       0.93      0.96      0.95        28\\n'\n",
      " '          12       0.80      0.80      0.80        20\\n'\n",
      " '          13       0.84      1.00      0.91        16\\n'\n",
      " '          14       0.82      0.74      0.78        19\\n'\n",
      " '          15       0.91      0.95      0.93        21\\n'\n",
      " '          16       0.65      0.88      0.75        17\\n'\n",
      " '          17       1.00      1.00      1.00        21\\n'\n",
      " '          18       1.00      0.80      0.89        20\\n'\n",
      " '          19       0.79      0.94      0.86        16\\n'\n",
      " '          20       0.84      0.80      0.82        20\\n'\n",
      " '          21       0.83      0.94      0.88        16\\n'\n",
      " '          22       1.00      0.83      0.91        12\\n'\n",
      " '          23       0.90      0.64      0.75        14\\n'\n",
      " '          24       0.82      0.93      0.87        15\\n'\n",
      " '          25       0.94      0.85      0.89        20\\n'\n",
      " '          26       0.88      0.94      0.91        16\\n'\n",
      " '          27       0.86      0.92      0.89        13\\n'\n",
      " '          28       0.84      0.89      0.86        18\\n'\n",
      " '          29       0.76      0.93      0.84        14\\n'\n",
      " '          30       1.00      0.96      0.98        24\\n'\n",
      " '          31       1.00      0.84      0.91        19\\n'\n",
      " '          32       0.88      0.78      0.82        18\\n'\n",
      " '          33       0.72      0.65      0.68        20\\n'\n",
      " '          34       1.00      0.92      0.96        12\\n'\n",
      " '          35       0.91      0.84      0.87        25\\n'\n",
      " '          36       0.94      1.00      0.97        15\\n'\n",
      " '          37       0.79      0.83      0.81        23\\n'\n",
      " '          38       0.80      0.84      0.82        19\\n'\n",
      " '          39       0.65      0.73      0.69        15\\n'\n",
      " '          40       0.89      0.94      0.92        18\\n'\n",
      " '          41       0.83      1.00      0.91        20\\n'\n",
      " '          42       0.85      0.85      0.85        33\\n'\n",
      " '          43       0.27      0.21      0.24        14\\n'\n",
      " '          44       0.92      0.67      0.77        18\\n'\n",
      " '          45       0.89      0.84      0.86        19\\n'\n",
      " '          46       0.91      0.91      0.91        11\\n'\n",
      " '          47       1.00      0.86      0.93        22\\n'\n",
      " '          48       0.74      0.78      0.76        18\\n'\n",
      " '          49       0.90      0.75      0.82        12\\n'\n",
      " '          50       0.82      1.00      0.90        14\\n'\n",
      " '          51       0.91      0.71      0.80        14\\n'\n",
      " '          52       0.76      1.00      0.86        19\\n'\n",
      " '          53       0.89      0.93      0.91        27\\n'\n",
      " '          54       0.95      0.95      0.95        21\\n'\n",
      " '          55       0.85      0.85      0.85        20\\n'\n",
      " '          56       0.80      0.92      0.86        13\\n'\n",
      " '          57       1.00      0.93      0.97        15\\n'\n",
      " '          58       0.96      1.00      0.98        22\\n'\n",
      " '          59       0.95      0.91      0.93        22\\n'\n",
      " '          60       0.80      0.89      0.84        18\\n'\n",
      " '          61       1.00      0.92      0.96        25\\n'\n",
      " '          62       1.00      1.00      1.00        16\\n'\n",
      " '          63       0.69      0.85      0.76        13\\n'\n",
      " '          64       0.90      1.00      0.95        19\\n'\n",
      " '          65       1.00      0.87      0.93        15\\n'\n",
      " '          66       0.88      1.00      0.94        15\\n'\n",
      " '          67       0.71      0.88      0.79        17\\n'\n",
      " '          68       0.71      0.75      0.73        16\\n'\n",
      " '          69       0.95      0.95      0.95        19\\n'\n",
      " '          70       0.62      0.56      0.59         9\\n'\n",
      " '          71       0.89      0.81      0.85        21\\n'\n",
      " '          72       0.94      1.00      0.97        15\\n'\n",
      " '          73       0.71      0.89      0.79        19\\n'\n",
      " '          74       0.90      1.00      0.95        18\\n'\n",
      " '          75       0.86      0.72      0.78        25\\n'\n",
      " '          76       0.70      0.78      0.74        18\\n'\n",
      " '          77       0.85      1.00      0.92        17\\n'\n",
      " '          78       0.78      0.93      0.85        15\\n'\n",
      " '          79       0.91      0.91      0.91        11\\n'\n",
      " '          80       0.93      0.93      0.93        29\\n'\n",
      " '          81       0.80      0.73      0.76        11\\n'\n",
      " '          82       0.82      0.93      0.87        15\\n'\n",
      " '          83       0.83      0.88      0.86        17\\n'\n",
      " '          84       1.00      0.95      0.98        22\\n'\n",
      " '          85       0.91      0.83      0.87        12\\n'\n",
      " '          86       0.95      1.00      0.97        19\\n'\n",
      " '          87       0.97      0.97      0.97        29\\n'\n",
      " '          88       0.93      0.82      0.87        17\\n'\n",
      " '          89       0.83      0.79      0.81        19\\n'\n",
      " '          90       0.81      0.65      0.72        20\\n'\n",
      " '          91       0.83      1.00      0.91        10\\n'\n",
      " '          92       1.00      1.00      1.00        12\\n'\n",
      " '          93       0.89      1.00      0.94        24\\n'\n",
      " '          94       1.00      0.90      0.95        21\\n'\n",
      " '          95       0.86      0.92      0.89        13\\n'\n",
      " '          96       0.81      0.81      0.81        16\\n'\n",
      " '          97       0.96      0.96      0.96        25\\n'\n",
      " '          98       0.71      0.89      0.79        19\\n'\n",
      " '          99       0.73      0.67      0.70        12\\n'\n",
      " '         100       0.87      0.83      0.85        24\\n'\n",
      " '         101       0.63      0.77      0.69        22\\n'\n",
      " '         102       0.86      0.57      0.69        21\\n'\n",
      " '         103       0.93      0.93      0.93        14\\n'\n",
      " '         104       0.59      0.68      0.63        19\\n'\n",
      " '         105       0.93      0.87      0.90        15\\n'\n",
      " '         106       0.80      0.62      0.70        13\\n'\n",
      " '         107       1.00      0.83      0.91        12\\n'\n",
      " '         108       1.00      0.76      0.87        17\\n'\n",
      " '         109       0.94      0.81      0.87        21\\n'\n",
      " '         110       0.83      0.76      0.79        25\\n'\n",
      " '         111       0.85      0.85      0.85        20\\n'\n",
      " '         112       0.82      0.82      0.82        17\\n'\n",
      " '         113       1.00      0.60      0.75        20\\n'\n",
      " '         114       0.82      1.00      0.90        14\\n'\n",
      " '         115       0.94      0.80      0.86        20\\n'\n",
      " '         116       0.87      1.00      0.93        20\\n'\n",
      " '         117       1.00      0.71      0.83        17\\n'\n",
      " '         118       1.00      0.52      0.69        21\\n'\n",
      " '         119       0.57      0.75      0.65        16\\n'\n",
      " '\\n'\n",
      " '    accuracy                           0.86      2172\\n'\n",
      " '   macro avg       0.86      0.85      0.85      2172\\n'\n",
      " 'weighted avg       0.86      0.86      0.85      2172\\n')\n"
     ]
    }
   ],
   "source": [
    "import pprint\n",
    "pprint.pprint(classification_report(final_labels, final_predictions))"
   ]
  },
  {
   "cell_type": "code",
   "execution_count": 42,
   "metadata": {
    "colab": {
     "base_uri": "https://localhost:8080/"
    },
    "id": "-__Qs4keKc7K",
    "outputId": "448f2dce-7e2b-4399-d839-7cce97a50330"
   },
   "outputs": [
    {
     "name": "stdout",
     "output_type": "stream",
     "text": [
      "Accuracy: 0.86, Precision: 0.86, Recall: 0.85, F1-Score: 0.85\n"
     ]
    }
   ],
   "source": [
    "print(f'Accuracy: {acc_score:.2f}, Precision: {precision:.2f}, Recall: {recall:.2f}, F1-Score: {f1:.2f}')"
   ]
  },
  {
   "cell_type": "code",
   "execution_count": 43,
   "metadata": {
    "id": "ORA-6oxWJQgz"
   },
   "outputs": [],
   "source": [
    "torch.save(inceptionv3_model.state_dict(), 'inceptionv3_model.pth')\n",
    "torch.save(inceptionv3_model, 'inceptionv3_model_full.pth')"
   ]
  },
  {
   "cell_type": "markdown",
   "metadata": {
    "id": "4SWWZOjhn7iM"
   },
   "source": [
    "# when we try to train all the weights from scratch, we are getting CUDA out of memory errror. So, we need more memory to calculate this. I think we can't do it on a machine 15GB GPU Memory. The free tier provides only 15GB of GPU RAM."
   ]
  }
 ],
 "metadata": {
  "accelerator": "GPU",
  "colab": {
   "provenance": []
  },
  "gpuClass": "standard",
  "kernelspec": {
   "display_name": "Python 3 (ipykernel)",
   "language": "python",
   "name": "python3"
  },
  "language_info": {
   "codemirror_mode": {
    "name": "ipython",
    "version": 3
   },
   "file_extension": ".py",
   "mimetype": "text/x-python",
   "name": "python",
   "nbconvert_exporter": "python",
   "pygments_lexer": "ipython3",
   "version": "3.9.0"
  },
  "varInspector": {
   "cols": {
    "lenName": 16,
    "lenType": 16,
    "lenVar": 40
   },
   "kernels_config": {
    "python": {
     "delete_cmd_postfix": "",
     "delete_cmd_prefix": "del ",
     "library": "var_list.py",
     "varRefreshCmd": "print(var_dic_list())"
    },
    "r": {
     "delete_cmd_postfix": ") ",
     "delete_cmd_prefix": "rm(",
     "library": "var_list.r",
     "varRefreshCmd": "cat(var_dic_list()) "
    }
   },
   "types_to_exclude": [
    "module",
    "function",
    "builtin_function_or_method",
    "instance",
    "_Feature"
   ],
   "window_display": false
  }
 },
 "nbformat": 4,
 "nbformat_minor": 1
}
