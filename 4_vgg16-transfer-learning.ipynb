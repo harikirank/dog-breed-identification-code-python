{
 "cells": [
  {
   "cell_type": "markdown",
   "metadata": {},
   "source": [
    "# Transfer Learning"
   ]
  },
  {
   "cell_type": "markdown",
   "metadata": {},
   "source": [
    "# Imports"
   ]
  },
  {
   "cell_type": "code",
   "execution_count": 1,
   "metadata": {
    "execution": {
     "iopub.execute_input": "2023-04-27T00:00:22.480900Z",
     "iopub.status.busy": "2023-04-27T00:00:22.480169Z",
     "iopub.status.idle": "2023-04-27T00:00:26.030621Z",
     "shell.execute_reply": "2023-04-27T00:00:26.029306Z",
     "shell.execute_reply.started": "2023-04-27T00:00:22.480854Z"
    }
   },
   "outputs": [],
   "source": [
    "import math\n",
    "import numpy as np\n",
    "import pandas as pd\n",
    "import matplotlib.pyplot as plt\n",
    "import time\n",
    "import os\n",
    "import sys\n",
    "\n",
    "\n",
    "from keras.preprocessing import image\n",
    "from keras.models import Sequential\n",
    "from keras.layers import Dense, Activation\n",
    "from keras.applications.vgg16 import VGG16, preprocess_input\n",
    "from keras.utils import load_img, img_to_array\n",
    "\n",
    "from sklearn.model_selection import cross_val_score, learning_curve, train_test_split\n",
    "from sklearn.linear_model import LogisticRegression\n",
    "from sklearn.metrics import make_scorer\n",
    "from sklearn.metrics import log_loss, accuracy_score, classification_report\n",
    "\n",
    "from xgboost import XGBClassifier\n",
    "\n",
    "from functools import partial\n",
    "import tqdm.notebook as tq\n",
    "\n",
    "import warnings\n",
    "warnings.filterwarnings('ignore')"
   ]
  },
  {
   "cell_type": "markdown",
   "metadata": {},
   "source": [
    "# Paths"
   ]
  },
  {
   "cell_type": "code",
   "execution_count": 2,
   "metadata": {
    "execution": {
     "iopub.execute_input": "2023-04-27T00:00:26.039335Z",
     "iopub.status.busy": "2023-04-27T00:00:26.038280Z",
     "iopub.status.idle": "2023-04-27T00:00:26.045790Z",
     "shell.execute_reply": "2023-04-27T00:00:26.044367Z",
     "shell.execute_reply.started": "2023-04-27T00:00:26.039290Z"
    }
   },
   "outputs": [],
   "source": [
    "VGG16_PATH = '/kaggle/input/vgg16/'\n",
    "IMAGES_PATH = '/kaggle/input/dog-breed-identification/'\n",
    "BATCH_SIZE = 100"
   ]
  },
  {
   "cell_type": "markdown",
   "metadata": {},
   "source": [
    "# Helper functions"
   ]
  },
  {
   "cell_type": "code",
   "execution_count": 3,
   "metadata": {
    "execution": {
     "iopub.execute_input": "2023-04-27T00:00:26.048324Z",
     "iopub.status.busy": "2023-04-27T00:00:26.047880Z",
     "iopub.status.idle": "2023-04-27T00:00:26.059258Z",
     "shell.execute_reply": "2023-04-27T00:00:26.058211Z",
     "shell.execute_reply.started": "2023-04-27T00:00:26.048279Z"
    }
   },
   "outputs": [],
   "source": [
    "def path_given_id(id, test=False):\n",
    "    \"\"\"\n",
    "    Returns the full path to the image given the id of the image.\n",
    "    Parameters:\n",
    "        - id: The id of the image.\n",
    "        - test: If True returns the relative path from the test folder. Otherwise, returns the relative path to the image from the training folder.\n",
    "    Returns:\n",
    "        - The full relative path to the image with the give in id.\n",
    "    \"\"\"\n",
    "    return IMAGES_PATH + ('train/' if not test else 'test/') + id + '.jpg'\n",
    "\n",
    "def get_img_array(id, test=False):\n",
    "    \"\"\"\n",
    "    Loads the image from the given id, convert the image to a numpy array and return the numpy array.\n",
    "    Parameters:\n",
    "        - id: The id of the image.\n",
    "        - test: If True, loads the image from the test folder. If False,loads the image from the train folder.\n",
    "    Returns:\n",
    "        - The image with the give id as a numpy array.\n",
    "    \"\"\"\n",
    "    img = load_img(path_given_id(id, test), target_size=(224, 224))\n",
    "    return img_to_array(img)"
   ]
  },
  {
   "cell_type": "markdown",
   "metadata": {},
   "source": [
    "# Read the labels provided in the CSV file"
   ]
  },
  {
   "cell_type": "code",
   "execution_count": 4,
   "metadata": {
    "execution": {
     "iopub.execute_input": "2023-04-27T00:00:26.064574Z",
     "iopub.status.busy": "2023-04-27T00:00:26.064237Z",
     "iopub.status.idle": "2023-04-27T00:00:26.123695Z",
     "shell.execute_reply": "2023-04-27T00:00:26.122499Z",
     "shell.execute_reply.started": "2023-04-27T00:00:26.064542Z"
    }
   },
   "outputs": [],
   "source": [
    "temp_labels = pd.read_csv(IMAGES_PATH + 'labels.csv')\n",
    "labels = temp_labels.set_index('id')\n",
    "labels = labels['breed']\n",
    "\n",
    "y = pd.get_dummies(labels, sparse = True)\n",
    "image_ids = y.index"
   ]
  },
  {
   "cell_type": "markdown",
   "metadata": {},
   "source": [
    "# Create and instantiate the model\n",
    "## Here we are downloading the pretrained weights from kaggle"
   ]
  },
  {
   "cell_type": "code",
   "execution_count": 5,
   "metadata": {
    "execution": {
     "iopub.execute_input": "2023-04-27T00:00:26.125829Z",
     "iopub.status.busy": "2023-04-27T00:00:26.125389Z",
     "iopub.status.idle": "2023-04-27T00:00:29.098457Z",
     "shell.execute_reply": "2023-04-27T00:00:29.097255Z",
     "shell.execute_reply.started": "2023-04-27T00:00:26.125784Z"
    }
   },
   "outputs": [],
   "source": [
    "# Here we are loading the no top version. This means that we are throwing away the fully connected layers\n",
    "# and the softmax classifier at the end and we will build our own layers here.\n",
    "vgg16_model = VGG16(weights=(VGG16_PATH + 'vgg16_weights_tf_dim_ordering_tf_kernels_notop.h5'),\n",
    "                  include_top=False, pooling='avg')\n",
    "\n",
    "# preprocess_input(np.expand_dims(get_image_array(id, test), axis=0)) will convert the image into 1,224,224,3 to give to predict.\n",
    "def process_image(id, test=False):\n",
    "    return vgg16_model.predict(preprocess_input(np.expand_dims(get_img_array(id, test), axis=0)))"
   ]
  },
  {
   "cell_type": "code",
   "execution_count": 6,
   "metadata": {
    "execution": {
     "iopub.execute_input": "2023-04-27T00:00:29.100627Z",
     "iopub.status.busy": "2023-04-27T00:00:29.100188Z",
     "iopub.status.idle": "2023-04-27T00:14:33.530040Z",
     "shell.execute_reply": "2023-04-27T00:14:33.528053Z",
     "shell.execute_reply.started": "2023-04-27T00:00:29.100559Z"
    }
   },
   "outputs": [
    {
     "data": {
      "application/vnd.jupyter.widget-view+json": {
       "model_id": "6ae93622313b465d91a83608b9eb3624",
       "version_major": 2,
       "version_minor": 0
      },
      "text/plain": [
       "  0%|          | 0/10222 [00:00<?, ?it/s]"
      ]
     },
     "metadata": {},
     "output_type": "display_data"
    }
   ],
   "source": [
    "X_intermediate = []\n",
    "\n",
    "# The opening of the document and writing to a temporary file has no significance other than avoiding \n",
    "# cluttering up the notebook with single image outputs. It can be removed without any issues.\n",
    "sys.stdout = open('output.txt', 'w')\n",
    "\n",
    "for id in tq.tqdm(image_ids):\n",
    "    X_intermediate.append(process_image(id)[0])"
   ]
  },
  {
   "cell_type": "code",
   "execution_count": 7,
   "metadata": {
    "execution": {
     "iopub.execute_input": "2023-04-27T00:14:33.532460Z",
     "iopub.status.busy": "2023-04-27T00:14:33.531796Z",
     "iopub.status.idle": "2023-04-27T00:14:35.574100Z",
     "shell.execute_reply": "2023-04-27T00:14:35.573273Z",
     "shell.execute_reply.started": "2023-04-27T00:14:33.532386Z"
    }
   },
   "outputs": [
    {
     "data": {
      "text/plain": [
       "(10222, 512)"
      ]
     },
     "execution_count": 7,
     "metadata": {},
     "output_type": "execute_result"
    }
   ],
   "source": [
    "X= pd.DataFrame(X_intermediate, index=image_ids)\n",
    "X.shape"
   ]
  },
  {
   "cell_type": "code",
   "execution_count": 8,
   "metadata": {
    "execution": {
     "iopub.execute_input": "2023-04-27T00:14:35.576604Z",
     "iopub.status.busy": "2023-04-27T00:14:35.575518Z",
     "iopub.status.idle": "2023-04-27T00:14:35.606499Z",
     "shell.execute_reply": "2023-04-27T00:14:35.605664Z",
     "shell.execute_reply.started": "2023-04-27T00:14:35.576543Z"
    }
   },
   "outputs": [
    {
     "data": {
      "text/html": [
       "<div>\n",
       "<style scoped>\n",
       "    .dataframe tbody tr th:only-of-type {\n",
       "        vertical-align: middle;\n",
       "    }\n",
       "\n",
       "    .dataframe tbody tr th {\n",
       "        vertical-align: top;\n",
       "    }\n",
       "\n",
       "    .dataframe thead th {\n",
       "        text-align: right;\n",
       "    }\n",
       "</style>\n",
       "<table border=\"1\" class=\"dataframe\">\n",
       "  <thead>\n",
       "    <tr style=\"text-align: right;\">\n",
       "      <th></th>\n",
       "      <th>0</th>\n",
       "      <th>1</th>\n",
       "      <th>2</th>\n",
       "      <th>3</th>\n",
       "      <th>4</th>\n",
       "      <th>5</th>\n",
       "      <th>6</th>\n",
       "      <th>7</th>\n",
       "      <th>8</th>\n",
       "      <th>9</th>\n",
       "      <th>...</th>\n",
       "      <th>502</th>\n",
       "      <th>503</th>\n",
       "      <th>504</th>\n",
       "      <th>505</th>\n",
       "      <th>506</th>\n",
       "      <th>507</th>\n",
       "      <th>508</th>\n",
       "      <th>509</th>\n",
       "      <th>510</th>\n",
       "      <th>511</th>\n",
       "    </tr>\n",
       "    <tr>\n",
       "      <th>id</th>\n",
       "      <th></th>\n",
       "      <th></th>\n",
       "      <th></th>\n",
       "      <th></th>\n",
       "      <th></th>\n",
       "      <th></th>\n",
       "      <th></th>\n",
       "      <th></th>\n",
       "      <th></th>\n",
       "      <th></th>\n",
       "      <th></th>\n",
       "      <th></th>\n",
       "      <th></th>\n",
       "      <th></th>\n",
       "      <th></th>\n",
       "      <th></th>\n",
       "      <th></th>\n",
       "      <th></th>\n",
       "      <th></th>\n",
       "      <th></th>\n",
       "      <th></th>\n",
       "    </tr>\n",
       "  </thead>\n",
       "  <tbody>\n",
       "    <tr>\n",
       "      <th>000bec180eb18c7604dcecc8fe0dba07</th>\n",
       "      <td>5.070187</td>\n",
       "      <td>3.962066</td>\n",
       "      <td>3.375381</td>\n",
       "      <td>0.000000</td>\n",
       "      <td>3.670384</td>\n",
       "      <td>1.779856</td>\n",
       "      <td>0.000000</td>\n",
       "      <td>3.211671</td>\n",
       "      <td>2.065429</td>\n",
       "      <td>1.705278</td>\n",
       "      <td>...</td>\n",
       "      <td>0.000000</td>\n",
       "      <td>0.661565</td>\n",
       "      <td>5.617185</td>\n",
       "      <td>0.398247</td>\n",
       "      <td>0.000000</td>\n",
       "      <td>0.000000</td>\n",
       "      <td>0.000000</td>\n",
       "      <td>3.253707</td>\n",
       "      <td>0.793703</td>\n",
       "      <td>2.560010</td>\n",
       "    </tr>\n",
       "    <tr>\n",
       "      <th>001513dfcb2ffafc82cccf4d8bbaba97</th>\n",
       "      <td>8.837939</td>\n",
       "      <td>0.000000</td>\n",
       "      <td>23.241722</td>\n",
       "      <td>1.163514</td>\n",
       "      <td>0.045581</td>\n",
       "      <td>0.235458</td>\n",
       "      <td>1.752838</td>\n",
       "      <td>4.239479</td>\n",
       "      <td>0.790429</td>\n",
       "      <td>0.109258</td>\n",
       "      <td>...</td>\n",
       "      <td>0.231802</td>\n",
       "      <td>0.101770</td>\n",
       "      <td>0.352381</td>\n",
       "      <td>14.032310</td>\n",
       "      <td>3.753132</td>\n",
       "      <td>0.101469</td>\n",
       "      <td>0.154369</td>\n",
       "      <td>9.209677</td>\n",
       "      <td>5.048140</td>\n",
       "      <td>0.000000</td>\n",
       "    </tr>\n",
       "    <tr>\n",
       "      <th>001cdf01b096e06d78e9e5112d419397</th>\n",
       "      <td>0.450912</td>\n",
       "      <td>1.027726</td>\n",
       "      <td>7.698472</td>\n",
       "      <td>0.252432</td>\n",
       "      <td>3.378808</td>\n",
       "      <td>0.332153</td>\n",
       "      <td>0.187855</td>\n",
       "      <td>0.106496</td>\n",
       "      <td>15.604666</td>\n",
       "      <td>3.175185</td>\n",
       "      <td>...</td>\n",
       "      <td>2.951074</td>\n",
       "      <td>1.198248</td>\n",
       "      <td>0.252030</td>\n",
       "      <td>1.587865</td>\n",
       "      <td>1.819199</td>\n",
       "      <td>1.838186</td>\n",
       "      <td>1.691979</td>\n",
       "      <td>0.471272</td>\n",
       "      <td>1.725393</td>\n",
       "      <td>0.209770</td>\n",
       "    </tr>\n",
       "    <tr>\n",
       "      <th>00214f311d5d2247d5dfe4fe24b2303d</th>\n",
       "      <td>1.059968</td>\n",
       "      <td>0.000000</td>\n",
       "      <td>13.055110</td>\n",
       "      <td>0.000000</td>\n",
       "      <td>4.934757</td>\n",
       "      <td>1.156982</td>\n",
       "      <td>4.262399</td>\n",
       "      <td>3.815343</td>\n",
       "      <td>2.995876</td>\n",
       "      <td>0.013436</td>\n",
       "      <td>...</td>\n",
       "      <td>0.438529</td>\n",
       "      <td>0.000000</td>\n",
       "      <td>0.072758</td>\n",
       "      <td>2.224409</td>\n",
       "      <td>4.519608</td>\n",
       "      <td>0.761705</td>\n",
       "      <td>0.000000</td>\n",
       "      <td>0.000000</td>\n",
       "      <td>0.551235</td>\n",
       "      <td>0.312393</td>\n",
       "    </tr>\n",
       "    <tr>\n",
       "      <th>0021f9ceb3235effd7fcde7f7538ed62</th>\n",
       "      <td>0.501041</td>\n",
       "      <td>0.000000</td>\n",
       "      <td>5.049969</td>\n",
       "      <td>0.000000</td>\n",
       "      <td>4.451237</td>\n",
       "      <td>3.013023</td>\n",
       "      <td>0.433602</td>\n",
       "      <td>0.000000</td>\n",
       "      <td>0.884072</td>\n",
       "      <td>2.204053</td>\n",
       "      <td>...</td>\n",
       "      <td>3.103924</td>\n",
       "      <td>0.039919</td>\n",
       "      <td>0.287888</td>\n",
       "      <td>0.565757</td>\n",
       "      <td>1.917303</td>\n",
       "      <td>0.166229</td>\n",
       "      <td>0.135676</td>\n",
       "      <td>0.606473</td>\n",
       "      <td>4.193654</td>\n",
       "      <td>0.988650</td>\n",
       "    </tr>\n",
       "  </tbody>\n",
       "</table>\n",
       "<p>5 rows × 512 columns</p>\n",
       "</div>"
      ],
      "text/plain": [
       "                                       0         1          2         3    \\\n",
       "id                                                                          \n",
       "000bec180eb18c7604dcecc8fe0dba07  5.070187  3.962066   3.375381  0.000000   \n",
       "001513dfcb2ffafc82cccf4d8bbaba97  8.837939  0.000000  23.241722  1.163514   \n",
       "001cdf01b096e06d78e9e5112d419397  0.450912  1.027726   7.698472  0.252432   \n",
       "00214f311d5d2247d5dfe4fe24b2303d  1.059968  0.000000  13.055110  0.000000   \n",
       "0021f9ceb3235effd7fcde7f7538ed62  0.501041  0.000000   5.049969  0.000000   \n",
       "\n",
       "                                       4         5         6         7    \\\n",
       "id                                                                         \n",
       "000bec180eb18c7604dcecc8fe0dba07  3.670384  1.779856  0.000000  3.211671   \n",
       "001513dfcb2ffafc82cccf4d8bbaba97  0.045581  0.235458  1.752838  4.239479   \n",
       "001cdf01b096e06d78e9e5112d419397  3.378808  0.332153  0.187855  0.106496   \n",
       "00214f311d5d2247d5dfe4fe24b2303d  4.934757  1.156982  4.262399  3.815343   \n",
       "0021f9ceb3235effd7fcde7f7538ed62  4.451237  3.013023  0.433602  0.000000   \n",
       "\n",
       "                                        8         9    ...       502  \\\n",
       "id                                                     ...             \n",
       "000bec180eb18c7604dcecc8fe0dba07   2.065429  1.705278  ...  0.000000   \n",
       "001513dfcb2ffafc82cccf4d8bbaba97   0.790429  0.109258  ...  0.231802   \n",
       "001cdf01b096e06d78e9e5112d419397  15.604666  3.175185  ...  2.951074   \n",
       "00214f311d5d2247d5dfe4fe24b2303d   2.995876  0.013436  ...  0.438529   \n",
       "0021f9ceb3235effd7fcde7f7538ed62   0.884072  2.204053  ...  3.103924   \n",
       "\n",
       "                                       503       504        505       506  \\\n",
       "id                                                                          \n",
       "000bec180eb18c7604dcecc8fe0dba07  0.661565  5.617185   0.398247  0.000000   \n",
       "001513dfcb2ffafc82cccf4d8bbaba97  0.101770  0.352381  14.032310  3.753132   \n",
       "001cdf01b096e06d78e9e5112d419397  1.198248  0.252030   1.587865  1.819199   \n",
       "00214f311d5d2247d5dfe4fe24b2303d  0.000000  0.072758   2.224409  4.519608   \n",
       "0021f9ceb3235effd7fcde7f7538ed62  0.039919  0.287888   0.565757  1.917303   \n",
       "\n",
       "                                       507       508       509       510  \\\n",
       "id                                                                         \n",
       "000bec180eb18c7604dcecc8fe0dba07  0.000000  0.000000  3.253707  0.793703   \n",
       "001513dfcb2ffafc82cccf4d8bbaba97  0.101469  0.154369  9.209677  5.048140   \n",
       "001cdf01b096e06d78e9e5112d419397  1.838186  1.691979  0.471272  1.725393   \n",
       "00214f311d5d2247d5dfe4fe24b2303d  0.761705  0.000000  0.000000  0.551235   \n",
       "0021f9ceb3235effd7fcde7f7538ed62  0.166229  0.135676  0.606473  4.193654   \n",
       "\n",
       "                                       511  \n",
       "id                                          \n",
       "000bec180eb18c7604dcecc8fe0dba07  2.560010  \n",
       "001513dfcb2ffafc82cccf4d8bbaba97  0.000000  \n",
       "001cdf01b096e06d78e9e5112d419397  0.209770  \n",
       "00214f311d5d2247d5dfe4fe24b2303d  0.312393  \n",
       "0021f9ceb3235effd7fcde7f7538ed62  0.988650  \n",
       "\n",
       "[5 rows x 512 columns]"
      ]
     },
     "execution_count": 8,
     "metadata": {},
     "output_type": "execute_result"
    }
   ],
   "source": [
    "X.head()"
   ]
  },
  {
   "cell_type": "markdown",
   "metadata": {},
   "source": [
    "# Building our own layers at the end"
   ]
  },
  {
   "cell_type": "code",
   "execution_count": 9,
   "metadata": {
    "execution": {
     "iopub.execute_input": "2023-04-27T00:14:35.609957Z",
     "iopub.status.busy": "2023-04-27T00:14:35.608011Z",
     "iopub.status.idle": "2023-04-27T00:14:35.686402Z",
     "shell.execute_reply": "2023-04-27T00:14:35.685631Z",
     "shell.execute_reply.started": "2023-04-27T00:14:35.609907Z"
    }
   },
   "outputs": [],
   "source": [
    "final_model = Sequential([\n",
    "    Dense(1024, input_shape=(512,)),\n",
    "    Activation('relu'),\n",
    "    Dense(256, input_shape=(512,)),\n",
    "    Activation('relu'),\n",
    "    Dense(120),\n",
    "    Activation('softmax'),\n",
    "])\n",
    "\n",
    "final_model.compile(optimizer='rmsprop',\n",
    "              loss='categorical_crossentropy',\n",
    "              metrics=['accuracy'])"
   ]
  },
  {
   "cell_type": "markdown",
   "metadata": {
    "execution": {
     "iopub.execute_input": "2023-04-26T19:21:08.600888Z",
     "iopub.status.busy": "2023-04-26T19:21:08.599589Z",
     "iopub.status.idle": "2023-04-26T19:21:08.608484Z",
     "shell.execute_reply": "2023-04-26T19:21:08.607139Z",
     "shell.execute_reply.started": "2023-04-26T19:21:08.600835Z"
    }
   },
   "source": [
    "# Split the data into training and testing sets"
   ]
  },
  {
   "cell_type": "code",
   "execution_count": 10,
   "metadata": {
    "execution": {
     "iopub.execute_input": "2023-04-27T00:14:35.688392Z",
     "iopub.status.busy": "2023-04-27T00:14:35.688042Z",
     "iopub.status.idle": "2023-04-27T00:14:35.850738Z",
     "shell.execute_reply": "2023-04-27T00:14:35.849815Z",
     "shell.execute_reply.started": "2023-04-27T00:14:35.688352Z"
    }
   },
   "outputs": [],
   "source": [
    "X_train, X_test, y_train, y_test = train_test_split(X, y, test_size=0.2, random_state=69)"
   ]
  },
  {
   "cell_type": "code",
   "execution_count": 11,
   "metadata": {
    "execution": {
     "iopub.execute_input": "2023-04-27T00:14:35.854658Z",
     "iopub.status.busy": "2023-04-27T00:14:35.853736Z",
     "iopub.status.idle": "2023-04-27T00:14:35.888498Z",
     "shell.execute_reply": "2023-04-27T00:14:35.887665Z",
     "shell.execute_reply.started": "2023-04-27T00:14:35.854591Z"
    }
   },
   "outputs": [
    {
     "data": {
      "text/html": [
       "<div>\n",
       "<style scoped>\n",
       "    .dataframe tbody tr th:only-of-type {\n",
       "        vertical-align: middle;\n",
       "    }\n",
       "\n",
       "    .dataframe tbody tr th {\n",
       "        vertical-align: top;\n",
       "    }\n",
       "\n",
       "    .dataframe thead th {\n",
       "        text-align: right;\n",
       "    }\n",
       "</style>\n",
       "<table border=\"1\" class=\"dataframe\">\n",
       "  <thead>\n",
       "    <tr style=\"text-align: right;\">\n",
       "      <th></th>\n",
       "      <th>0</th>\n",
       "      <th>1</th>\n",
       "      <th>2</th>\n",
       "      <th>3</th>\n",
       "      <th>4</th>\n",
       "      <th>5</th>\n",
       "      <th>6</th>\n",
       "      <th>7</th>\n",
       "      <th>8</th>\n",
       "      <th>9</th>\n",
       "      <th>...</th>\n",
       "      <th>502</th>\n",
       "      <th>503</th>\n",
       "      <th>504</th>\n",
       "      <th>505</th>\n",
       "      <th>506</th>\n",
       "      <th>507</th>\n",
       "      <th>508</th>\n",
       "      <th>509</th>\n",
       "      <th>510</th>\n",
       "      <th>511</th>\n",
       "    </tr>\n",
       "    <tr>\n",
       "      <th>id</th>\n",
       "      <th></th>\n",
       "      <th></th>\n",
       "      <th></th>\n",
       "      <th></th>\n",
       "      <th></th>\n",
       "      <th></th>\n",
       "      <th></th>\n",
       "      <th></th>\n",
       "      <th></th>\n",
       "      <th></th>\n",
       "      <th></th>\n",
       "      <th></th>\n",
       "      <th></th>\n",
       "      <th></th>\n",
       "      <th></th>\n",
       "      <th></th>\n",
       "      <th></th>\n",
       "      <th></th>\n",
       "      <th></th>\n",
       "      <th></th>\n",
       "      <th></th>\n",
       "    </tr>\n",
       "  </thead>\n",
       "  <tbody>\n",
       "    <tr>\n",
       "      <th>556daede719158bd83c4b775844d9bcb</th>\n",
       "      <td>1.419100</td>\n",
       "      <td>0.000000</td>\n",
       "      <td>5.335067</td>\n",
       "      <td>1.307954</td>\n",
       "      <td>5.726939</td>\n",
       "      <td>8.972469</td>\n",
       "      <td>0.000000</td>\n",
       "      <td>0.283493</td>\n",
       "      <td>1.520824</td>\n",
       "      <td>1.984347</td>\n",
       "      <td>...</td>\n",
       "      <td>0.026766</td>\n",
       "      <td>3.195892</td>\n",
       "      <td>1.993027</td>\n",
       "      <td>2.479052</td>\n",
       "      <td>0.260208</td>\n",
       "      <td>0.398424</td>\n",
       "      <td>3.709291</td>\n",
       "      <td>0.234797</td>\n",
       "      <td>0.844397</td>\n",
       "      <td>1.038007</td>\n",
       "    </tr>\n",
       "    <tr>\n",
       "      <th>19a845cb10c06885ee147501491a65c9</th>\n",
       "      <td>0.691485</td>\n",
       "      <td>0.000000</td>\n",
       "      <td>18.371063</td>\n",
       "      <td>0.000000</td>\n",
       "      <td>33.490658</td>\n",
       "      <td>1.263164</td>\n",
       "      <td>0.000000</td>\n",
       "      <td>1.107117</td>\n",
       "      <td>22.671600</td>\n",
       "      <td>0.251017</td>\n",
       "      <td>...</td>\n",
       "      <td>1.389739</td>\n",
       "      <td>0.440681</td>\n",
       "      <td>0.736947</td>\n",
       "      <td>2.178701</td>\n",
       "      <td>5.106574</td>\n",
       "      <td>0.045755</td>\n",
       "      <td>0.794699</td>\n",
       "      <td>0.259826</td>\n",
       "      <td>1.885160</td>\n",
       "      <td>3.629787</td>\n",
       "    </tr>\n",
       "    <tr>\n",
       "      <th>181e91cb6caf6739478d06231faa053d</th>\n",
       "      <td>3.465265</td>\n",
       "      <td>17.515654</td>\n",
       "      <td>9.139524</td>\n",
       "      <td>7.594967</td>\n",
       "      <td>12.042945</td>\n",
       "      <td>2.522082</td>\n",
       "      <td>0.000000</td>\n",
       "      <td>0.414698</td>\n",
       "      <td>9.338680</td>\n",
       "      <td>0.055067</td>\n",
       "      <td>...</td>\n",
       "      <td>2.014037</td>\n",
       "      <td>1.377743</td>\n",
       "      <td>0.480559</td>\n",
       "      <td>17.901056</td>\n",
       "      <td>1.967806</td>\n",
       "      <td>5.097197</td>\n",
       "      <td>1.452625</td>\n",
       "      <td>14.936264</td>\n",
       "      <td>1.312257</td>\n",
       "      <td>28.365129</td>\n",
       "    </tr>\n",
       "    <tr>\n",
       "      <th>79a7fb5f7c40be0c75331a0a8558191d</th>\n",
       "      <td>0.000000</td>\n",
       "      <td>4.020119</td>\n",
       "      <td>8.490611</td>\n",
       "      <td>0.008008</td>\n",
       "      <td>25.405817</td>\n",
       "      <td>5.769643</td>\n",
       "      <td>0.246865</td>\n",
       "      <td>0.036183</td>\n",
       "      <td>20.416828</td>\n",
       "      <td>0.000000</td>\n",
       "      <td>...</td>\n",
       "      <td>0.478695</td>\n",
       "      <td>1.666424</td>\n",
       "      <td>0.735093</td>\n",
       "      <td>10.826945</td>\n",
       "      <td>0.000000</td>\n",
       "      <td>0.000000</td>\n",
       "      <td>0.093343</td>\n",
       "      <td>0.033495</td>\n",
       "      <td>0.059183</td>\n",
       "      <td>6.274520</td>\n",
       "    </tr>\n",
       "    <tr>\n",
       "      <th>864dd68d1079dd10a784dbd2ff2c3995</th>\n",
       "      <td>0.000000</td>\n",
       "      <td>2.306849</td>\n",
       "      <td>3.302875</td>\n",
       "      <td>1.441267</td>\n",
       "      <td>9.369179</td>\n",
       "      <td>2.931309</td>\n",
       "      <td>2.411290</td>\n",
       "      <td>1.067827</td>\n",
       "      <td>2.543838</td>\n",
       "      <td>0.870693</td>\n",
       "      <td>...</td>\n",
       "      <td>1.054701</td>\n",
       "      <td>1.667845</td>\n",
       "      <td>0.024694</td>\n",
       "      <td>3.590480</td>\n",
       "      <td>0.190636</td>\n",
       "      <td>0.029709</td>\n",
       "      <td>6.296655</td>\n",
       "      <td>3.398437</td>\n",
       "      <td>4.533296</td>\n",
       "      <td>9.534866</td>\n",
       "    </tr>\n",
       "  </tbody>\n",
       "</table>\n",
       "<p>5 rows × 512 columns</p>\n",
       "</div>"
      ],
      "text/plain": [
       "                                       0          1          2         3    \\\n",
       "id                                                                           \n",
       "556daede719158bd83c4b775844d9bcb  1.419100   0.000000   5.335067  1.307954   \n",
       "19a845cb10c06885ee147501491a65c9  0.691485   0.000000  18.371063  0.000000   \n",
       "181e91cb6caf6739478d06231faa053d  3.465265  17.515654   9.139524  7.594967   \n",
       "79a7fb5f7c40be0c75331a0a8558191d  0.000000   4.020119   8.490611  0.008008   \n",
       "864dd68d1079dd10a784dbd2ff2c3995  0.000000   2.306849   3.302875  1.441267   \n",
       "\n",
       "                                        4         5         6         7    \\\n",
       "id                                                                          \n",
       "556daede719158bd83c4b775844d9bcb   5.726939  8.972469  0.000000  0.283493   \n",
       "19a845cb10c06885ee147501491a65c9  33.490658  1.263164  0.000000  1.107117   \n",
       "181e91cb6caf6739478d06231faa053d  12.042945  2.522082  0.000000  0.414698   \n",
       "79a7fb5f7c40be0c75331a0a8558191d  25.405817  5.769643  0.246865  0.036183   \n",
       "864dd68d1079dd10a784dbd2ff2c3995   9.369179  2.931309  2.411290  1.067827   \n",
       "\n",
       "                                        8         9    ...       502  \\\n",
       "id                                                     ...             \n",
       "556daede719158bd83c4b775844d9bcb   1.520824  1.984347  ...  0.026766   \n",
       "19a845cb10c06885ee147501491a65c9  22.671600  0.251017  ...  1.389739   \n",
       "181e91cb6caf6739478d06231faa053d   9.338680  0.055067  ...  2.014037   \n",
       "79a7fb5f7c40be0c75331a0a8558191d  20.416828  0.000000  ...  0.478695   \n",
       "864dd68d1079dd10a784dbd2ff2c3995   2.543838  0.870693  ...  1.054701   \n",
       "\n",
       "                                       503       504        505       506  \\\n",
       "id                                                                          \n",
       "556daede719158bd83c4b775844d9bcb  3.195892  1.993027   2.479052  0.260208   \n",
       "19a845cb10c06885ee147501491a65c9  0.440681  0.736947   2.178701  5.106574   \n",
       "181e91cb6caf6739478d06231faa053d  1.377743  0.480559  17.901056  1.967806   \n",
       "79a7fb5f7c40be0c75331a0a8558191d  1.666424  0.735093  10.826945  0.000000   \n",
       "864dd68d1079dd10a784dbd2ff2c3995  1.667845  0.024694   3.590480  0.190636   \n",
       "\n",
       "                                       507       508        509       510  \\\n",
       "id                                                                          \n",
       "556daede719158bd83c4b775844d9bcb  0.398424  3.709291   0.234797  0.844397   \n",
       "19a845cb10c06885ee147501491a65c9  0.045755  0.794699   0.259826  1.885160   \n",
       "181e91cb6caf6739478d06231faa053d  5.097197  1.452625  14.936264  1.312257   \n",
       "79a7fb5f7c40be0c75331a0a8558191d  0.000000  0.093343   0.033495  0.059183   \n",
       "864dd68d1079dd10a784dbd2ff2c3995  0.029709  6.296655   3.398437  4.533296   \n",
       "\n",
       "                                        511  \n",
       "id                                           \n",
       "556daede719158bd83c4b775844d9bcb   1.038007  \n",
       "19a845cb10c06885ee147501491a65c9   3.629787  \n",
       "181e91cb6caf6739478d06231faa053d  28.365129  \n",
       "79a7fb5f7c40be0c75331a0a8558191d   6.274520  \n",
       "864dd68d1079dd10a784dbd2ff2c3995   9.534866  \n",
       "\n",
       "[5 rows x 512 columns]"
      ]
     },
     "execution_count": 11,
     "metadata": {},
     "output_type": "execute_result"
    }
   ],
   "source": [
    "X_train.head()"
   ]
  },
  {
   "cell_type": "code",
   "execution_count": 12,
   "metadata": {
    "execution": {
     "iopub.execute_input": "2023-04-27T00:14:35.890328Z",
     "iopub.status.busy": "2023-04-27T00:14:35.890005Z",
     "iopub.status.idle": "2023-04-27T00:14:35.933367Z",
     "shell.execute_reply": "2023-04-27T00:14:35.932490Z",
     "shell.execute_reply.started": "2023-04-27T00:14:35.890297Z"
    }
   },
   "outputs": [
    {
     "data": {
      "text/html": [
       "<div>\n",
       "<style scoped>\n",
       "    .dataframe tbody tr th:only-of-type {\n",
       "        vertical-align: middle;\n",
       "    }\n",
       "\n",
       "    .dataframe tbody tr th {\n",
       "        vertical-align: top;\n",
       "    }\n",
       "\n",
       "    .dataframe thead th {\n",
       "        text-align: right;\n",
       "    }\n",
       "</style>\n",
       "<table border=\"1\" class=\"dataframe\">\n",
       "  <thead>\n",
       "    <tr style=\"text-align: right;\">\n",
       "      <th></th>\n",
       "      <th>affenpinscher</th>\n",
       "      <th>afghan_hound</th>\n",
       "      <th>african_hunting_dog</th>\n",
       "      <th>airedale</th>\n",
       "      <th>american_staffordshire_terrier</th>\n",
       "      <th>appenzeller</th>\n",
       "      <th>australian_terrier</th>\n",
       "      <th>basenji</th>\n",
       "      <th>basset</th>\n",
       "      <th>beagle</th>\n",
       "      <th>...</th>\n",
       "      <th>toy_poodle</th>\n",
       "      <th>toy_terrier</th>\n",
       "      <th>vizsla</th>\n",
       "      <th>walker_hound</th>\n",
       "      <th>weimaraner</th>\n",
       "      <th>welsh_springer_spaniel</th>\n",
       "      <th>west_highland_white_terrier</th>\n",
       "      <th>whippet</th>\n",
       "      <th>wire-haired_fox_terrier</th>\n",
       "      <th>yorkshire_terrier</th>\n",
       "    </tr>\n",
       "    <tr>\n",
       "      <th>id</th>\n",
       "      <th></th>\n",
       "      <th></th>\n",
       "      <th></th>\n",
       "      <th></th>\n",
       "      <th></th>\n",
       "      <th></th>\n",
       "      <th></th>\n",
       "      <th></th>\n",
       "      <th></th>\n",
       "      <th></th>\n",
       "      <th></th>\n",
       "      <th></th>\n",
       "      <th></th>\n",
       "      <th></th>\n",
       "      <th></th>\n",
       "      <th></th>\n",
       "      <th></th>\n",
       "      <th></th>\n",
       "      <th></th>\n",
       "      <th></th>\n",
       "      <th></th>\n",
       "    </tr>\n",
       "  </thead>\n",
       "  <tbody>\n",
       "    <tr>\n",
       "      <th>556daede719158bd83c4b775844d9bcb</th>\n",
       "      <td>0</td>\n",
       "      <td>0</td>\n",
       "      <td>0</td>\n",
       "      <td>0</td>\n",
       "      <td>0</td>\n",
       "      <td>0</td>\n",
       "      <td>0</td>\n",
       "      <td>0</td>\n",
       "      <td>0</td>\n",
       "      <td>0</td>\n",
       "      <td>...</td>\n",
       "      <td>0</td>\n",
       "      <td>1</td>\n",
       "      <td>0</td>\n",
       "      <td>0</td>\n",
       "      <td>0</td>\n",
       "      <td>0</td>\n",
       "      <td>0</td>\n",
       "      <td>0</td>\n",
       "      <td>0</td>\n",
       "      <td>0</td>\n",
       "    </tr>\n",
       "    <tr>\n",
       "      <th>19a845cb10c06885ee147501491a65c9</th>\n",
       "      <td>0</td>\n",
       "      <td>0</td>\n",
       "      <td>0</td>\n",
       "      <td>0</td>\n",
       "      <td>0</td>\n",
       "      <td>0</td>\n",
       "      <td>0</td>\n",
       "      <td>0</td>\n",
       "      <td>0</td>\n",
       "      <td>0</td>\n",
       "      <td>...</td>\n",
       "      <td>0</td>\n",
       "      <td>0</td>\n",
       "      <td>0</td>\n",
       "      <td>0</td>\n",
       "      <td>0</td>\n",
       "      <td>0</td>\n",
       "      <td>0</td>\n",
       "      <td>0</td>\n",
       "      <td>0</td>\n",
       "      <td>0</td>\n",
       "    </tr>\n",
       "    <tr>\n",
       "      <th>181e91cb6caf6739478d06231faa053d</th>\n",
       "      <td>0</td>\n",
       "      <td>0</td>\n",
       "      <td>0</td>\n",
       "      <td>0</td>\n",
       "      <td>0</td>\n",
       "      <td>0</td>\n",
       "      <td>0</td>\n",
       "      <td>0</td>\n",
       "      <td>0</td>\n",
       "      <td>0</td>\n",
       "      <td>...</td>\n",
       "      <td>0</td>\n",
       "      <td>0</td>\n",
       "      <td>0</td>\n",
       "      <td>0</td>\n",
       "      <td>0</td>\n",
       "      <td>0</td>\n",
       "      <td>0</td>\n",
       "      <td>0</td>\n",
       "      <td>0</td>\n",
       "      <td>0</td>\n",
       "    </tr>\n",
       "    <tr>\n",
       "      <th>79a7fb5f7c40be0c75331a0a8558191d</th>\n",
       "      <td>0</td>\n",
       "      <td>0</td>\n",
       "      <td>0</td>\n",
       "      <td>0</td>\n",
       "      <td>0</td>\n",
       "      <td>0</td>\n",
       "      <td>0</td>\n",
       "      <td>0</td>\n",
       "      <td>0</td>\n",
       "      <td>0</td>\n",
       "      <td>...</td>\n",
       "      <td>0</td>\n",
       "      <td>0</td>\n",
       "      <td>0</td>\n",
       "      <td>0</td>\n",
       "      <td>0</td>\n",
       "      <td>0</td>\n",
       "      <td>0</td>\n",
       "      <td>0</td>\n",
       "      <td>0</td>\n",
       "      <td>0</td>\n",
       "    </tr>\n",
       "    <tr>\n",
       "      <th>864dd68d1079dd10a784dbd2ff2c3995</th>\n",
       "      <td>0</td>\n",
       "      <td>0</td>\n",
       "      <td>0</td>\n",
       "      <td>0</td>\n",
       "      <td>0</td>\n",
       "      <td>0</td>\n",
       "      <td>0</td>\n",
       "      <td>0</td>\n",
       "      <td>0</td>\n",
       "      <td>0</td>\n",
       "      <td>...</td>\n",
       "      <td>0</td>\n",
       "      <td>0</td>\n",
       "      <td>0</td>\n",
       "      <td>0</td>\n",
       "      <td>0</td>\n",
       "      <td>0</td>\n",
       "      <td>0</td>\n",
       "      <td>0</td>\n",
       "      <td>0</td>\n",
       "      <td>0</td>\n",
       "    </tr>\n",
       "  </tbody>\n",
       "</table>\n",
       "<p>5 rows × 120 columns</p>\n",
       "</div>"
      ],
      "text/plain": [
       "                                  affenpinscher  afghan_hound  \\\n",
       "id                                                              \n",
       "556daede719158bd83c4b775844d9bcb              0             0   \n",
       "19a845cb10c06885ee147501491a65c9              0             0   \n",
       "181e91cb6caf6739478d06231faa053d              0             0   \n",
       "79a7fb5f7c40be0c75331a0a8558191d              0             0   \n",
       "864dd68d1079dd10a784dbd2ff2c3995              0             0   \n",
       "\n",
       "                                  african_hunting_dog  airedale  \\\n",
       "id                                                                \n",
       "556daede719158bd83c4b775844d9bcb                    0         0   \n",
       "19a845cb10c06885ee147501491a65c9                    0         0   \n",
       "181e91cb6caf6739478d06231faa053d                    0         0   \n",
       "79a7fb5f7c40be0c75331a0a8558191d                    0         0   \n",
       "864dd68d1079dd10a784dbd2ff2c3995                    0         0   \n",
       "\n",
       "                                  american_staffordshire_terrier  appenzeller  \\\n",
       "id                                                                              \n",
       "556daede719158bd83c4b775844d9bcb                               0            0   \n",
       "19a845cb10c06885ee147501491a65c9                               0            0   \n",
       "181e91cb6caf6739478d06231faa053d                               0            0   \n",
       "79a7fb5f7c40be0c75331a0a8558191d                               0            0   \n",
       "864dd68d1079dd10a784dbd2ff2c3995                               0            0   \n",
       "\n",
       "                                  australian_terrier  basenji  basset  beagle  \\\n",
       "id                                                                              \n",
       "556daede719158bd83c4b775844d9bcb                   0        0       0       0   \n",
       "19a845cb10c06885ee147501491a65c9                   0        0       0       0   \n",
       "181e91cb6caf6739478d06231faa053d                   0        0       0       0   \n",
       "79a7fb5f7c40be0c75331a0a8558191d                   0        0       0       0   \n",
       "864dd68d1079dd10a784dbd2ff2c3995                   0        0       0       0   \n",
       "\n",
       "                                  ...  toy_poodle  toy_terrier  vizsla  \\\n",
       "id                                ...                                    \n",
       "556daede719158bd83c4b775844d9bcb  ...           0            1       0   \n",
       "19a845cb10c06885ee147501491a65c9  ...           0            0       0   \n",
       "181e91cb6caf6739478d06231faa053d  ...           0            0       0   \n",
       "79a7fb5f7c40be0c75331a0a8558191d  ...           0            0       0   \n",
       "864dd68d1079dd10a784dbd2ff2c3995  ...           0            0       0   \n",
       "\n",
       "                                  walker_hound  weimaraner  \\\n",
       "id                                                           \n",
       "556daede719158bd83c4b775844d9bcb             0           0   \n",
       "19a845cb10c06885ee147501491a65c9             0           0   \n",
       "181e91cb6caf6739478d06231faa053d             0           0   \n",
       "79a7fb5f7c40be0c75331a0a8558191d             0           0   \n",
       "864dd68d1079dd10a784dbd2ff2c3995             0           0   \n",
       "\n",
       "                                  welsh_springer_spaniel  \\\n",
       "id                                                         \n",
       "556daede719158bd83c4b775844d9bcb                       0   \n",
       "19a845cb10c06885ee147501491a65c9                       0   \n",
       "181e91cb6caf6739478d06231faa053d                       0   \n",
       "79a7fb5f7c40be0c75331a0a8558191d                       0   \n",
       "864dd68d1079dd10a784dbd2ff2c3995                       0   \n",
       "\n",
       "                                  west_highland_white_terrier  whippet  \\\n",
       "id                                                                       \n",
       "556daede719158bd83c4b775844d9bcb                            0        0   \n",
       "19a845cb10c06885ee147501491a65c9                            0        0   \n",
       "181e91cb6caf6739478d06231faa053d                            0        0   \n",
       "79a7fb5f7c40be0c75331a0a8558191d                            0        0   \n",
       "864dd68d1079dd10a784dbd2ff2c3995                            0        0   \n",
       "\n",
       "                                  wire-haired_fox_terrier  yorkshire_terrier  \n",
       "id                                                                            \n",
       "556daede719158bd83c4b775844d9bcb                        0                  0  \n",
       "19a845cb10c06885ee147501491a65c9                        0                  0  \n",
       "181e91cb6caf6739478d06231faa053d                        0                  0  \n",
       "79a7fb5f7c40be0c75331a0a8558191d                        0                  0  \n",
       "864dd68d1079dd10a784dbd2ff2c3995                        0                  0  \n",
       "\n",
       "[5 rows x 120 columns]"
      ]
     },
     "execution_count": 12,
     "metadata": {},
     "output_type": "execute_result"
    }
   ],
   "source": [
    "y_train.head()"
   ]
  },
  {
   "cell_type": "markdown",
   "metadata": {},
   "source": [
    "# Fit the model"
   ]
  },
  {
   "cell_type": "code",
   "execution_count": 13,
   "metadata": {
    "execution": {
     "iopub.execute_input": "2023-04-27T00:14:35.939145Z",
     "iopub.status.busy": "2023-04-27T00:14:35.938014Z",
     "iopub.status.idle": "2023-04-27T00:15:12.556553Z",
     "shell.execute_reply": "2023-04-27T00:15:12.554745Z",
     "shell.execute_reply.started": "2023-04-27T00:14:35.939099Z"
    }
   },
   "outputs": [
    {
     "data": {
      "text/plain": [
       "<keras.callbacks.History at 0x70348d98e850>"
      ]
     },
     "execution_count": 13,
     "metadata": {},
     "output_type": "execute_result"
    }
   ],
   "source": [
    "final_model.fit(X_train, np.asarray(y_train), epochs=150, batch_size=BATCH_SIZE, verbose=False)"
   ]
  },
  {
   "cell_type": "markdown",
   "metadata": {},
   "source": [
    "# Make predictions"
   ]
  },
  {
   "cell_type": "code",
   "execution_count": 14,
   "metadata": {
    "execution": {
     "iopub.execute_input": "2023-04-27T00:15:12.558762Z",
     "iopub.status.busy": "2023-04-27T00:15:12.558050Z",
     "iopub.status.idle": "2023-04-27T00:15:12.844902Z",
     "shell.execute_reply": "2023-04-27T00:15:12.843972Z",
     "shell.execute_reply.started": "2023-04-27T00:15:12.558729Z"
    }
   },
   "outputs": [
    {
     "data": {
      "text/plain": [
       "0        66\n",
       "1       100\n",
       "2        27\n",
       "3        99\n",
       "4        66\n",
       "       ... \n",
       "2040     69\n",
       "2041    117\n",
       "2042     56\n",
       "2043     35\n",
       "2044     66\n",
       "Length: 2045, dtype: int64"
      ]
     },
     "execution_count": 14,
     "metadata": {},
     "output_type": "execute_result"
    }
   ],
   "source": [
    "y_pred = pd.DataFrame(final_model.predict(X_test))\n",
    "\n",
    "y_pred = y_pred.idxmax(axis=1)\n",
    "y_pred"
   ]
  },
  {
   "cell_type": "code",
   "execution_count": 15,
   "metadata": {
    "execution": {
     "iopub.execute_input": "2023-04-27T00:15:12.847896Z",
     "iopub.status.busy": "2023-04-27T00:15:12.846450Z",
     "iopub.status.idle": "2023-04-27T00:15:12.867625Z",
     "shell.execute_reply": "2023-04-27T00:15:12.866730Z",
     "shell.execute_reply.started": "2023-04-27T00:15:12.847846Z"
    }
   },
   "outputs": [
    {
     "data": {
      "text/plain": [
       "['kuvasz',\n",
       " 'shih-tzu',\n",
       " 'cardigan',\n",
       " 'shetland_sheepdog',\n",
       " 'kuvasz',\n",
       " 'basenji',\n",
       " 'maltese_dog',\n",
       " 'dandie_dinmont',\n",
       " 'boxer',\n",
       " 'keeshond']"
      ]
     },
     "execution_count": 15,
     "metadata": {},
     "output_type": "execute_result"
    }
   ],
   "source": [
    "preds = []\n",
    "for i in range(len(y_pred)):\n",
    "    preds.append(y.columns[y_pred[i]])    \n",
    "    \n",
    "preds[:10]"
   ]
  },
  {
   "cell_type": "code",
   "execution_count": 16,
   "metadata": {
    "execution": {
     "iopub.execute_input": "2023-04-27T00:15:12.869800Z",
     "iopub.status.busy": "2023-04-27T00:15:12.869284Z",
     "iopub.status.idle": "2023-04-27T00:15:13.402944Z",
     "shell.execute_reply": "2023-04-27T00:15:13.400916Z",
     "shell.execute_reply.started": "2023-04-27T00:15:12.869755Z"
    }
   },
   "outputs": [
    {
     "data": {
      "text/plain": [
       "['english_setter',\n",
       " 'shih-tzu',\n",
       " 'cardigan',\n",
       " 'shetland_sheepdog',\n",
       " 'kuvasz',\n",
       " 'basenji',\n",
       " 'lhasa',\n",
       " 'dandie_dinmont',\n",
       " 'american_staffordshire_terrier',\n",
       " 'norwegian_elkhound']"
      ]
     },
     "execution_count": 16,
     "metadata": {},
     "output_type": "execute_result"
    }
   ],
   "source": [
    "testing_labels = list(y_test.idxmax(axis=1))\n",
    "testing_labels[:10]"
   ]
  },
  {
   "cell_type": "markdown",
   "metadata": {},
   "source": [
    "# Calculating the accuracy"
   ]
  },
  {
   "cell_type": "code",
   "execution_count": 17,
   "metadata": {
    "execution": {
     "iopub.execute_input": "2023-04-27T00:15:13.404783Z",
     "iopub.status.busy": "2023-04-27T00:15:13.404412Z",
     "iopub.status.idle": "2023-04-27T00:15:13.421981Z",
     "shell.execute_reply": "2023-04-27T00:15:13.421269Z",
     "shell.execute_reply.started": "2023-04-27T00:15:13.404749Z"
    }
   },
   "outputs": [
    {
     "data": {
      "text/plain": [
       "'Accuracy of the model using the above data is 64.21%'"
      ]
     },
     "execution_count": 17,
     "metadata": {},
     "output_type": "execute_result"
    }
   ],
   "source": [
    "correct_predictions_count = 0\n",
    "for i in range(len(testing_labels)):\n",
    "    if testing_labels[i] == preds[i]:\n",
    "        correct_predictions_count += 1\n",
    "        \n",
    "f\"Accuracy of the model using the above data is {correct_predictions_count / len(testing_labels) * 100 :.2f}%\""
   ]
  }
 ],
 "metadata": {
  "kernelspec": {
   "display_name": "Python 3 (ipykernel)",
   "language": "python",
   "name": "python3"
  },
  "language_info": {
   "codemirror_mode": {
    "name": "ipython",
    "version": 3
   },
   "file_extension": ".py",
   "mimetype": "text/x-python",
   "name": "python",
   "nbconvert_exporter": "python",
   "pygments_lexer": "ipython3",
   "version": "3.9.0"
  },
  "varInspector": {
   "cols": {
    "lenName": 16,
    "lenType": 16,
    "lenVar": 40
   },
   "kernels_config": {
    "python": {
     "delete_cmd_postfix": "",
     "delete_cmd_prefix": "del ",
     "library": "var_list.py",
     "varRefreshCmd": "print(var_dic_list())"
    },
    "r": {
     "delete_cmd_postfix": ") ",
     "delete_cmd_prefix": "rm(",
     "library": "var_list.r",
     "varRefreshCmd": "cat(var_dic_list()) "
    }
   },
   "types_to_exclude": [
    "module",
    "function",
    "builtin_function_or_method",
    "instance",
    "_Feature"
   ],
   "window_display": false
  }
 },
 "nbformat": 4,
 "nbformat_minor": 4
}
